{
  "nbformat": 4,
  "nbformat_minor": 0,
  "metadata": {
    "colab": {
      "name": "SPACES_TEXTSUMMARY.ipynb",
      "provenance": [],
      "collapsed_sections": [],
      "machine_shape": "hm"
    },
    "kernelspec": {
      "name": "python3",
      "display_name": "Python 3"
    },
    "language_info": {
      "name": "python"
    },
    "accelerator": "GPU"
  },
  "cells": [
    {
      "cell_type": "markdown",
      "metadata": {
        "id": "pj7qdgHDuOOR"
      },
      "source": [
        "**https://github.com/bojone/SPACES**"
      ]
    },
    {
      "cell_type": "code",
      "metadata": {
        "id": "5X5l6vzbaveB",
        "colab": {
          "base_uri": "https://localhost:8080/"
        },
        "outputId": "bd2fec4b-a9d4-4f2a-949f-d439ebb93598"
      },
      "source": [
        "# ! git clone https://github.com/bojone/SPACES.git\n",
        "! git clone https://github.com/dlxj/SPACES.git"
      ],
      "execution_count": null,
      "outputs": [
        {
          "output_type": "stream",
          "text": [
            "Cloning into 'SPACES'...\n",
            "remote: Enumerating objects: 94, done.\u001b[K\n",
            "remote: Counting objects: 100% (94/94), done.\u001b[K\n",
            "remote: Compressing objects: 100% (71/71), done.\u001b[K\n",
            "remote: Total 94 (delta 40), reused 71 (delta 21), pack-reused 0\u001b[K\n",
            "Unpacking objects: 100% (94/94), done.\n"
          ],
          "name": "stdout"
        }
      ]
    },
    {
      "cell_type": "code",
      "metadata": {
        "id": "Z5uPN2AMeS6R",
        "colab": {
          "base_uri": "https://localhost:8080/"
        },
        "outputId": "4f9036b6-011f-45cb-b24c-aa8c60713bff"
      },
      "source": [
        "from google.colab import drive\n",
        "drive.mount('/content/gdrive')\n",
        "! gdown --id '1jMAKIJmPn7kADgD3yQZhpsqM-IRM1qZt' #--output data.zip\n",
        "! gdown --id '1k-dz9n-HPzUC_X1SPOB9HD2m9pV_g5Fv'\n",
        "! unzip ./chinese_roberta_wwm_ext_L-12_H-768_A-12.zip -d ./chinese_roberta_wwm_ext_L-12_H-768_A-12\n",
        "! unzip ./NEZHA-Base.zip"
      ],
      "execution_count": null,
      "outputs": [
        {
          "output_type": "stream",
          "text": [
            "Mounted at /content/gdrive\n",
            "Downloading...\n",
            "From: https://drive.google.com/uc?id=1jMAKIJmPn7kADgD3yQZhpsqM-IRM1qZt\n",
            "To: /content/chinese_roberta_wwm_ext_L-12_H-768_A-12.zip\n",
            "382MB [00:03, 126MB/s]\n",
            "Downloading...\n",
            "From: https://drive.google.com/uc?id=1k-dz9n-HPzUC_X1SPOB9HD2m9pV_g5Fv\n",
            "To: /content/NEZHA-Base.zip\n",
            "1.12GB [00:12, 88.7MB/s]\n",
            "Archive:  ./chinese_roberta_wwm_ext_L-12_H-768_A-12.zip\n",
            "  inflating: ./chinese_roberta_wwm_ext_L-12_H-768_A-12/bert_config.json  \n",
            "  inflating: ./chinese_roberta_wwm_ext_L-12_H-768_A-12/bert_model.ckpt.data-00000-of-00001  \n",
            "  inflating: ./chinese_roberta_wwm_ext_L-12_H-768_A-12/bert_model.ckpt.index  \n",
            "  inflating: ./chinese_roberta_wwm_ext_L-12_H-768_A-12/bert_model.ckpt.meta  \n",
            "  inflating: ./chinese_roberta_wwm_ext_L-12_H-768_A-12/vocab.txt  \n",
            "Archive:  ./NEZHA-Base.zip\n",
            "   creating: NEZHA-Base/\n",
            "  inflating: NEZHA-Base/bert_config.json  \n",
            "  inflating: NEZHA-Base/model.ckpt-900000.data-00000-of-00001  \n",
            "  inflating: NEZHA-Base/model.ckpt-900000.index  \n",
            "  inflating: NEZHA-Base/model.ckpt-900000.meta  \n",
            "  inflating: NEZHA-Base/vocab.txt    \n"
          ],
          "name": "stdout"
        }
      ]
    },
    {
      "cell_type": "code",
      "metadata": {
        "id": "7YNCShnCew1u",
        "colab": {
          "base_uri": "https://localhost:8080/"
        },
        "outputId": "c4cdb62b-0553-4dfe-f088-9b1f482d7213"
      },
      "source": [
        "! pip install bert4keras==0.9.7\n",
        "! pip install keras==2.3.1\n",
        "! pip install rouge jieba"
      ],
      "execution_count": null,
      "outputs": [
        {
          "output_type": "stream",
          "text": [
            "Collecting bert4keras==0.9.7\n",
            "\u001b[?25l  Downloading https://files.pythonhosted.org/packages/38/bd/acb933644c7c205a487f2982e073a16553db3428b8fa903bd74151931000/bert4keras-0.9.7.tar.gz (45kB)\n",
            "\u001b[K     |████████████████████████████████| 51kB 5.5MB/s \n",
            "\u001b[?25hCollecting keras<=2.3.1\n",
            "\u001b[?25l  Downloading https://files.pythonhosted.org/packages/ad/fd/6bfe87920d7f4fd475acd28500a42482b6b84479832bdc0fe9e589a60ceb/Keras-2.3.1-py2.py3-none-any.whl (377kB)\n",
            "\u001b[K     |████████████████████████████████| 378kB 16.3MB/s \n",
            "\u001b[?25hCollecting keras-applications>=1.0.6\n",
            "\u001b[?25l  Downloading https://files.pythonhosted.org/packages/71/e3/19762fdfc62877ae9102edf6342d71b28fbfd9dea3d2f96a882ce099b03f/Keras_Applications-1.0.8-py3-none-any.whl (50kB)\n",
            "\u001b[K     |████████████████████████████████| 51kB 7.3MB/s \n",
            "\u001b[?25hRequirement already satisfied: h5py in /usr/local/lib/python3.7/dist-packages (from keras<=2.3.1->bert4keras==0.9.7) (2.10.0)\n",
            "Requirement already satisfied: keras-preprocessing>=1.0.5 in /usr/local/lib/python3.7/dist-packages (from keras<=2.3.1->bert4keras==0.9.7) (1.1.2)\n",
            "Requirement already satisfied: six>=1.9.0 in /usr/local/lib/python3.7/dist-packages (from keras<=2.3.1->bert4keras==0.9.7) (1.15.0)\n",
            "Requirement already satisfied: scipy>=0.14 in /usr/local/lib/python3.7/dist-packages (from keras<=2.3.1->bert4keras==0.9.7) (1.4.1)\n",
            "Requirement already satisfied: numpy>=1.9.1 in /usr/local/lib/python3.7/dist-packages (from keras<=2.3.1->bert4keras==0.9.7) (1.19.5)\n",
            "Requirement already satisfied: pyyaml in /usr/local/lib/python3.7/dist-packages (from keras<=2.3.1->bert4keras==0.9.7) (3.13)\n",
            "Building wheels for collected packages: bert4keras\n",
            "  Building wheel for bert4keras (setup.py) ... \u001b[?25l\u001b[?25hdone\n",
            "  Created wheel for bert4keras: filename=bert4keras-0.9.7-cp37-none-any.whl size=43299 sha256=562273922bd8eb369aefa97ef6adbbb68345f8b44359ab175100561844461688\n",
            "  Stored in directory: /root/.cache/pip/wheels/71/7b/06/4b4bca2005cfccd3a157cb012d1f91a83c252442c9358c238c\n",
            "Successfully built bert4keras\n",
            "Installing collected packages: keras-applications, keras, bert4keras\n",
            "  Found existing installation: Keras 2.4.3\n",
            "    Uninstalling Keras-2.4.3:\n",
            "      Successfully uninstalled Keras-2.4.3\n",
            "Successfully installed bert4keras-0.9.7 keras-2.3.1 keras-applications-1.0.8\n",
            "Requirement already satisfied: keras==2.3.1 in /usr/local/lib/python3.7/dist-packages (2.3.1)\n",
            "Requirement already satisfied: h5py in /usr/local/lib/python3.7/dist-packages (from keras==2.3.1) (2.10.0)\n",
            "Requirement already satisfied: numpy>=1.9.1 in /usr/local/lib/python3.7/dist-packages (from keras==2.3.1) (1.19.5)\n",
            "Requirement already satisfied: keras-preprocessing>=1.0.5 in /usr/local/lib/python3.7/dist-packages (from keras==2.3.1) (1.1.2)\n",
            "Requirement already satisfied: pyyaml in /usr/local/lib/python3.7/dist-packages (from keras==2.3.1) (3.13)\n",
            "Requirement already satisfied: scipy>=0.14 in /usr/local/lib/python3.7/dist-packages (from keras==2.3.1) (1.4.1)\n",
            "Requirement already satisfied: keras-applications>=1.0.6 in /usr/local/lib/python3.7/dist-packages (from keras==2.3.1) (1.0.8)\n",
            "Requirement already satisfied: six>=1.9.0 in /usr/local/lib/python3.7/dist-packages (from keras==2.3.1) (1.15.0)\n",
            "Collecting rouge\n",
            "  Downloading https://files.pythonhosted.org/packages/43/cc/e18e33be20971ff73a056ebdb023476b5a545e744e3fc22acd8c758f1e0d/rouge-1.0.0-py3-none-any.whl\n",
            "Requirement already satisfied: jieba in /usr/local/lib/python3.7/dist-packages (0.42.1)\n",
            "Requirement already satisfied: six in /usr/local/lib/python3.7/dist-packages (from rouge) (1.15.0)\n",
            "Installing collected packages: rouge\n",
            "Successfully installed rouge-1.0.0\n"
          ],
          "name": "stdout"
        }
      ]
    },
    {
      "cell_type": "code",
      "metadata": {
        "id": "V3jWI3YjtoJU",
        "colab": {
          "base_uri": "https://localhost:8080/"
        },
        "outputId": "bca5c142-c0ce-46b6-e5ef-43c58b23e6f7"
      },
      "source": [
        "import os\n",
        "#os.environ[\"TF_KERAS\"] = '1'  # 关键配置，出错的时侯切换试试\n",
        "%tensorflow_version 1.14"
      ],
      "execution_count": null,
      "outputs": [
        {
          "output_type": "stream",
          "text": [
            "`%tensorflow_version` only switches the major version: 1.x or 2.x.\n",
            "You set: `1.14`. This will be interpreted as: `1.x`.\n",
            "\n",
            "\n",
            "TensorFlow 1.x selected.\n"
          ],
          "name": "stdout"
        }
      ]
    },
    {
      "cell_type": "code",
      "metadata": {
        "id": "1r12-slJxNmr",
        "colab": {
          "base_uri": "https://localhost:8080/"
        },
        "outputId": "0f0fcab7-7c4b-4ad0-dd5d-b9e6b7c3aec1"
      },
      "source": [
        "#! -*- coding: utf-8 -*-\n",
        "# 法研杯2020 司法摘要\n",
        "# 工具代码合集\n",
        "# 注：最好写绝对路径，否则可能出现无法预料的错误。\n",
        "# 科学空间：https://kexue.fm\n",
        "\n",
        "import numpy as np\n",
        "from rouge import Rouge\n",
        "import os, sys\n",
        "import jieba\n",
        "from bert4keras.snippets import open\n",
        "\n",
        "# 自定义词典\n",
        "user_dict_path = './SPACES/datasets/user_dict.txt'\n",
        "user_dict_path_2 = './SPACES/datasets/user_dict_2.txt'\n",
        "jieba.load_userdict(user_dict_path)\n",
        "jieba.initialize()\n",
        "\n",
        "# 设置递归深度\n",
        "sys.setrecursionlimit(1000000)\n",
        "\n",
        "# 标注数据\n",
        "data_json = './SPACES/datasets/train.json'\n",
        "\n",
        "# 保存权重的文件夹\n",
        "if not os.path.exists('weights'):\n",
        "    os.mkdir('weights')\n",
        "\n",
        "# bert配置\n",
        "config_path = './chinese_roberta_wwm_ext_L-12_H-768_A-12/bert_config.json' # './BERT/chinese_roberta_wwm_ext_L-12_H-768_A-12/bert_config.json'\n",
        "checkpoint_path = './chinese_roberta_wwm_ext_L-12_H-768_A-12/bert_model.ckpt'\n",
        "dict_path = './chinese_roberta_wwm_ext_L-12_H-768_A-12/vocab.txt'\n",
        "\n",
        "# nezha配置\n",
        "nezha_config_path = './NEZHA-Base/bert_config.json'\n",
        "nezha_checkpoint_path = './NEZHA-Base/model.ckpt-900000'\n",
        "nezha_dict_path = './NEZHA-Base/vocab.txt'\n",
        "\n",
        "# 将数据划分N份，一份作为验证集\n",
        "# import pdb; pdb.set_trace();\n",
        "num_folds = 15\n",
        "\n",
        "# 指标名\n",
        "metric_keys = ['main', 'rouge-1', 'rouge-2', 'rouge-l']\n",
        "\n",
        "# 计算rouge用\n",
        "rouge = Rouge()\n",
        "\n",
        "\n",
        "def load_user_dict(filename):\n",
        "    \"\"\"加载用户词典\n",
        "    \"\"\"\n",
        "    user_dict = []\n",
        "    with open(filename, encoding='utf-8') as f:\n",
        "        for l in f:\n",
        "            w = l.split()[0]\n",
        "            user_dict.append(w)\n",
        "    return user_dict\n",
        "\n",
        "\n",
        "def data_split(data, fold, num_folds, mode):\n",
        "    \"\"\"划分训练集和验证集\n",
        "    \"\"\"\n",
        "    if mode == 'train':\n",
        "        D = [d for i, d in enumerate(data) if i % num_folds != fold]\n",
        "    else:\n",
        "        D = [d for i, d in enumerate(data) if i % num_folds == fold]\n",
        "\n",
        "    if isinstance(data, np.ndarray):\n",
        "        return np.array(D)\n",
        "    else:\n",
        "        return D\n",
        "\n",
        "\n",
        "def compute_rouge(source, target, unit='word'):\n",
        "    \"\"\"计算rouge-1、rouge-2、rouge-l\n",
        "    \"\"\"\n",
        "    if unit == 'word':\n",
        "        source = jieba.cut(source, HMM=False)\n",
        "        target = jieba.cut(target, HMM=False)\n",
        "    source, target = ' '.join(source), ' '.join(target)\n",
        "    try:\n",
        "        scores = rouge.get_scores(hyps=source, refs=target)\n",
        "        return {\n",
        "            'rouge-1': scores[0]['rouge-1']['f'],\n",
        "            'rouge-2': scores[0]['rouge-2']['f'],\n",
        "            'rouge-l': scores[0]['rouge-l']['f'],\n",
        "        }\n",
        "    except ValueError:\n",
        "        return {\n",
        "            'rouge-1': 0.0,\n",
        "            'rouge-2': 0.0,\n",
        "            'rouge-l': 0.0,\n",
        "        }\n",
        "\n",
        "\n",
        "def compute_metrics(source, target, unit='word'):\n",
        "    \"\"\"计算所有metrics\n",
        "    \"\"\"\n",
        "    metrics = compute_rouge(source, target, unit)\n",
        "    metrics['main'] = (\n",
        "        metrics['rouge-1'] * 0.2 + metrics['rouge-2'] * 0.4 +\n",
        "        metrics['rouge-l'] * 0.4\n",
        "    )\n",
        "    return metrics\n",
        "\n",
        "\n",
        "def compute_main_metric(source, target, unit='word'):\n",
        "    \"\"\"计算主要metric\n",
        "    \"\"\"\n",
        "    return compute_metrics(source, target, unit)['main']\n"
      ],
      "execution_count": null,
      "outputs": [
        {
          "output_type": "stream",
          "text": [
            "Using TensorFlow backend.\n",
            "Building prefix dict from the default dictionary ...\n",
            "Dumping model to file cache /tmp/jieba.cache\n",
            "Loading model cost 0.811 seconds.\n",
            "Prefix dict has been built successfully.\n"
          ],
          "name": "stderr"
        }
      ]
    },
    {
      "cell_type": "code",
      "metadata": {
        "id": "wjKoXJeY1eJW",
        "colab": {
          "base_uri": "https://localhost:8080/"
        },
        "outputId": "474aafae-2e6f-4139-f35c-cc8352c450b5"
      },
      "source": [
        "#! -*- coding: utf-8 -*-\n",
        "# 法研杯2020 司法摘要\n",
        "# 抽取式：数据转换\n",
        "# 科学空间：https://kexue.fm\n",
        "\n",
        "import os\n",
        "import json\n",
        "import numpy as np\n",
        "from tqdm import tqdm\n",
        "from bert4keras.snippets import open\n",
        "from bert4keras.snippets import text_segmentate\n",
        "from bert4keras.snippets import parallel_apply\n",
        "#from snippets import *\n",
        "\n",
        "# 初始化\n",
        "maxlen = 256\n",
        "\n",
        "\n",
        "def text_split(text, limited=True):\n",
        "    \"\"\"将长句按照标点分割为多个子句。\n",
        "    \"\"\"\n",
        "    texts = text_segmentate(text, 1, u'\\n。；：，')\n",
        "    if limited:\n",
        "        texts = texts[-maxlen:]\n",
        "    return texts\n",
        "\n",
        "\n",
        "def extract_matching(texts, summaries, start_i=0, start_j=0):\n",
        "    \"\"\"在texts中找若干句子，使得它们连起来与summaries尽可能相似\n",
        "    算法：texts和summaries都分句，然后找出summaries最长的句子，在texts\n",
        "          中找与之最相似的句子作为匹配，剩下部分递归执行。\n",
        "    \"\"\"\n",
        "    if len(texts) == 0 or len(summaries) == 0:\n",
        "        return []\n",
        "    i = np.argmax([len(s) for s in summaries])\n",
        "    j = np.argmax([compute_main_metric(t, summaries[i], 'char') for t in texts])\n",
        "    lm = extract_matching(texts[:j + 1], summaries[:i], start_i, start_j)\n",
        "    rm = extract_matching(\n",
        "        texts[j:], summaries[i + 1:], start_i + i + 1, start_j + j\n",
        "    )\n",
        "    return lm + [(start_i + i, start_j + j)] + rm\n",
        "\n",
        "\n",
        "def extract_flow(inputs):\n",
        "    \"\"\"单个样本的构建流（给parallel_apply用）\n",
        "    \"\"\"\n",
        "    text, summary = inputs\n",
        "    texts = text_split(text, True)  # 取后maxlen句\n",
        "    summaries = text_split(summary, False)\n",
        "    mapping = extract_matching(texts, summaries)\n",
        "    labels = sorted(set([i[1] for i in mapping]))\n",
        "    pred_summary = ''.join([texts[i] for i in labels])\n",
        "    metric = compute_main_metric(pred_summary, summary)\n",
        "    return texts, labels, summary, metric\n",
        "\n",
        "\n",
        "def load_data(filename):\n",
        "    \"\"\"加载数据\n",
        "    返回：[(text, summary)]\n",
        "    \"\"\"\n",
        "    D = []\n",
        "    with open(filename, encoding='utf-8') as f:\n",
        "        for l in f:\n",
        "            l = json.loads(l)\n",
        "            text = '\\n'.join([d['sentence'] for d in l['text']])\n",
        "            D.append((text, l['summary']))\n",
        "    return D\n",
        "\n",
        "\n",
        "def convert(data):\n",
        "    \"\"\"分句，并转换为抽取式摘要\n",
        "    \"\"\"\n",
        "    D = parallel_apply(\n",
        "        func=extract_flow,\n",
        "        iterable=tqdm(data, desc=u'转换数据'),\n",
        "        workers=100,\n",
        "        max_queue_size=200\n",
        "    )\n",
        "    total_metric = sum([d[3] for d in D])\n",
        "    D = [d[:3] for d in D]\n",
        "    print(u'抽取结果的平均指标: %s' % (total_metric / len(D)))\n",
        "    return D\n",
        "\n",
        "\n",
        "if __name__ == '__main__':\n",
        "\n",
        "    data_random_order_json = data_json[:-5] + '_random_order.json'\n",
        "    data_extract_json = data_json[:-5] + '_extract.json'\n",
        "\n",
        "    data = load_data(data_json)\n",
        "    data = convert(data)\n",
        "\n",
        "    if os.path.exists(data_random_order_json):\n",
        "        idxs = json.load(open(data_random_order_json))\n",
        "    else:\n",
        "        idxs = list(range(len(data)))\n",
        "        np.random.shuffle(idxs)\n",
        "        json.dump(idxs, open(data_random_order_json, 'w'))\n",
        "\n",
        "    data = [data[i] for i in idxs]\n",
        "\n",
        "    with open(data_extract_json, 'w', encoding='utf-8') as f:\n",
        "        for d in data:\n",
        "            d = repr(d)\n",
        "            d = eval(d)\n",
        "            f.write(json.dumps(d, ensure_ascii=False) + '\\n')\n",
        "\n",
        "    print(u'输入数据：%s' % data_json)\n",
        "    print(u'数据顺序：%s' % data_random_order_json)\n",
        "    print(u'输出路径：%s' % data_extract_json)"
      ],
      "execution_count": null,
      "outputs": [
        {
          "output_type": "stream",
          "text": [
            "转换数据: 100%|██████████| 95/95 [00:00<00:00, 134.58it/s]\n"
          ],
          "name": "stderr"
        },
        {
          "output_type": "stream",
          "text": [
            "抽取结果的平均指标: 0.5434285503873921\n",
            "输入数据：./SPACES/datasets/train.json\n",
            "数据顺序：./SPACES/datasets/train_random_order.json\n",
            "输出路径：./SPACES/datasets/train_extract.json\n"
          ],
          "name": "stdout"
        }
      ]
    },
    {
      "cell_type": "code",
      "metadata": {
        "id": "L5eYYiK7WWrd",
        "colab": {
          "base_uri": "https://localhost:8080/"
        },
        "outputId": "bc32b14d-1f13-4775-fd87-90809f9709ec"
      },
      "source": [
        "#! -*- coding: utf-8 -*-\n",
        "# 法研杯2020 司法摘要\n",
        "# 抽取式：句向量化\n",
        "# 科学空间：https://kexue.fm\n",
        "\n",
        "import json\n",
        "import numpy as np\n",
        "from tqdm import tqdm\n",
        "from bert4keras.backend import keras, K\n",
        "from bert4keras.models import build_transformer_model\n",
        "from bert4keras.tokenizers import Tokenizer\n",
        "from bert4keras.snippets import sequence_padding\n",
        "from keras.models import Model\n",
        "\n",
        "\n",
        "class GlobalAveragePooling1D(keras.layers.GlobalAveragePooling1D):\n",
        "    \"\"\"自定义全局池化\n",
        "    \"\"\"\n",
        "    def call(self, inputs, mask=None):\n",
        "        if mask is not None:\n",
        "            mask = K.cast(mask, K.floatx())[:, :, None]\n",
        "            return K.sum(inputs * mask, axis=1) / K.sum(mask, axis=1)\n",
        "        else:\n",
        "            return K.mean(inputs, axis=1)\n",
        "\n",
        "\n",
        "# 建立分词器\n",
        "tokenizer = Tokenizer(dict_path, do_lower_case=True)\n",
        "\n",
        "# 加载bert模型，补充平均池化\n",
        "encoder = build_transformer_model(\n",
        "    config_path,\n",
        "    checkpoint_path,\n",
        ")\n",
        "output = GlobalAveragePooling1D()(encoder.output)\n",
        "encoder = Model(encoder.inputs, output)\n",
        "\n",
        "\n",
        "def load_data(filename):\n",
        "    \"\"\"加载数据\n",
        "    返回：[texts]\n",
        "    \"\"\"\n",
        "    D = []\n",
        "    with open(filename) as f:\n",
        "        for l in f:\n",
        "            texts = json.loads(l)[0]\n",
        "            D.append(texts)\n",
        "    return D\n",
        "\n",
        "\n",
        "def vectorize_predict(texts):\n",
        "    \"\"\"句子列表转换为句向量\n",
        "    \"\"\"\n",
        "    batch_token_ids, batch_segment_ids = [], []\n",
        "    for text in texts:\n",
        "        token_ids, segment_ids = tokenizer.encode(text, maxlen=512)\n",
        "        batch_token_ids.append(token_ids)\n",
        "        batch_segment_ids.append(segment_ids)\n",
        "    batch_token_ids = sequence_padding(batch_token_ids)\n",
        "    batch_segment_ids = sequence_padding(batch_segment_ids)\n",
        "    outputs = encoder.predict([batch_token_ids, batch_segment_ids])\n",
        "    return outputs\n",
        "\n",
        "\n",
        "def convert(data):\n",
        "    \"\"\"转换所有样本\n",
        "    \"\"\"\n",
        "    embeddings = []\n",
        "    for texts in tqdm(data, desc=u'向量化'):\n",
        "        outputs = vectorize_predict(texts)\n",
        "        embeddings.append(outputs)\n",
        "    embeddings = sequence_padding(embeddings)\n",
        "    return embeddings\n",
        "\n",
        "\n",
        "if __name__ == '__main__':\n",
        "\n",
        "    data_extract_json = data_json[:-5] + '_extract.json'\n",
        "    data_extract_npy = data_json[:-5] + '_extract'\n",
        "\n",
        "    data = load_data(data_extract_json)\n",
        "    embeddings = convert(data)\n",
        "    np.save(data_extract_npy, embeddings)\n",
        "    print(u'输出路径：%s.npy' % data_extract_npy)\n"
      ],
      "execution_count": null,
      "outputs": [
        {
          "output_type": "stream",
          "text": [
            "WARNING:tensorflow:From /tensorflow-1.15.2/python3.7/tensorflow_core/python/ops/resource_variable_ops.py:1630: calling BaseResourceVariable.__init__ (from tensorflow.python.ops.resource_variable_ops) with constraint is deprecated and will be removed in a future version.\n",
            "Instructions for updating:\n",
            "If using Keras pass *_constraint arguments to layers.\n"
          ],
          "name": "stdout"
        },
        {
          "output_type": "stream",
          "text": [
            "\r向量化:   0%|          | 0/95 [00:00<?, ?it/s]"
          ],
          "name": "stderr"
        },
        {
          "output_type": "stream",
          "text": [
            "WARNING:tensorflow:From /tensorflow-1.15.2/python3.7/keras/backend/tensorflow_backend.py:422: The name tf.global_variables is deprecated. Please use tf.compat.v1.global_variables instead.\n",
            "\n"
          ],
          "name": "stdout"
        },
        {
          "output_type": "stream",
          "text": [
            "向量化: 100%|██████████| 95/95 [00:22<00:00,  4.27it/s]"
          ],
          "name": "stderr"
        },
        {
          "output_type": "stream",
          "text": [
            "输出路径：./SPACES/datasets/train_extract.npy\n"
          ],
          "name": "stdout"
        },
        {
          "output_type": "stream",
          "text": [
            "\n"
          ],
          "name": "stderr"
        }
      ]
    },
    {
      "cell_type": "code",
      "metadata": {
        "id": "65nXwcYsxjtE",
        "colab": {
          "base_uri": "https://localhost:8080/"
        },
        "outputId": "f8d3d8ab-3da6-4694-e12b-8c765f83575f"
      },
      "source": [
        "#! -*- coding: utf-8 -*-\n",
        "# 法研杯2020 司法摘要\n",
        "# 抽取式：主要模型\n",
        "# 科学空间：https://kexue.fm\n",
        "\n",
        "import json\n",
        "import numpy as np\n",
        "from tqdm import tqdm\n",
        "from bert4keras.backend import keras, K\n",
        "from bert4keras.layers import LayerNormalization\n",
        "from bert4keras.optimizers import Adam\n",
        "from bert4keras.snippets import open\n",
        "from keras.layers import *\n",
        "from keras.models import Model\n",
        "\n",
        "# 配置信息\n",
        "input_size = 768\n",
        "hidden_size = 384\n",
        "epochs = 20\n",
        "batch_size = 64\n",
        "threshold = 0.2\n",
        "data_extract_json = data_json[:-5] + '_extract.json'\n",
        "data_extract_npy = data_json[:-5] + '_extract.npy'\n",
        "\n",
        "if len(sys.argv) == 1:\n",
        "    fold = 0\n",
        "else:\n",
        "    fold = 0 # int(sys.argv[1])\n",
        "\n",
        "\n",
        "def load_data(filename):\n",
        "    \"\"\"加载数据\n",
        "    返回：[(texts, labels, summary)]\n",
        "    \"\"\"\n",
        "    D = []\n",
        "    with open(filename, encoding='utf-8') as f:\n",
        "        for l in f:\n",
        "            D.append(json.loads(l))\n",
        "    return D\n",
        "\n",
        "\n",
        "class ResidualGatedConv1D(Layer):\n",
        "    \"\"\"门控卷积\n",
        "    \"\"\"\n",
        "    def __init__(self, filters, kernel_size, dilation_rate=1, **kwargs):\n",
        "        super(ResidualGatedConv1D, self).__init__(**kwargs)\n",
        "        self.filters = filters\n",
        "        self.kernel_size = kernel_size\n",
        "        self.dilation_rate = dilation_rate\n",
        "        self.supports_masking = True\n",
        "\n",
        "    def build(self, input_shape):\n",
        "        super(ResidualGatedConv1D, self).build(input_shape)\n",
        "        self.conv1d = Conv1D(\n",
        "            filters=self.filters * 2,\n",
        "            kernel_size=self.kernel_size,\n",
        "            dilation_rate=self.dilation_rate,\n",
        "            padding='same',\n",
        "        )\n",
        "        self.layernorm = LayerNormalization()\n",
        "\n",
        "        if self.filters != input_shape[-1]:\n",
        "            self.dense = Dense(self.filters, use_bias=False)\n",
        "\n",
        "        self.alpha = self.add_weight(\n",
        "            name='alpha', shape=[1], initializer='zeros'\n",
        "        )\n",
        "\n",
        "    def call(self, inputs, mask=None):\n",
        "        if mask is not None:\n",
        "            mask = K.cast(mask, K.floatx())\n",
        "            inputs = inputs * mask[:, :, None]\n",
        "\n",
        "        outputs = self.conv1d(inputs)\n",
        "        gate = K.sigmoid(outputs[..., self.filters:])\n",
        "        outputs = outputs[..., :self.filters] * gate\n",
        "        outputs = self.layernorm(outputs)\n",
        "\n",
        "        if hasattr(self, 'dense'):\n",
        "            inputs = self.dense(inputs)\n",
        "\n",
        "        return inputs + self.alpha * outputs\n",
        "\n",
        "    def compute_output_shape(self, input_shape):\n",
        "        shape = self.conv1d.compute_output_shape(input_shape)\n",
        "        return (shape[0], shape[1], shape[2] // 2)\n",
        "\n",
        "    def get_config(self):\n",
        "        config = {\n",
        "            'filters': self.filters,\n",
        "            'kernel_size': self.kernel_size,\n",
        "            'dilation_rate': self.dilation_rate\n",
        "        }\n",
        "        base_config = super(ResidualGatedConv1D, self).get_config()\n",
        "        return dict(list(base_config.items()) + list(config.items()))\n",
        "\n",
        "\n",
        "x_in = Input(shape=(None, input_size))\n",
        "x = x_in\n",
        "\n",
        "x = Masking()(x)\n",
        "x = Dropout(0.1)(x)\n",
        "x = Dense(hidden_size, use_bias=False)(x)\n",
        "x = Dropout(0.1)(x)\n",
        "x = ResidualGatedConv1D(hidden_size, 3, dilation_rate=1)(x)\n",
        "x = Dropout(0.1)(x)\n",
        "x = ResidualGatedConv1D(hidden_size, 3, dilation_rate=2)(x)\n",
        "x = Dropout(0.1)(x)\n",
        "x = ResidualGatedConv1D(hidden_size, 3, dilation_rate=4)(x)\n",
        "x = Dropout(0.1)(x)\n",
        "x = ResidualGatedConv1D(hidden_size, 3, dilation_rate=8)(x)\n",
        "x = Dropout(0.1)(x)\n",
        "x = ResidualGatedConv1D(hidden_size, 3, dilation_rate=1)(x)\n",
        "x = Dropout(0.1)(x)\n",
        "x = ResidualGatedConv1D(hidden_size, 3, dilation_rate=1)(x)\n",
        "x = Dropout(0.1)(x)\n",
        "x = Dense(1, activation='sigmoid')(x)\n",
        "\n",
        "extract_model = Model(x_in, x)\n",
        "extract_model.compile(\n",
        "    loss='binary_crossentropy', optimizer=Adam(), metrics=['accuracy']\n",
        ")\n",
        "extract_model.summary()\n",
        "\n",
        "\n",
        "def evaluate(data, data_x, threshold=0.2):\n",
        "    \"\"\"验证集评估\n",
        "    \"\"\"\n",
        "    y_pred = extract_model.predict(data_x)[:, :, 0]\n",
        "    total_metrics = {k: 0.0 for k in metric_keys}\n",
        "    for d, yp in tqdm(zip(data, y_pred), desc=u'评估中'):\n",
        "        yp = yp[:len(d[0])]\n",
        "        yp = np.where(yp > threshold)[0]\n",
        "        pred_summary = ''.join([d[0][i] for i in yp])\n",
        "        metrics = compute_metrics(pred_summary, d[2], 'char')\n",
        "        for k, v in metrics.items():\n",
        "            total_metrics[k] += v\n",
        "    return {k: v / len(data) for k, v in total_metrics.items()}\n",
        "\n",
        "\n",
        "class Evaluator(keras.callbacks.Callback):\n",
        "    \"\"\"训练回调\n",
        "    \"\"\"\n",
        "    def __init__(self):\n",
        "        self.best_metric = 0.0\n",
        "\n",
        "    def on_epoch_end(self, epoch, logs=None):\n",
        "        metrics = evaluate(valid_data, valid_x, threshold + 0.1)\n",
        "        if metrics['main'] >= self.best_metric:  # 保存最优 \n",
        "            self.best_metric = metrics['main']\n",
        "            extract_model.save_weights('weights/extract_model.%s.weights' % fold)\n",
        "        metrics['best'] = self.best_metric\n",
        "        print(metrics)\n",
        "\n",
        "\n",
        "if __name__ == '__main__':\n",
        "\n",
        "    # 加载数据\n",
        "    data = load_data(data_extract_json)\n",
        "    data_x = np.load(data_extract_npy)\n",
        "    data_y = np.zeros_like(data_x[..., :1])\n",
        "\n",
        "    for i, d in enumerate(data):\n",
        "        for j in d[1]:\n",
        "            data_y[i, j] = 1\n",
        "\n",
        "    \n",
        "    for i in range(15):\n",
        "      fold = i\n",
        "\n",
        "      train_data = data_split(data, fold, num_folds, 'train')\n",
        "      valid_data = data_split(data, fold, num_folds, 'valid')\n",
        "      train_x = data_split(data_x, fold, num_folds, 'train')\n",
        "      valid_x = data_split(data_x, fold, num_folds, 'valid')\n",
        "      train_y = data_split(data_y, fold, num_folds, 'train')\n",
        "      valid_y = data_split(data_y, fold, num_folds, 'valid')\n",
        "\n",
        "      # 启动训练\n",
        "      evaluator = Evaluator()\n",
        "\n",
        "      extract_model.fit(\n",
        "        train_x,\n",
        "        train_y,\n",
        "        epochs=epochs,\n",
        "        batch_size=batch_size,\n",
        "        callbacks=[evaluator]\n",
        "      )\n",
        "\n",
        "else:\n",
        "\n",
        "    extract_model.load_weights('weights/extract_model.%s.weights' % fold)\n"
      ],
      "execution_count": null,
      "outputs": [
        {
          "output_type": "stream",
          "text": [
            "WARNING:tensorflow:From /tensorflow-1.15.2/python3.7/tensorflow_core/python/ops/nn_impl.py:183: where (from tensorflow.python.ops.array_ops) is deprecated and will be removed in a future version.\n",
            "Instructions for updating:\n",
            "Use tf.where in 2.0, which has the same broadcast rule as np.where\n",
            "Model: \"model_3\"\n",
            "_________________________________________________________________\n",
            "Layer (type)                 Output Shape              Param #   \n",
            "=================================================================\n",
            "input_1 (InputLayer)         (None, None, 768)         0         \n",
            "_________________________________________________________________\n",
            "masking_1 (Masking)          (None, None, 768)         0         \n",
            "_________________________________________________________________\n",
            "dropout_1 (Dropout)          (None, None, 768)         0         \n",
            "_________________________________________________________________\n",
            "dense_73 (Dense)             (None, None, 384)         294912    \n",
            "_________________________________________________________________\n",
            "dropout_2 (Dropout)          (None, None, 384)         0         \n",
            "_________________________________________________________________\n",
            "residual_gated_conv1d_1 (Res (None, None, 384)         886273    \n",
            "_________________________________________________________________\n",
            "dropout_3 (Dropout)          (None, None, 384)         0         \n",
            "_________________________________________________________________\n",
            "residual_gated_conv1d_2 (Res (None, None, 384)         886273    \n",
            "_________________________________________________________________\n",
            "dropout_4 (Dropout)          (None, None, 384)         0         \n",
            "_________________________________________________________________\n",
            "residual_gated_conv1d_3 (Res (None, None, 384)         886273    \n",
            "_________________________________________________________________\n",
            "dropout_5 (Dropout)          (None, None, 384)         0         \n",
            "_________________________________________________________________\n",
            "residual_gated_conv1d_4 (Res (None, None, 384)         886273    \n",
            "_________________________________________________________________\n",
            "dropout_6 (Dropout)          (None, None, 384)         0         \n",
            "_________________________________________________________________\n",
            "residual_gated_conv1d_5 (Res (None, None, 384)         886273    \n",
            "_________________________________________________________________\n",
            "dropout_7 (Dropout)          (None, None, 384)         0         \n",
            "_________________________________________________________________\n",
            "residual_gated_conv1d_6 (Res (None, None, 384)         886273    \n",
            "_________________________________________________________________\n",
            "dropout_8 (Dropout)          (None, None, 384)         0         \n",
            "_________________________________________________________________\n",
            "dense_74 (Dense)             (None, None, 1)           385       \n",
            "=================================================================\n",
            "Total params: 5,612,935\n",
            "Trainable params: 5,612,935\n",
            "Non-trainable params: 0\n",
            "_________________________________________________________________\n",
            "Epoch 1/20\n",
            "88/88 [==============================] - 4s 50ms/step - loss: 0.3140 - accuracy: 0.7099\n"
          ],
          "name": "stdout"
        },
        {
          "output_type": "stream",
          "text": [
            "评估中: 7it [00:00, 13687.71it/s]\n"
          ],
          "name": "stderr"
        },
        {
          "output_type": "stream",
          "text": [
            "{'main': 0.0, 'rouge-1': 0.0, 'rouge-2': 0.0, 'rouge-l': 0.0, 'best': 0.0}\n",
            "Epoch 2/20\n",
            "88/88 [==============================] - 0s 2ms/step - loss: 0.2734 - accuracy: 0.9353\n"
          ],
          "name": "stdout"
        },
        {
          "output_type": "stream",
          "text": [
            "评估中: 7it [00:00, 13967.71it/s]"
          ],
          "name": "stderr"
        },
        {
          "output_type": "stream",
          "text": [
            "{'main': 0.0, 'rouge-1': 0.0, 'rouge-2': 0.0, 'rouge-l': 0.0, 'best': 0.0}\n",
            "Epoch 3/20\n",
            "\r64/88 [====================>.........] - ETA: 0s - loss: 0.2986 - accuracy: 0.9362"
          ],
          "name": "stdout"
        },
        {
          "output_type": "stream",
          "text": [
            "\n"
          ],
          "name": "stderr"
        },
        {
          "output_type": "stream",
          "text": [
            "\b\b\b\b\b\b\b\b\b\b\b\b\b\b\b\b\b\b\b\b\b\b\b\b\b\b\b\b\b\b\b\b\b\b\b\b\b\b\b\b\b\b\b\b\b\b\b\b\b\b\b\b\b\b\b\b\b\b\b\b\b\b\b\b\b\b\b\b\b\b\b\b\b\b\b\b\b\b\b\b\b\b\r88/88 [==============================] - 0s 2ms/step - loss: 0.3120 - accuracy: 0.9353\n"
          ],
          "name": "stdout"
        },
        {
          "output_type": "stream",
          "text": [
            "评估中: 7it [00:00, 13790.57it/s]"
          ],
          "name": "stderr"
        },
        {
          "output_type": "stream",
          "text": [
            "{'main': 0.0, 'rouge-1': 0.0, 'rouge-2': 0.0, 'rouge-l': 0.0, 'best': 0.0}\n",
            "Epoch 4/20\n"
          ],
          "name": "stdout"
        },
        {
          "output_type": "stream",
          "text": [
            "\n"
          ],
          "name": "stderr"
        },
        {
          "output_type": "stream",
          "text": [
            "88/88 [==============================] - 0s 2ms/step - loss: 0.2746 - accuracy: 0.9353\n"
          ],
          "name": "stdout"
        },
        {
          "output_type": "stream",
          "text": [
            "评估中: 7it [00:00, 13967.71it/s]"
          ],
          "name": "stderr"
        },
        {
          "output_type": "stream",
          "text": [
            "{'main': 0.0, 'rouge-1': 0.0, 'rouge-2': 0.0, 'rouge-l': 0.0, 'best': 0.0}\n",
            "Epoch 5/20\n"
          ],
          "name": "stdout"
        },
        {
          "output_type": "stream",
          "text": [
            "\n"
          ],
          "name": "stderr"
        },
        {
          "output_type": "stream",
          "text": [
            "88/88 [==============================] - 0s 2ms/step - loss: 0.1986 - accuracy: 0.9348\n"
          ],
          "name": "stdout"
        },
        {
          "output_type": "stream",
          "text": [
            "评估中: 7it [00:00, 56.51it/s]"
          ],
          "name": "stderr"
        },
        {
          "output_type": "stream",
          "text": [
            "{'main': 0.08781576109214602, 'rouge-1': 0.12874742253147856, 'rouge-2': 0.05423149591492747, 'rouge-l': 0.10093419554969825, 'best': 0.08781576109214602}\n",
            "Epoch 6/20\n"
          ],
          "name": "stdout"
        },
        {
          "output_type": "stream",
          "text": [
            "\n"
          ],
          "name": "stderr"
        },
        {
          "output_type": "stream",
          "text": [
            "88/88 [==============================] - 0s 2ms/step - loss: 0.1665 - accuracy: 0.8969\n"
          ],
          "name": "stdout"
        },
        {
          "output_type": "stream",
          "text": [
            "评估中: 7it [00:00, 10.86it/s]"
          ],
          "name": "stderr"
        },
        {
          "output_type": "stream",
          "text": [
            "{'main': 0.19176052446239913, 'rouge-1': 0.22908926902612164, 'rouge-2': 0.12503755937838962, 'rouge-l': 0.2398191172645474, 'best': 0.19176052446239913}\n",
            "Epoch 7/20\n",
            "\r64/88 [====================>.........] - ETA: 0s - loss: 0.2036 - accuracy: 0.8197"
          ],
          "name": "stdout"
        },
        {
          "output_type": "stream",
          "text": [
            "\n"
          ],
          "name": "stderr"
        },
        {
          "output_type": "stream",
          "text": [
            "\b\b\b\b\b\b\b\b\b\b\b\b\b\b\b\b\b\b\b\b\b\b\b\b\b\b\b\b\b\b\b\b\b\b\b\b\b\b\b\b\b\b\b\b\b\b\b\b\b\b\b\b\b\b\b\b\b\b\b\b\b\b\b\b\b\b\b\b\b\b\b\b\b\b\b\b\b\b\b\b\b\b\r88/88 [==============================] - 0s 2ms/step - loss: 0.1945 - accuracy: 0.8475\n"
          ],
          "name": "stdout"
        },
        {
          "output_type": "stream",
          "text": [
            "评估中: 7it [00:00, 109.56it/s]"
          ],
          "name": "stderr"
        },
        {
          "output_type": "stream",
          "text": [
            "{'main': 0.06127525961343964, 'rouge-1': 0.09417888813881167, 'rouge-2': 0.025953420046847402, 'rouge-l': 0.08014528491734584, 'best': 0.19176052446239913}\n",
            "Epoch 8/20\n",
            "\r64/88 [====================>.........] - ETA: 0s - loss: 0.1399 - accuracy: 0.9226"
          ],
          "name": "stdout"
        },
        {
          "output_type": "stream",
          "text": [
            "\n"
          ],
          "name": "stderr"
        },
        {
          "output_type": "stream",
          "text": [
            "\b\b\b\b\b\b\b\b\b\b\b\b\b\b\b\b\b\b\b\b\b\b\b\b\b\b\b\b\b\b\b\b\b\b\b\b\b\b\b\b\b\b\b\b\b\b\b\b\b\b\b\b\b\b\b\b\b\b\b\b\b\b\b\b\b\b\b\b\b\b\b\b\b\b\b\b\b\b\b\b\b\b\r88/88 [==============================] - 0s 2ms/step - loss: 0.1413 - accuracy: 0.9246\n"
          ],
          "name": "stdout"
        },
        {
          "output_type": "stream",
          "text": [
            "评估中: 7it [00:00, 14972.02it/s]\n"
          ],
          "name": "stderr"
        },
        {
          "output_type": "stream",
          "text": [
            "{'main': 0.0, 'rouge-1': 0.0, 'rouge-2': 0.0, 'rouge-l': 0.0, 'best': 0.19176052446239913}\n",
            "Epoch 9/20\n",
            "88/88 [==============================] - 0s 2ms/step - loss: 0.1509 - accuracy: 0.9348\n"
          ],
          "name": "stdout"
        },
        {
          "output_type": "stream",
          "text": [
            "评估中: 7it [00:00, 16912.52it/s]"
          ],
          "name": "stderr"
        },
        {
          "output_type": "stream",
          "text": [
            "{'main': 0.0, 'rouge-1': 0.0, 'rouge-2': 0.0, 'rouge-l': 0.0, 'best': 0.19176052446239913}\n",
            "Epoch 10/20\n"
          ],
          "name": "stdout"
        },
        {
          "output_type": "stream",
          "text": [
            "\n"
          ],
          "name": "stderr"
        },
        {
          "output_type": "stream",
          "text": [
            "88/88 [==============================] - 0s 2ms/step - loss: 0.1549 - accuracy: 0.9353\n"
          ],
          "name": "stdout"
        },
        {
          "output_type": "stream",
          "text": [
            "评估中: 7it [00:00, 3563.12it/s]"
          ],
          "name": "stderr"
        },
        {
          "output_type": "stream",
          "text": [
            "{'main': 0.006357142730890734, 'rouge-1': 0.008928571280866352, 'rouge-2': 0.0, 'rouge-l': 0.011428571186793657, 'best': 0.19176052446239913}\n",
            "Epoch 11/20\n"
          ],
          "name": "stdout"
        },
        {
          "output_type": "stream",
          "text": [
            "\n"
          ],
          "name": "stderr"
        },
        {
          "output_type": "stream",
          "text": [
            "88/88 [==============================] - 0s 2ms/step - loss: 0.1457 - accuracy: 0.9328\n"
          ],
          "name": "stdout"
        },
        {
          "output_type": "stream",
          "text": [
            "评估中: 7it [00:00, 191.51it/s]\n"
          ],
          "name": "stderr"
        },
        {
          "output_type": "stream",
          "text": [
            "{'main': 0.05513521279484408, 'rouge-1': 0.07567344205703688, 'rouge-2': 0.010122468284870392, 'rouge-l': 0.08987884267372137, 'best': 0.19176052446239913}\n",
            "Epoch 12/20\n",
            "88/88 [==============================] - 0s 2ms/step - loss: 0.1453 - accuracy: 0.9201\n"
          ],
          "name": "stdout"
        },
        {
          "output_type": "stream",
          "text": [
            "评估中: 7it [00:00, 118.54it/s]"
          ],
          "name": "stderr"
        },
        {
          "output_type": "stream",
          "text": [
            "{'main': 0.06841545777809624, 'rouge-1': 0.11403623855182236, 'rouge-2': 0.01991855389833063, 'rouge-l': 0.0941019712709988, 'best': 0.19176052446239913}\n",
            "Epoch 13/20\n",
            "64/88 [====================>.........] - ETA: 0s - loss: 0.1581 - accuracy: 0.9169"
          ],
          "name": "stdout"
        },
        {
          "output_type": "stream",
          "text": [
            "\n"
          ],
          "name": "stderr"
        },
        {
          "output_type": "stream",
          "text": [
            "\b\b\b\b\b\b\b\b\b\b\b\b\b\b\b\b\b\b\b\b\b\b\b\b\b\b\b\b\b\b\b\b\b\b\b\b\b\b\b\b\b\b\b\b\b\b\b\b\b\b\b\b\b\b\b\b\b\b\b\b\b\b\b\b\b\b\b\b\b\b\b\b\b\b\b\b\b\b\b\b\b\b\r88/88 [==============================] - 0s 2ms/step - loss: 0.1428 - accuracy: 0.9181\n"
          ],
          "name": "stdout"
        },
        {
          "output_type": "stream",
          "text": [
            "评估中: 7it [00:00, 352.69it/s]\n"
          ],
          "name": "stderr"
        },
        {
          "output_type": "stream",
          "text": [
            "{'main': 0.03483891344948109, 'rouge-1': 0.059464757036137586, 'rouge-2': 0.004571427913142952, 'rouge-l': 0.05279347719249098, 'best': 0.19176052446239913}\n",
            "Epoch 14/20\n",
            "88/88 [==============================] - 0s 2ms/step - loss: 0.1319 - accuracy: 0.9309\n"
          ],
          "name": "stdout"
        },
        {
          "output_type": "stream",
          "text": [
            "评估中: 7it [00:00, 1003.90it/s]"
          ],
          "name": "stderr"
        },
        {
          "output_type": "stream",
          "text": [
            "{'main': 0.007620703417146875, 'rouge-1': 0.027007817597159905, 'rouge-2': 0.0, 'rouge-l': 0.005547849744287235, 'best': 0.19176052446239913}\n"
          ],
          "name": "stdout"
        },
        {
          "output_type": "stream",
          "text": [
            "\n"
          ],
          "name": "stderr"
        },
        {
          "output_type": "stream",
          "text": [
            "Epoch 15/20\n",
            "88/88 [==============================] - 0s 2ms/step - loss: 0.1298 - accuracy: 0.9340\n"
          ],
          "name": "stdout"
        },
        {
          "output_type": "stream",
          "text": [
            "评估中: 7it [00:00, 498.05it/s]"
          ],
          "name": "stderr"
        },
        {
          "output_type": "stream",
          "text": [
            "{'main': 0.01787592720573627, 'rouge-1': 0.039994830421507276, 'rouge-2': 0.0032715374684708755, 'rouge-l': 0.02142086533511616, 'best': 0.19176052446239913}\n",
            "Epoch 16/20\n"
          ],
          "name": "stdout"
        },
        {
          "output_type": "stream",
          "text": [
            "\n"
          ],
          "name": "stderr"
        },
        {
          "output_type": "stream",
          "text": [
            "88/88 [==============================] - 0s 2ms/step - loss: 0.1286 - accuracy: 0.9338\n"
          ],
          "name": "stdout"
        },
        {
          "output_type": "stream",
          "text": [
            "评估中: 7it [00:00, 320.07it/s]\n"
          ],
          "name": "stderr"
        },
        {
          "output_type": "stream",
          "text": [
            "{'main': 0.029083158576069797, 'rouge-1': 0.07159380438398986, 'rouge-2': 0.008241757770528109, 'rouge-l': 0.028669236477651454, 'best': 0.19176052446239913}\n",
            "Epoch 17/20\n",
            "88/88 [==============================] - 0s 2ms/step - loss: 0.1295 - accuracy: 0.9308\n"
          ],
          "name": "stdout"
        },
        {
          "output_type": "stream",
          "text": [
            "评估中: 7it [00:00, 274.07it/s]\n"
          ],
          "name": "stderr"
        },
        {
          "output_type": "stream",
          "text": [
            "{'main': 0.050489326272957734, 'rouge-1': 0.09945427679122225, 'rouge-2': 0.016192067418524008, 'rouge-l': 0.060304109868259195, 'best': 0.19176052446239913}\n",
            "Epoch 18/20\n",
            "88/88 [==============================] - 0s 2ms/step - loss: 0.1304 - accuracy: 0.9293\n"
          ],
          "name": "stdout"
        },
        {
          "output_type": "stream",
          "text": [
            "评估中: 7it [00:00, 281.15it/s]\n"
          ],
          "name": "stderr"
        },
        {
          "output_type": "stream",
          "text": [
            "{'main': 0.03851502429877226, 'rouge-1': 0.08108693018757794, 'rouge-2': 0.012051280993103155, 'rouge-l': 0.04369281466003853, 'best': 0.19176052446239913}\n",
            "Epoch 19/20\n",
            "88/88 [==============================] - 0s 2ms/step - loss: 0.1299 - accuracy: 0.9304\n"
          ],
          "name": "stdout"
        },
        {
          "output_type": "stream",
          "text": [
            "评估中: 7it [00:00, 512.38it/s]\n"
          ],
          "name": "stderr"
        },
        {
          "output_type": "stream",
          "text": [
            "{'main': 0.027307792928438736, 'rouge-1': 0.04948795622509535, 'rouge-2': 0.007081060691045922, 'rouge-l': 0.036444443517503235, 'best': 0.19176052446239913}\n",
            "Epoch 20/20\n",
            "88/88 [==============================] - 0s 2ms/step - loss: 0.1239 - accuracy: 0.9342\n"
          ],
          "name": "stdout"
        },
        {
          "output_type": "stream",
          "text": [
            "评估中: 7it [00:00, 467.20it/s]\n"
          ],
          "name": "stderr"
        },
        {
          "output_type": "stream",
          "text": [
            "{'main': 0.027307792928438736, 'rouge-1': 0.04948795622509535, 'rouge-2': 0.007081060691045922, 'rouge-l': 0.036444443517503235, 'best': 0.19176052446239913}\n",
            "Epoch 1/20\n",
            "88/88 [==============================] - 0s 2ms/step - loss: 0.1246 - accuracy: 0.9386\n"
          ],
          "name": "stdout"
        },
        {
          "output_type": "stream",
          "text": [
            "评估中: 7it [00:00, 172.19it/s]"
          ],
          "name": "stderr"
        },
        {
          "output_type": "stream",
          "text": [
            "{'main': 0.049645536032293665, 'rouge-1': 0.06047393420016334, 'rouge-2': 0.03679539465271003, 'rouge-l': 0.057081478327942456, 'best': 0.049645536032293665}\n",
            "Epoch 2/20\n",
            "64/88 [====================>.........] - ETA: 0s - loss: 0.1209 - accuracy: 0.9395"
          ],
          "name": "stdout"
        },
        {
          "output_type": "stream",
          "text": [
            "\n"
          ],
          "name": "stderr"
        },
        {
          "output_type": "stream",
          "text": [
            "\b\b\b\b\b\b\b\b\b\b\b\b\b\b\b\b\b\b\b\b\b\b\b\b\b\b\b\b\b\b\b\b\b\b\b\b\b\b\b\b\b\b\b\b\b\b\b\b\b\b\b\b\b\b\b\b\b\b\b\b\b\b\b\b\b\b\b\b\b\b\b\b\b\b\b\b\b\b\b\b\b\b\r88/88 [==============================] - 0s 2ms/step - loss: 0.1227 - accuracy: 0.9382\n"
          ],
          "name": "stdout"
        },
        {
          "output_type": "stream",
          "text": [
            "评估中: 7it [00:00, 67.73it/s]"
          ],
          "name": "stderr"
        },
        {
          "output_type": "stream",
          "text": [
            "{'main': 0.06558414268366045, 'rouge-1': 0.07826173890782707, 'rouge-2': 0.043735630701787674, 'rouge-l': 0.08109385655344988, 'best': 0.06558414268366045}\n",
            "Epoch 3/20\n"
          ],
          "name": "stdout"
        },
        {
          "output_type": "stream",
          "text": [
            "\n"
          ],
          "name": "stderr"
        },
        {
          "output_type": "stream",
          "text": [
            "88/88 [==============================] - 0s 2ms/step - loss: 0.1238 - accuracy: 0.9367\n"
          ],
          "name": "stdout"
        },
        {
          "output_type": "stream",
          "text": [
            "评估中: 7it [00:00, 72.36it/s]\n"
          ],
          "name": "stderr"
        },
        {
          "output_type": "stream",
          "text": [
            "{'main': 0.06993957138115443, 'rouge-1': 0.07997979291817928, 'rouge-2': 0.0477756883808878, 'rouge-l': 0.08708334361290862, 'best': 0.06993957138115443}\n",
            "Epoch 4/20\n",
            "88/88 [==============================] - 0s 2ms/step - loss: 0.1207 - accuracy: 0.9374\n"
          ],
          "name": "stdout"
        },
        {
          "output_type": "stream",
          "text": [
            "评估中: 7it [00:00, 134.64it/s]"
          ],
          "name": "stderr"
        },
        {
          "output_type": "stream",
          "text": [
            "{'main': 0.04685537798775118, 'rouge-1': 0.05314577424780036, 'rouge-2': 0.029482711834108333, 'rouge-l': 0.061082846011369415, 'best': 0.06993957138115443}\n",
            "Epoch 5/20\n",
            "\r64/88 [====================>.........] - ETA: 0s - loss: 0.1152 - accuracy: 0.9411"
          ],
          "name": "stdout"
        },
        {
          "output_type": "stream",
          "text": [
            "\n"
          ],
          "name": "stderr"
        },
        {
          "output_type": "stream",
          "text": [
            "\b\b\b\b\b\b\b\b\b\b\b\b\b\b\b\b\b\b\b\b\b\b\b\b\b\b\b\b\b\b\b\b\b\b\b\b\b\b\b\b\b\b\b\b\b\b\b\b\b\b\b\b\b\b\b\b\b\b\b\b\b\b\b\b\b\b\b\b\b\b\b\b\b\b\b\b\b\b\b\b\b\b\r88/88 [==============================] - 0s 2ms/step - loss: 0.1223 - accuracy: 0.9394\n"
          ],
          "name": "stdout"
        },
        {
          "output_type": "stream",
          "text": [
            "评估中: 7it [00:00, 176.64it/s]\n"
          ],
          "name": "stderr"
        },
        {
          "output_type": "stream",
          "text": [
            "{'main': 0.036186459365837406, 'rouge-1': 0.045556804875036536, 'rouge-2': 0.027103330928373918, 'rouge-l': 0.040584415048701306, 'best': 0.06993957138115443}\n",
            "Epoch 6/20\n",
            "88/88 [==============================] - 0s 2ms/step - loss: 0.1201 - accuracy: 0.9388\n"
          ],
          "name": "stdout"
        },
        {
          "output_type": "stream",
          "text": [
            "评估中: 7it [00:00, 138.63it/s]"
          ],
          "name": "stderr"
        },
        {
          "output_type": "stream",
          "text": [
            "{'main': 0.04103704403780324, 'rouge-1': 0.04911606671953377, 'rouge-2': 0.02726281296294756, 'rouge-l': 0.05077176377179364, 'best': 0.06993957138115443}\n",
            "Epoch 7/20\n",
            "88/88 [==============================] - 0s 2ms/step - loss: 0.1208 - accuracy: 0.9378\n"
          ],
          "name": "stdout"
        },
        {
          "output_type": "stream",
          "text": [
            "\n",
            "评估中: 7it [00:00, 115.95it/s]"
          ],
          "name": "stderr"
        },
        {
          "output_type": "stream",
          "text": [
            "{'main': 0.05074917818302708, 'rouge-1': 0.06562420365670009, 'rouge-2': 0.03001006528358372, 'rouge-l': 0.06405077834563393, 'best': 0.06993957138115443}\n",
            "Epoch 8/20\n",
            "\r64/88 [====================>.........] - ETA: 0s - loss: 0.1226 - accuracy: 0.9404"
          ],
          "name": "stdout"
        },
        {
          "output_type": "stream",
          "text": [
            "\n"
          ],
          "name": "stderr"
        },
        {
          "output_type": "stream",
          "text": [
            "\b\b\b\b\b\b\b\b\b\b\b\b\b\b\b\b\b\b\b\b\b\b\b\b\b\b\b\b\b\b\b\b\b\b\b\b\b\b\b\b\b\b\b\b\b\b\b\b\b\b\b\b\b\b\b\b\b\b\b\b\b\b\b\b\b\b\b\b\b\b\b\b\b\b\b\b\b\b\b\b\b\b\r88/88 [==============================] - 0s 2ms/step - loss: 0.1193 - accuracy: 0.9384\n"
          ],
          "name": "stdout"
        },
        {
          "output_type": "stream",
          "text": [
            "评估中: 7it [00:00, 133.83it/s]"
          ],
          "name": "stderr"
        },
        {
          "output_type": "stream",
          "text": [
            "{'main': 0.04727456051350776, 'rouge-1': 0.06210812926630468, 'rouge-2': 0.02793352285003693, 'rouge-l': 0.05919881380058012, 'best': 0.06993957138115443}\n",
            "Epoch 9/20\n",
            "\r64/88 [====================>.........] - ETA: 0s - loss: 0.1199 - accuracy: 0.9335"
          ],
          "name": "stdout"
        },
        {
          "output_type": "stream",
          "text": [
            "\n"
          ],
          "name": "stderr"
        },
        {
          "output_type": "stream",
          "text": [
            "\b\b\b\b\b\b\b\b\b\b\b\b\b\b\b\b\b\b\b\b\b\b\b\b\b\b\b\b\b\b\b\b\b\b\b\b\b\b\b\b\b\b\b\b\b\b\b\b\b\b\b\b\b\b\b\b\b\b\b\b\b\b\b\b\b\b\b\b\b\b\b\b\b\b\b\b\b\b\b\b\b\b\r88/88 [==============================] - 0s 2ms/step - loss: 0.1205 - accuracy: 0.9392\n"
          ],
          "name": "stdout"
        },
        {
          "output_type": "stream",
          "text": [
            "评估中: 7it [00:00, 27.45it/s]"
          ],
          "name": "stderr"
        },
        {
          "output_type": "stream",
          "text": [
            "{'main': 0.04727456051350776, 'rouge-1': 0.06210812926630468, 'rouge-2': 0.02793352285003693, 'rouge-l': 0.05919881380058012, 'best': 0.06993957138115443}\n",
            "Epoch 10/20\n",
            "88/88 [==============================] - 0s 2ms/step - loss: 0.1188 - accuracy: 0.9384\n"
          ],
          "name": "stdout"
        },
        {
          "output_type": "stream",
          "text": [
            "\n",
            "评估中: 7it [00:00, 167.52it/s]"
          ],
          "name": "stderr"
        },
        {
          "output_type": "stream",
          "text": [
            "{'main': 0.043725530281300815, 'rouge-1': 0.054481439987967076, 'rouge-2': 0.024926837022544668, 'rouge-l': 0.05714626868672381, 'best': 0.06993957138115443}\n",
            "Epoch 11/20\n",
            "88/88 [==============================] - 0s 2ms/step - loss: 0.1180 - accuracy: 0.9392\n"
          ],
          "name": "stdout"
        },
        {
          "output_type": "stream",
          "text": [
            "\n",
            "评估中: 7it [00:00, 119.95it/s]"
          ],
          "name": "stderr"
        },
        {
          "output_type": "stream",
          "text": [
            "{'main': 0.053380176344569694, 'rouge-1': 0.0699205164347859, 'rouge-2': 0.030286896404301957, 'rouge-l': 0.06820328623972932, 'best': 0.06993957138115443}\n",
            "Epoch 12/20\n",
            "88/88 [==============================] - 0s 2ms/step - loss: 0.1178 - accuracy: 0.9389\n"
          ],
          "name": "stdout"
        },
        {
          "output_type": "stream",
          "text": [
            "\n",
            "评估中: 7it [00:00, 98.14it/s]"
          ],
          "name": "stderr"
        },
        {
          "output_type": "stream",
          "text": [
            "{'main': 0.05630740940282183, 'rouge-1': 0.07934511729897546, 'rouge-2': 0.030524987002144347, 'rouge-l': 0.07057097785542249, 'best': 0.06993957138115443}\n",
            "Epoch 13/20\n",
            "88/88 [==============================] - 0s 2ms/step - loss: 0.1173 - accuracy: 0.9386\n"
          ],
          "name": "stdout"
        },
        {
          "output_type": "stream",
          "text": [
            "\n",
            "评估中: 7it [00:00, 94.09it/s]"
          ],
          "name": "stderr"
        },
        {
          "output_type": "stream",
          "text": [
            "{'main': 0.05630740940282183, 'rouge-1': 0.07934511729897546, 'rouge-2': 0.030524987002144347, 'rouge-l': 0.07057097785542249, 'best': 0.06993957138115443}\n",
            "Epoch 14/20\n",
            "88/88 [==============================] - 0s 2ms/step - loss: 0.1154 - accuracy: 0.9387\n"
          ],
          "name": "stdout"
        },
        {
          "output_type": "stream",
          "text": [
            "\n",
            "评估中: 7it [00:00, 110.27it/s]"
          ],
          "name": "stderr"
        },
        {
          "output_type": "stream",
          "text": [
            "{'main': 0.044631756650516594, 'rouge-1': 0.053398169899726046, 'rouge-2': 0.026212319195604045, 'rouge-l': 0.05866798748082441, 'best': 0.06993957138115443}\n",
            "Epoch 15/20\n",
            "88/88 [==============================] - 0s 2ms/step - loss: 0.1165 - accuracy: 0.9388\n"
          ],
          "name": "stdout"
        },
        {
          "output_type": "stream",
          "text": [
            "\n",
            "评估中: 7it [00:00, 107.86it/s]"
          ],
          "name": "stderr"
        },
        {
          "output_type": "stream",
          "text": [
            "{'main': 0.044631756650516594, 'rouge-1': 0.053398169899726046, 'rouge-2': 0.026212319195604045, 'rouge-l': 0.05866798748082441, 'best': 0.06993957138115443}\n",
            "Epoch 16/20\n",
            "88/88 [==============================] - 0s 2ms/step - loss: 0.1139 - accuracy: 0.9394\n"
          ],
          "name": "stdout"
        },
        {
          "output_type": "stream",
          "text": [
            "\n",
            "评估中: 7it [00:00, 107.29it/s]"
          ],
          "name": "stderr"
        },
        {
          "output_type": "stream",
          "text": [
            "{'main': 0.046903295909171076, 'rouge-1': 0.05561300926956989, 'rouge-2': 0.026212319195604045, 'rouge-l': 0.06323941594253871, 'best': 0.06993957138115443}\n",
            "Epoch 17/20\n",
            "88/88 [==============================] - 0s 2ms/step - loss: 0.1143 - accuracy: 0.9399\n"
          ],
          "name": "stdout"
        },
        {
          "output_type": "stream",
          "text": [
            "\n",
            "评估中: 7it [00:00, 68.68it/s]"
          ],
          "name": "stderr"
        },
        {
          "output_type": "stream",
          "text": [
            "{'main': 0.07181270380205637, 'rouge-1': 0.09478274941263132, 'rouge-2': 0.043310567500803025, 'rouge-l': 0.08882981729802222, 'best': 0.07181270380205637}\n",
            "Epoch 18/20\n",
            "88/88 [==============================] - 0s 2ms/step - loss: 0.1142 - accuracy: 0.9400\n"
          ],
          "name": "stdout"
        },
        {
          "output_type": "stream",
          "text": [
            "\n",
            "评估中: 7it [00:00, 65.69it/s]\n"
          ],
          "name": "stderr"
        },
        {
          "output_type": "stream",
          "text": [
            "{'main': 0.07905263866881275, 'rouge-1': 0.10170063813929295, 'rouge-2': 0.04856081228486785, 'rouge-l': 0.09822046531751757, 'best': 0.07905263866881275}\n",
            "Epoch 19/20\n",
            "88/88 [==============================] - 0s 2ms/step - loss: 0.1132 - accuracy: 0.9383\n"
          ],
          "name": "stdout"
        },
        {
          "output_type": "stream",
          "text": [
            "评估中: 7it [00:00, 117.34it/s]"
          ],
          "name": "stderr"
        },
        {
          "output_type": "stream",
          "text": [
            "{'main': 0.04161104433226367, 'rouge-1': 0.050452662098153044, 'rouge-2': 0.026212319195604045, 'rouge-l': 0.05258896058597862, 'best': 0.07905263866881275}\n",
            "Epoch 20/20\n",
            "\r64/88 [====================>.........] - ETA: 0s - loss: 0.1113 - accuracy: 0.9365"
          ],
          "name": "stdout"
        },
        {
          "output_type": "stream",
          "text": [
            "\n"
          ],
          "name": "stderr"
        },
        {
          "output_type": "stream",
          "text": [
            "\b\b\b\b\b\b\b\b\b\b\b\b\b\b\b\b\b\b\b\b\b\b\b\b\b\b\b\b\b\b\b\b\b\b\b\b\b\b\b\b\b\b\b\b\b\b\b\b\b\b\b\b\b\b\b\b\b\b\b\b\b\b\b\b\b\b\b\b\b\b\b\b\b\b\b\b\b\b\b\b\b\b\r88/88 [==============================] - 0s 2ms/step - loss: 0.1127 - accuracy: 0.9400\n"
          ],
          "name": "stdout"
        },
        {
          "output_type": "stream",
          "text": [
            "评估中: 7it [00:00, 121.67it/s]"
          ],
          "name": "stderr"
        },
        {
          "output_type": "stream",
          "text": [
            "{'main': 0.039684748788449624, 'rouge-1': 0.04909732362230112, 'rouge-2': 0.024520255283072924, 'rouge-l': 0.05014295487690058, 'best': 0.07905263866881275}\n",
            "Epoch 1/20\n",
            "\r64/88 [====================>.........] - ETA: 0s - loss: 0.1213 - accuracy: 0.9382"
          ],
          "name": "stdout"
        },
        {
          "output_type": "stream",
          "text": [
            "\n"
          ],
          "name": "stderr"
        },
        {
          "output_type": "stream",
          "text": [
            "\b\b\b\b\b\b\b\b\b\b\b\b\b\b\b\b\b\b\b\b\b\b\b\b\b\b\b\b\b\b\b\b\b\b\b\b\b\b\b\b\b\b\b\b\b\b\b\b\b\b\b\b\b\b\b\b\b\b\b\b\b\b\b\b\b\b\b\b\b\b\b\b\b\b\b\b\b\b\b\b\b\b\r88/88 [==============================] - 0s 2ms/step - loss: 0.1148 - accuracy: 0.9413\n"
          ],
          "name": "stdout"
        },
        {
          "output_type": "stream",
          "text": [
            "评估中: 7it [00:00, 150.32it/s]"
          ],
          "name": "stderr"
        },
        {
          "output_type": "stream",
          "text": [
            "{'main': 0.19468149207091637, 'rouge-1': 0.20852431096302795, 'rouge-2': 0.13453627397377813, 'rouge-l': 0.24790530072199876, 'best': 0.19468149207091637}\n",
            "Epoch 2/20\n",
            "64/88 [====================>.........] - ETA: 0s - loss: 0.1175 - accuracy: 0.9378"
          ],
          "name": "stdout"
        },
        {
          "output_type": "stream",
          "text": [
            "\n"
          ],
          "name": "stderr"
        },
        {
          "output_type": "stream",
          "text": [
            "\b\b\b\b\b\b\b\b\b\b\b\b\b\b\b\b\b\b\b\b\b\b\b\b\b\b\b\b\b\b\b\b\b\b\b\b\b\b\b\b\b\b\b\b\b\b\b\b\b\b\b\b\b\b\b\b\b\b\b\b\b\b\b\b\b\b\b\b\b\b\b\b\b\b\b\b\b\b\b\b\b\b\r88/88 [==============================] - 0s 2ms/step - loss: 0.1127 - accuracy: 0.9420\n"
          ],
          "name": "stdout"
        },
        {
          "output_type": "stream",
          "text": [
            "评估中: 7it [00:00, 127.05it/s]"
          ],
          "name": "stderr"
        },
        {
          "output_type": "stream",
          "text": [
            "{'main': 0.20918259761286517, 'rouge-1': 0.23644871850563817, 'rouge-2': 0.14714550925279068, 'rouge-l': 0.25758662552655315, 'best': 0.20918259761286517}\n",
            "Epoch 3/20\n"
          ],
          "name": "stdout"
        },
        {
          "output_type": "stream",
          "text": [
            "\n"
          ],
          "name": "stderr"
        },
        {
          "output_type": "stream",
          "text": [
            "88/88 [==============================] - 0s 2ms/step - loss: 0.1140 - accuracy: 0.9413\n"
          ],
          "name": "stdout"
        },
        {
          "output_type": "stream",
          "text": [
            "评估中: 7it [00:00, 116.86it/s]\n"
          ],
          "name": "stderr"
        },
        {
          "output_type": "stream",
          "text": [
            "{'main': 0.23055364268581835, 'rouge-1': 0.25956980176488276, 'rouge-2': 0.17064147506373054, 'rouge-l': 0.27595773076837393, 'best': 0.23055364268581835}\n",
            "Epoch 4/20\n",
            "88/88 [==============================] - 0s 2ms/step - loss: 0.1124 - accuracy: 0.9415\n"
          ],
          "name": "stdout"
        },
        {
          "output_type": "stream",
          "text": [
            "评估中: 7it [00:00, 120.19it/s]"
          ],
          "name": "stderr"
        },
        {
          "output_type": "stream",
          "text": [
            "{'main': 0.2154856022709834, 'rouge-1': 0.2390315543592618, 'rouge-2': 0.16016968638502518, 'rouge-l': 0.25902854211280246, 'best': 0.23055364268581835}\n",
            "Epoch 5/20\n",
            "\r64/88 [====================>.........] - ETA: 0s - loss: 0.1081 - accuracy: 0.9422"
          ],
          "name": "stdout"
        },
        {
          "output_type": "stream",
          "text": [
            "\n"
          ],
          "name": "stderr"
        },
        {
          "output_type": "stream",
          "text": [
            "\b\b\b\b\b\b\b\b\b\b\b\b\b\b\b\b\b\b\b\b\b\b\b\b\b\b\b\b\b\b\b\b\b\b\b\b\b\b\b\b\b\b\b\b\b\b\b\b\b\b\b\b\b\b\b\b\b\b\b\b\b\b\b\b\b\b\b\b\b\b\b\b\b\b\b\b\b\b\b\b\b\b\r88/88 [==============================] - 0s 2ms/step - loss: 0.1104 - accuracy: 0.9419\n"
          ],
          "name": "stdout"
        },
        {
          "output_type": "stream",
          "text": [
            "评估中: 7it [00:00, 114.72it/s]"
          ],
          "name": "stderr"
        },
        {
          "output_type": "stream",
          "text": [
            "{'main': 0.22367306751969201, 'rouge-1': 0.2483064838000483, 'rouge-2': 0.16865734844942268, 'rouge-l': 0.2663720784497832, 'best': 0.23055364268581835}\n",
            "Epoch 6/20\n",
            "\r64/88 [====================>.........] - ETA: 0s - loss: 0.0991 - accuracy: 0.9462"
          ],
          "name": "stdout"
        },
        {
          "output_type": "stream",
          "text": [
            "\n"
          ],
          "name": "stderr"
        },
        {
          "output_type": "stream",
          "text": [
            "\b\b\b\b\b\b\b\b\b\b\b\b\b\b\b\b\b\b\b\b\b\b\b\b\b\b\b\b\b\b\b\b\b\b\b\b\b\b\b\b\b\b\b\b\b\b\b\b\b\b\b\b\b\b\b\b\b\b\b\b\b\b\b\b\b\b\b\b\b\b\b\b\b\b\b\b\b\b\b\b\b\b\r88/88 [==============================] - 0s 2ms/step - loss: 0.1097 - accuracy: 0.9420\n"
          ],
          "name": "stdout"
        },
        {
          "output_type": "stream",
          "text": [
            "评估中: 7it [00:00, 104.99it/s]"
          ],
          "name": "stderr"
        },
        {
          "output_type": "stream",
          "text": [
            "{'main': 0.24483052620911758, 'rouge-1': 0.2778946363451299, 'rouge-2': 0.1823516839229089, 'rouge-l': 0.2907773134273202, 'best': 0.24483052620911758}\n",
            "Epoch 7/20\n"
          ],
          "name": "stdout"
        },
        {
          "output_type": "stream",
          "text": [
            "\n"
          ],
          "name": "stderr"
        },
        {
          "output_type": "stream",
          "text": [
            "88/88 [==============================] - 0s 2ms/step - loss: 0.1081 - accuracy: 0.9423\n"
          ],
          "name": "stdout"
        },
        {
          "output_type": "stream",
          "text": [
            "评估中: 7it [00:00, 100.77it/s]\n"
          ],
          "name": "stderr"
        },
        {
          "output_type": "stream",
          "text": [
            "{'main': 0.25417911825583894, 'rouge-1': 0.2830679245841317, 'rouge-2': 0.18985205248003262, 'rouge-l': 0.304061780867499, 'best': 0.25417911825583894}\n",
            "Epoch 8/20\n",
            "88/88 [==============================] - 0s 2ms/step - loss: 0.1087 - accuracy: 0.9423\n"
          ],
          "name": "stdout"
        },
        {
          "output_type": "stream",
          "text": [
            "评估中: 7it [00:00, 109.70it/s]"
          ],
          "name": "stderr"
        },
        {
          "output_type": "stream",
          "text": [
            "{'main': 0.23302165956641338, 'rouge-1': 0.2534797720390501, 'rouge-2': 0.1761577170065464, 'rouge-l': 0.27965654588996197, 'best': 0.25417911825583894}\n",
            "Epoch 9/20\n",
            "\r64/88 [====================>.........] - ETA: 0s - loss: 0.1052 - accuracy: 0.9368"
          ],
          "name": "stdout"
        },
        {
          "output_type": "stream",
          "text": [
            "\n"
          ],
          "name": "stderr"
        },
        {
          "output_type": "stream",
          "text": [
            "\b\b\b\b\b\b\b\b\b\b\b\b\b\b\b\b\b\b\b\b\b\b\b\b\b\b\b\b\b\b\b\b\b\b\b\b\b\b\b\b\b\b\b\b\b\b\b\b\b\b\b\b\b\b\b\b\b\b\b\b\b\b\b\b\b\b\b\b\b\b\b\b\b\b\b\b\b\b\b\b\b\b\r88/88 [==============================] - 0s 2ms/step - loss: 0.1061 - accuracy: 0.9428\n"
          ],
          "name": "stdout"
        },
        {
          "output_type": "stream",
          "text": [
            "评估中: 7it [00:00, 107.43it/s]"
          ],
          "name": "stderr"
        },
        {
          "output_type": "stream",
          "text": [
            "{'main': 0.23950254077710045, 'rouge-1': 0.2574415094972815, 'rouge-2': 0.18324985623702766, 'rouge-l': 0.2867857409570827, 'best': 0.25417911825583894}\n",
            "Epoch 10/20\n",
            "\r64/88 [====================>.........] - ETA: 0s - loss: 0.1062 - accuracy: 0.9336"
          ],
          "name": "stdout"
        },
        {
          "output_type": "stream",
          "text": [
            "\n"
          ],
          "name": "stderr"
        },
        {
          "output_type": "stream",
          "text": [
            "\b\b\b\b\b\b\b\b\b\b\b\b\b\b\b\b\b\b\b\b\b\b\b\b\b\b\b\b\b\b\b\b\b\b\b\b\b\b\b\b\b\b\b\b\b\b\b\b\b\b\b\b\b\b\b\b\b\b\b\b\b\b\b\b\b\b\b\b\b\b\b\b\b\b\b\b\b\b\b\b\b\b\r88/88 [==============================] - 0s 2ms/step - loss: 0.1068 - accuracy: 0.9409\n"
          ],
          "name": "stdout"
        },
        {
          "output_type": "stream",
          "text": [
            "评估中: 7it [00:00, 128.48it/s]"
          ],
          "name": "stderr"
        },
        {
          "output_type": "stream",
          "text": [
            "{'main': 0.20709204910792942, 'rouge-1': 0.22268138338996732, 'rouge-2': 0.15220281549986686, 'rouge-l': 0.25418661557497296, 'best': 0.25417911825583894}\n",
            "Epoch 11/20\n",
            "\r64/88 [====================>.........] - ETA: 0s - loss: 0.1092 - accuracy: 0.9368"
          ],
          "name": "stdout"
        },
        {
          "output_type": "stream",
          "text": [
            "\n"
          ],
          "name": "stderr"
        },
        {
          "output_type": "stream",
          "text": [
            "\b\b\b\b\b\b\b\b\b\b\b\b\b\b\b\b\b\b\b\b\b\b\b\b\b\b\b\b\b\b\b\b\b\b\b\b\b\b\b\b\b\b\b\b\b\b\b\b\b\b\b\b\b\b\b\b\b\b\b\b\b\b\b\b\b\b\b\b\b\b\b\b\b\b\b\b\b\b\b\b\b\b\r88/88 [==============================] - 0s 2ms/step - loss: 0.1053 - accuracy: 0.9426\n"
          ],
          "name": "stdout"
        },
        {
          "output_type": "stream",
          "text": [
            "评估中: 7it [00:00, 123.28it/s]"
          ],
          "name": "stderr"
        },
        {
          "output_type": "stream",
          "text": [
            "{'main': 0.2168981122989496, 'rouge-1': 0.23328545498980566, 'rouge-2': 0.1619891861272797, 'rouge-l': 0.2636133671251915, 'best': 0.25417911825583894}\n",
            "Epoch 12/20\n",
            "\r64/88 [====================>.........] - ETA: 0s - loss: 0.0989 - accuracy: 0.9416"
          ],
          "name": "stdout"
        },
        {
          "output_type": "stream",
          "text": [
            "\n"
          ],
          "name": "stderr"
        },
        {
          "output_type": "stream",
          "text": [
            "\b\b\b\b\b\b\b\b\b\b\b\b\b\b\b\b\b\b\b\b\b\b\b\b\b\b\b\b\b\b\b\b\b\b\b\b\b\b\b\b\b\b\b\b\b\b\b\b\b\b\b\b\b\b\b\b\b\b\b\b\b\b\b\b\b\b\b\b\b\b\b\b\b\b\b\b\b\b\b\b\b\b\r88/88 [==============================] - 0s 2ms/step - loss: 0.1025 - accuracy: 0.9429\n"
          ],
          "name": "stdout"
        },
        {
          "output_type": "stream",
          "text": [
            "评估中: 7it [00:00, 84.70it/s]"
          ],
          "name": "stderr"
        },
        {
          "output_type": "stream",
          "text": [
            "{'main': 0.24246258868162224, 'rouge-1': 0.2673826663189241, 'rouge-2': 0.19338888046608013, 'rouge-l': 0.27907625807851333, 'best': 0.25417911825583894}\n",
            "Epoch 13/20\n",
            "\r64/88 [====================>.........] - ETA: 0s - loss: 0.0974 - accuracy: 0.9455"
          ],
          "name": "stdout"
        },
        {
          "output_type": "stream",
          "text": [
            "\n"
          ],
          "name": "stderr"
        },
        {
          "output_type": "stream",
          "text": [
            "\b\b\b\b\b\b\b\b\b\b\b\b\b\b\b\b\b\b\b\b\b\b\b\b\b\b\b\b\b\b\b\b\b\b\b\b\b\b\b\b\b\b\b\b\b\b\b\b\b\b\b\b\b\b\b\b\b\b\b\b\b\b\b\b\b\b\b\b\b\b\b\b\b\b\b\b\b\b\b\b\b\b\r88/88 [==============================] - 0s 2ms/step - loss: 0.1027 - accuracy: 0.9428\n"
          ],
          "name": "stdout"
        },
        {
          "output_type": "stream",
          "text": [
            "评估中: 7it [00:00, 82.78it/s]"
          ],
          "name": "stderr"
        },
        {
          "output_type": "stream",
          "text": [
            "{'main': 0.23825092997728176, 'rouge-1': 0.26452334530701616, 'rouge-2': 0.1890620472904951, 'rouge-l': 0.2743036049992011, 'best': 0.25417911825583894}\n",
            "Epoch 14/20\n",
            "64/88 [====================>.........] - ETA: 0s - loss: 0.0963 - accuracy: 0.9493"
          ],
          "name": "stdout"
        },
        {
          "output_type": "stream",
          "text": [
            "\n"
          ],
          "name": "stderr"
        },
        {
          "output_type": "stream",
          "text": [
            "\b\b\b\b\b\b\b\b\b\b\b\b\b\b\b\b\b\b\b\b\b\b\b\b\b\b\b\b\b\b\b\b\b\b\b\b\b\b\b\b\b\b\b\b\b\b\b\b\b\b\b\b\b\b\b\b\b\b\b\b\b\b\b\b\b\b\b\b\b\b\b\b\b\b\b\b\b\b\b\b\b\b\r88/88 [==============================] - 0s 2ms/step - loss: 0.1013 - accuracy: 0.9427\n"
          ],
          "name": "stdout"
        },
        {
          "output_type": "stream",
          "text": [
            "评估中: 7it [00:00, 54.31it/s]"
          ],
          "name": "stderr"
        },
        {
          "output_type": "stream",
          "text": [
            "{'main': 0.2674098450404453, 'rouge-1': 0.31906307825290037, 'rouge-2': 0.19749430091249934, 'rouge-l': 0.3114987725621636, 'best': 0.2674098450404453}\n",
            "Epoch 15/20\n"
          ],
          "name": "stdout"
        },
        {
          "output_type": "stream",
          "text": [
            "\n"
          ],
          "name": "stderr"
        },
        {
          "output_type": "stream",
          "text": [
            "88/88 [==============================] - 0s 2ms/step - loss: 0.1008 - accuracy: 0.9427\n"
          ],
          "name": "stdout"
        },
        {
          "output_type": "stream",
          "text": [
            "评估中: 7it [00:00, 71.91it/s]"
          ],
          "name": "stderr"
        },
        {
          "output_type": "stream",
          "text": [
            "{'main': 0.242609976325107, 'rouge-1': 0.2757306587110279, 'rouge-2': 0.18046305453481618, 'rouge-l': 0.28819655692243734, 'best': 0.2674098450404453}\n",
            "Epoch 16/20\n"
          ],
          "name": "stdout"
        },
        {
          "output_type": "stream",
          "text": [
            "\n"
          ],
          "name": "stderr"
        },
        {
          "output_type": "stream",
          "text": [
            "88/88 [==============================] - 0s 2ms/step - loss: 0.0990 - accuracy: 0.9439\n"
          ],
          "name": "stdout"
        },
        {
          "output_type": "stream",
          "text": [
            "评估中: 7it [00:00, 87.42it/s]"
          ],
          "name": "stderr"
        },
        {
          "output_type": "stream",
          "text": [
            "{'main': 0.217889860785357, 'rouge-1': 0.24415016165650458, 'rouge-2': 0.16760482075885, 'rouge-l': 0.2550447503762902, 'best': 0.2674098450404453}\n",
            "Epoch 17/20\n",
            "64/88 [====================>.........] - ETA: 0s - loss: 0.1093 - accuracy: 0.9424"
          ],
          "name": "stdout"
        },
        {
          "output_type": "stream",
          "text": [
            "\n"
          ],
          "name": "stderr"
        },
        {
          "output_type": "stream",
          "text": [
            "\b\b\b\b\b\b\b\b\b\b\b\b\b\b\b\b\b\b\b\b\b\b\b\b\b\b\b\b\b\b\b\b\b\b\b\b\b\b\b\b\b\b\b\b\b\b\b\b\b\b\b\b\b\b\b\b\b\b\b\b\b\b\b\b\b\b\b\b\b\b\b\b\b\b\b\b\b\b\b\b\b\b\r88/88 [==============================] - 0s 2ms/step - loss: 0.0985 - accuracy: 0.9444\n"
          ],
          "name": "stdout"
        },
        {
          "output_type": "stream",
          "text": [
            "评估中: 7it [00:00, 61.74it/s]"
          ],
          "name": "stderr"
        },
        {
          "output_type": "stream",
          "text": [
            "{'main': 0.2467015507488501, 'rouge-1': 0.30044500857666295, 'rouge-2': 0.17358626027704394, 'rouge-l': 0.29294511230674997, 'best': 0.2674098450404453}\n",
            "Epoch 18/20\n"
          ],
          "name": "stdout"
        },
        {
          "output_type": "stream",
          "text": [
            "\n"
          ],
          "name": "stderr"
        },
        {
          "output_type": "stream",
          "text": [
            "88/88 [==============================] - 0s 2ms/step - loss: 0.0983 - accuracy: 0.9429\n"
          ],
          "name": "stdout"
        },
        {
          "output_type": "stream",
          "text": [
            "评估中: 7it [00:00, 43.08it/s]"
          ],
          "name": "stderr"
        },
        {
          "output_type": "stream",
          "text": [
            "{'main': 0.26181040636803277, 'rouge-1': 0.3292743077543511, 'rouge-2': 0.1894856180791689, 'rouge-l': 0.30040324396373735, 'best': 0.2674098450404453}\n",
            "Epoch 19/20\n"
          ],
          "name": "stdout"
        },
        {
          "output_type": "stream",
          "text": [
            "\n"
          ],
          "name": "stderr"
        },
        {
          "output_type": "stream",
          "text": [
            "88/88 [==============================] - 0s 2ms/step - loss: 0.0962 - accuracy: 0.9452\n"
          ],
          "name": "stdout"
        },
        {
          "output_type": "stream",
          "text": [
            "评估中: 7it [00:00, 66.07it/s]"
          ],
          "name": "stderr"
        },
        {
          "output_type": "stream",
          "text": [
            "{'main': 0.21043723000793738, 'rouge-1': 0.24901257027693421, 'rouge-2': 0.15757125138028463, 'rouge-l': 0.24401553850109167, 'best': 0.2674098450404453}\n",
            "Epoch 20/20\n"
          ],
          "name": "stdout"
        },
        {
          "output_type": "stream",
          "text": [
            "\n"
          ],
          "name": "stderr"
        },
        {
          "output_type": "stream",
          "text": [
            "88/88 [==============================] - 0s 2ms/step - loss: 0.0962 - accuracy: 0.9448\n"
          ],
          "name": "stdout"
        },
        {
          "output_type": "stream",
          "text": [
            "评估中: 7it [00:00, 42.46it/s]"
          ],
          "name": "stderr"
        },
        {
          "output_type": "stream",
          "text": [
            "{'main': 0.2536450996064384, 'rouge-1': 0.3254676971199539, 'rouge-2': 0.18115173823341654, 'rouge-l': 0.29022716222270245, 'best': 0.2674098450404453}\n",
            "Epoch 1/20\n"
          ],
          "name": "stdout"
        },
        {
          "output_type": "stream",
          "text": [
            "\n"
          ],
          "name": "stderr"
        },
        {
          "output_type": "stream",
          "text": [
            "88/88 [==============================] - 0s 2ms/step - loss: 0.0968 - accuracy: 0.9404\n"
          ],
          "name": "stdout"
        },
        {
          "output_type": "stream",
          "text": [
            "评估中: 7it [00:00, 235.65it/s]"
          ],
          "name": "stderr"
        },
        {
          "output_type": "stream",
          "text": [
            "{'main': 0.23908174003777363, 'rouge-1': 0.2455703283536863, 'rouge-2': 0.18482337615847141, 'rouge-l': 0.29009580975911947, 'best': 0.23908174003777363}\n",
            "Epoch 2/20\n",
            "64/88 [====================>.........] - ETA: 0s - loss: 0.1033 - accuracy: 0.9381"
          ],
          "name": "stdout"
        },
        {
          "output_type": "stream",
          "text": [
            "\n"
          ],
          "name": "stderr"
        },
        {
          "output_type": "stream",
          "text": [
            "\b\b\b\b\b\b\b\b\b\b\b\b\b\b\b\b\b\b\b\b\b\b\b\b\b\b\b\b\b\b\b\b\b\b\b\b\b\b\b\b\b\b\b\b\b\b\b\b\b\b\b\b\b\b\b\b\b\b\b\b\b\b\b\b\b\b\b\b\b\b\b\b\b\b\b\b\b\b\b\b\b\b\r88/88 [==============================] - 0s 2ms/step - loss: 0.0979 - accuracy: 0.9415\n"
          ],
          "name": "stdout"
        },
        {
          "output_type": "stream",
          "text": [
            "评估中: 7it [00:00, 93.68it/s]"
          ],
          "name": "stderr"
        },
        {
          "output_type": "stream",
          "text": [
            "{'main': 0.3688367618628736, 'rouge-1': 0.41055588019434497, 'rouge-2': 0.3088474836866505, 'rouge-l': 0.407966480873361, 'best': 0.3688367618628736}\n",
            "Epoch 3/20\n"
          ],
          "name": "stdout"
        },
        {
          "output_type": "stream",
          "text": [
            "\n"
          ],
          "name": "stderr"
        },
        {
          "output_type": "stream",
          "text": [
            "88/88 [==============================] - 0s 2ms/step - loss: 0.0974 - accuracy: 0.9398\n"
          ],
          "name": "stdout"
        },
        {
          "output_type": "stream",
          "text": [
            "评估中: 7it [00:00, 238.51it/s]"
          ],
          "name": "stderr"
        },
        {
          "output_type": "stream",
          "text": [
            "{'main': 0.2452337148647277, 'rouge-1': 0.26350477458648874, 'rouge-2': 0.18884374574593213, 'rouge-l': 0.2924881541226428, 'best': 0.3688367618628736}\n",
            "Epoch 4/20\n",
            "88/88 [==============================] - 0s 2ms/step - loss: 0.0965 - accuracy: 0.9418\n"
          ],
          "name": "stdout"
        },
        {
          "output_type": "stream",
          "text": [
            "\n",
            "评估中: 7it [00:00, 279.63it/s]\n"
          ],
          "name": "stderr"
        },
        {
          "output_type": "stream",
          "text": [
            "{'main': 0.22966648265334813, 'rouge-1': 0.24596340536819827, 'rouge-2': 0.17810310939145133, 'rouge-l': 0.2730813945578199, 'best': 0.3688367618628736}\n",
            "Epoch 5/20\n",
            "88/88 [==============================] - 0s 2ms/step - loss: 0.0937 - accuracy: 0.9424\n"
          ],
          "name": "stdout"
        },
        {
          "output_type": "stream",
          "text": [
            "评估中: 7it [00:00, 199.30it/s]\n"
          ],
          "name": "stderr"
        },
        {
          "output_type": "stream",
          "text": [
            "{'main': 0.2714012239410185, 'rouge-1': 0.29044364847404397, 'rouge-2': 0.2206861635634669, 'rouge-l': 0.31259507205205733, 'best': 0.3688367618628736}\n",
            "Epoch 6/20\n",
            "88/88 [==============================] - 0s 2ms/step - loss: 0.0935 - accuracy: 0.9430\n"
          ],
          "name": "stdout"
        },
        {
          "output_type": "stream",
          "text": [
            "评估中: 7it [00:00, 213.09it/s]\n"
          ],
          "name": "stderr"
        },
        {
          "output_type": "stream",
          "text": [
            "{'main': 0.27620010197145406, 'rouge-1': 0.2997870815427203, 'rouge-2': 0.2228025655630687, 'rouge-l': 0.3178041485942062, 'best': 0.3688367618628736}\n",
            "Epoch 7/20\n",
            "88/88 [==============================] - 0s 2ms/step - loss: 0.0936 - accuracy: 0.9427\n"
          ],
          "name": "stdout"
        },
        {
          "output_type": "stream",
          "text": [
            "评估中: 7it [00:00, 175.16it/s]\n"
          ],
          "name": "stderr"
        },
        {
          "output_type": "stream",
          "text": [
            "{'main': 0.29357328799411714, 'rouge-1': 0.3200744711880318, 'rouge-2': 0.22894131961347328, 'rouge-l': 0.34495466477780345, 'best': 0.3688367618628736}\n",
            "Epoch 8/20\n",
            "88/88 [==============================] - 0s 2ms/step - loss: 0.0909 - accuracy: 0.9428\n"
          ],
          "name": "stdout"
        },
        {
          "output_type": "stream",
          "text": [
            "评估中: 7it [00:00, 566.14it/s]\n"
          ],
          "name": "stderr"
        },
        {
          "output_type": "stream",
          "text": [
            "{'main': 0.16112064278802435, 'rouge-1': 0.1607547133521948, 'rouge-2': 0.14551020302260828, 'rouge-l': 0.1769140472713552, 'best': 0.3688367618628736}\n",
            "Epoch 9/20\n",
            "88/88 [==============================] - 0s 2ms/step - loss: 0.0925 - accuracy: 0.9431\n"
          ],
          "name": "stdout"
        },
        {
          "output_type": "stream",
          "text": [
            "评估中: 7it [00:00, 83.76it/s]"
          ],
          "name": "stderr"
        },
        {
          "output_type": "stream",
          "text": [
            "{'main': 0.31237033928884234, 'rouge-1': 0.35678744895632, 'rouge-2': 0.2302350295388424, 'rouge-l': 0.37229709420510343, 'best': 0.3688367618628736}\n",
            "Epoch 10/20\n",
            "64/88 [====================>.........] - ETA: 0s - loss: 0.0926 - accuracy: 0.9437"
          ],
          "name": "stdout"
        },
        {
          "output_type": "stream",
          "text": [
            "\n"
          ],
          "name": "stderr"
        },
        {
          "output_type": "stream",
          "text": [
            "\b\b\b\b\b\b\b\b\b\b\b\b\b\b\b\b\b\b\b\b\b\b\b\b\b\b\b\b\b\b\b\b\b\b\b\b\b\b\b\b\b\b\b\b\b\b\b\b\b\b\b\b\b\b\b\b\b\b\b\b\b\b\b\b\b\b\b\b\b\b\b\b\b\b\b\b\b\b\b\b\b\b\r88/88 [==============================] - 0s 2ms/step - loss: 0.0926 - accuracy: 0.9403\n"
          ],
          "name": "stdout"
        },
        {
          "output_type": "stream",
          "text": [
            "评估中: 7it [00:00, 376.66it/s]\n"
          ],
          "name": "stderr"
        },
        {
          "output_type": "stream",
          "text": [
            "{'main': 0.1816250095262348, 'rouge-1': 0.1968969443947423, 'rouge-2': 0.15343629184976373, 'rouge-l': 0.20217775976845204, 'best': 0.3688367618628736}\n",
            "Epoch 11/20\n",
            "88/88 [==============================] - 0s 2ms/step - loss: 0.0922 - accuracy: 0.9430\n"
          ],
          "name": "stdout"
        },
        {
          "output_type": "stream",
          "text": [
            "评估中: 7it [00:00, 152.79it/s]"
          ],
          "name": "stderr"
        },
        {
          "output_type": "stream",
          "text": [
            "{'main': 0.25778337085924, 'rouge-1': 0.30241165508408924, 'rouge-2': 0.19961544394552858, 'rouge-l': 0.2936371556605267, 'best': 0.3688367618628736}\n",
            "Epoch 12/20\n",
            "88/88 [==============================] - 0s 2ms/step - loss: 0.0882 - accuracy: 0.9442\n"
          ],
          "name": "stdout"
        },
        {
          "output_type": "stream",
          "text": [
            "\n",
            "评估中: 7it [00:00, 253.73it/s]\n"
          ],
          "name": "stderr"
        },
        {
          "output_type": "stream",
          "text": [
            "{'main': 0.20568228223611068, 'rouge-1': 0.231576078474753, 'rouge-2': 0.16261211529438419, 'rouge-l': 0.23580555105851594, 'best': 0.3688367618628736}\n",
            "Epoch 13/20\n",
            "88/88 [==============================] - 0s 2ms/step - loss: 0.0880 - accuracy: 0.9443\n"
          ],
          "name": "stdout"
        },
        {
          "output_type": "stream",
          "text": [
            "评估中: 7it [00:00, 119.71it/s]"
          ],
          "name": "stderr"
        },
        {
          "output_type": "stream",
          "text": [
            "{'main': 0.28724647103859385, 'rouge-1': 0.32322151722341713, 'rouge-2': 0.22149690718677265, 'rouge-l': 0.3350085117980033, 'best': 0.3688367618628736}\n",
            "Epoch 14/20\n",
            "64/88 [====================>.........] - ETA: 0s - loss: 0.0854 - accuracy: 0.9464"
          ],
          "name": "stdout"
        },
        {
          "output_type": "stream",
          "text": [
            "\n"
          ],
          "name": "stderr"
        },
        {
          "output_type": "stream",
          "text": [
            "\b\b\b\b\b\b\b\b\b\b\b\b\b\b\b\b\b\b\b\b\b\b\b\b\b\b\b\b\b\b\b\b\b\b\b\b\b\b\b\b\b\b\b\b\b\b\b\b\b\b\b\b\b\b\b\b\b\b\b\b\b\b\b\b\b\b\b\b\b\b\b\b\b\b\b\b\b\b\b\b\b\b\r88/88 [==============================] - 0s 2ms/step - loss: 0.0876 - accuracy: 0.9438\n"
          ],
          "name": "stdout"
        },
        {
          "output_type": "stream",
          "text": [
            "评估中: 7it [00:00, 152.54it/s]"
          ],
          "name": "stderr"
        },
        {
          "output_type": "stream",
          "text": [
            "{'main': 0.23658615365955526, 'rouge-1': 0.27695607797837213, 'rouge-2': 0.18471082022938545, 'rouge-l': 0.2682765249303166, 'best': 0.3688367618628736}\n",
            "Epoch 15/20\n",
            "88/88 [==============================] - 0s 2ms/step - loss: 0.0872 - accuracy: 0.9445\n"
          ],
          "name": "stdout"
        },
        {
          "output_type": "stream",
          "text": [
            "\n",
            "评估中: 7it [00:00, 399.59it/s]\n"
          ],
          "name": "stderr"
        },
        {
          "output_type": "stream",
          "text": [
            "{'main': 0.1674628121606045, 'rouge-1': 0.18387244815352796, 'rouge-2': 0.14213435214294592, 'rouge-l': 0.18458645418180122, 'best': 0.3688367618628736}\n",
            "Epoch 16/20\n",
            "88/88 [==============================] - 0s 2ms/step - loss: 0.0865 - accuracy: 0.9444\n"
          ],
          "name": "stdout"
        },
        {
          "output_type": "stream",
          "text": [
            "评估中: 7it [00:00, 40.05it/s]"
          ],
          "name": "stderr"
        },
        {
          "output_type": "stream",
          "text": [
            "{'main': 0.30706926495728337, 'rouge-1': 0.3995024300199774, 'rouge-2': 0.22154825007641113, 'rouge-l': 0.3463736973068085, 'best': 0.3688367618628736}\n",
            "Epoch 17/20\n"
          ],
          "name": "stdout"
        },
        {
          "output_type": "stream",
          "text": [
            "\n"
          ],
          "name": "stderr"
        },
        {
          "output_type": "stream",
          "text": [
            "88/88 [==============================] - 0s 2ms/step - loss: 0.0893 - accuracy: 0.9404\n"
          ],
          "name": "stdout"
        },
        {
          "output_type": "stream",
          "text": [
            "评估中: 7it [00:00, 647.03it/s]\n"
          ],
          "name": "stderr"
        },
        {
          "output_type": "stream",
          "text": [
            "{'main': 0.13954466661165402, 'rouge-1': 0.138198322603393, 'rouge-2': 0.13020408078477116, 'rouge-l': 0.14955842444266734, 'best': 0.3688367618628736}\n",
            "Epoch 18/20\n",
            "88/88 [==============================] - 0s 2ms/step - loss: 0.0897 - accuracy: 0.9447\n"
          ],
          "name": "stdout"
        },
        {
          "output_type": "stream",
          "text": [
            "评估中: 7it [00:00, 58.51it/s]"
          ],
          "name": "stderr"
        },
        {
          "output_type": "stream",
          "text": [
            "{'main': 0.27767260448064757, 'rouge-1': 0.3490440588789676, 'rouge-2': 0.19924513203592292, 'rouge-l': 0.32041434972621213, 'best': 0.3688367618628736}\n",
            "Epoch 19/20\n"
          ],
          "name": "stdout"
        },
        {
          "output_type": "stream",
          "text": [
            "\n"
          ],
          "name": "stderr"
        },
        {
          "output_type": "stream",
          "text": [
            "88/88 [==============================] - 0s 2ms/step - loss: 0.0908 - accuracy: 0.9417\n"
          ],
          "name": "stdout"
        },
        {
          "output_type": "stream",
          "text": [
            "评估中: 7it [00:00, 588.58it/s]\n"
          ],
          "name": "stderr"
        },
        {
          "output_type": "stream",
          "text": [
            "{'main': 0.13954466661165402, 'rouge-1': 0.138198322603393, 'rouge-2': 0.13020408078477116, 'rouge-l': 0.14955842444266734, 'best': 0.3688367618628736}\n",
            "Epoch 20/20\n",
            "88/88 [==============================] - 0s 2ms/step - loss: 0.0918 - accuracy: 0.9434\n"
          ],
          "name": "stdout"
        },
        {
          "output_type": "stream",
          "text": [
            "评估中: 7it [00:00, 79.66it/s]"
          ],
          "name": "stderr"
        },
        {
          "output_type": "stream",
          "text": [
            "{'main': 0.26669340799072494, 'rouge-1': 0.31903192940901215, 'rouge-2': 0.19842068282005013, 'rouge-l': 0.30879687245225595, 'best': 0.3688367618628736}\n",
            "Epoch 1/20\n"
          ],
          "name": "stdout"
        },
        {
          "output_type": "stream",
          "text": [
            "\n"
          ],
          "name": "stderr"
        },
        {
          "output_type": "stream",
          "text": [
            "88/88 [==============================] - 0s 2ms/step - loss: 0.0843 - accuracy: 0.9475\n"
          ],
          "name": "stdout"
        },
        {
          "output_type": "stream",
          "text": [
            "评估中: 7it [00:00, 28.72it/s]\n"
          ],
          "name": "stderr"
        },
        {
          "output_type": "stream",
          "text": [
            "{'main': 0.4558632091032102, 'rouge-1': 0.4635313651523532, 'rouge-2': 0.41181290395342124, 'rouge-l': 0.49607943622842754, 'best': 0.4558632091032102}\n",
            "Epoch 2/20\n",
            "88/88 [==============================] - 0s 2ms/step - loss: 0.0829 - accuracy: 0.9461\n"
          ],
          "name": "stdout"
        },
        {
          "output_type": "stream",
          "text": [
            "评估中: 7it [00:00, 19.03it/s]\n"
          ],
          "name": "stderr"
        },
        {
          "output_type": "stream",
          "text": [
            "{'main': 0.4839835200841652, 'rouge-1': 0.5014125029615913, 'rouge-2': 0.42465105973192385, 'rouge-l': 0.5346014889976934, 'best': 0.4839835200841652}\n",
            "Epoch 3/20\n",
            "88/88 [==============================] - 0s 2ms/step - loss: 0.0819 - accuracy: 0.9486\n"
          ],
          "name": "stdout"
        },
        {
          "output_type": "stream",
          "text": [
            "评估中: 7it [00:00, 20.18it/s]\n"
          ],
          "name": "stderr"
        },
        {
          "output_type": "stream",
          "text": [
            "{'main': 0.46947819028527643, 'rouge-1': 0.48454524184722875, 'rouge-2': 0.41536844982666726, 'rouge-l': 0.5160544049629093, 'best': 0.4839835200841652}\n",
            "Epoch 4/20\n",
            "88/88 [==============================] - 0s 2ms/step - loss: 0.0802 - accuracy: 0.9486\n"
          ],
          "name": "stdout"
        },
        {
          "output_type": "stream",
          "text": [
            "评估中: 7it [00:00, 21.32it/s]\n"
          ],
          "name": "stderr"
        },
        {
          "output_type": "stream",
          "text": [
            "{'main': 0.4667437410795413, 'rouge-1': 0.4947092395205769, 'rouge-2': 0.409975315918499, 'rouge-l': 0.5095294170200659, 'best': 0.4839835200841652}\n",
            "Epoch 5/20\n",
            "88/88 [==============================] - 0s 2ms/step - loss: 0.0788 - accuracy: 0.9481\n"
          ],
          "name": "stdout"
        },
        {
          "output_type": "stream",
          "text": [
            "评估中: 7it [00:00, 21.08it/s]\n"
          ],
          "name": "stderr"
        },
        {
          "output_type": "stream",
          "text": [
            "{'main': 0.4762329929592603, 'rouge-1': 0.4992938875035864, 'rouge-2': 0.4171271820372452, 'rouge-l': 0.5238083566091125, 'best': 0.4839835200841652}\n",
            "Epoch 6/20\n",
            "88/88 [==============================] - 0s 2ms/step - loss: 0.0802 - accuracy: 0.9473\n"
          ],
          "name": "stdout"
        },
        {
          "output_type": "stream",
          "text": [
            "评估中: 7it [00:00, 20.41it/s]\n"
          ],
          "name": "stderr"
        },
        {
          "output_type": "stream",
          "text": [
            "{'main': 0.47874009341157214, 'rouge-1': 0.5028193163139324, 'rouge-2': 0.4194295731167844, 'rouge-l': 0.5260110022551799, 'best': 0.4839835200841652}\n",
            "Epoch 7/20\n",
            "88/88 [==============================] - 0s 2ms/step - loss: 0.0772 - accuracy: 0.9504\n"
          ],
          "name": "stdout"
        },
        {
          "output_type": "stream",
          "text": [
            "评估中: 7it [00:00, 18.29it/s]\n"
          ],
          "name": "stderr"
        },
        {
          "output_type": "stream",
          "text": [
            "{'main': 0.4815455542294394, 'rouge-1': 0.5003183597691445, 'rouge-2': 0.41606187891633556, 'rouge-l': 0.5376428267726906, 'best': 0.4839835200841652}\n",
            "Epoch 8/20\n",
            "88/88 [==============================] - 0s 2ms/step - loss: 0.0792 - accuracy: 0.9470\n"
          ],
          "name": "stdout"
        },
        {
          "output_type": "stream",
          "text": [
            "评估中: 7it [00:00, 20.20it/s]"
          ],
          "name": "stderr"
        },
        {
          "output_type": "stream",
          "text": [
            "{'main': 0.46401230005182803, 'rouge-1': 0.49150483026579944, 'rouge-2': 0.3993843474141342, 'rouge-l': 0.5148939875825359, 'best': 0.4839835200841652}\n",
            "Epoch 9/20\n",
            "88/88 [==============================] - 0s 2ms/step - loss: 0.0762 - accuracy: 0.9485\n"
          ],
          "name": "stdout"
        },
        {
          "output_type": "stream",
          "text": [
            "\n",
            "评估中: 7it [00:00, 22.43it/s]\n"
          ],
          "name": "stderr"
        },
        {
          "output_type": "stream",
          "text": [
            "{'main': 0.4464434809031266, 'rouge-1': 0.4773854090945854, 'rouge-2': 0.3844256489163186, 'rouge-l': 0.49299034879420517, 'best': 0.4839835200841652}\n",
            "Epoch 10/20\n",
            "88/88 [==============================] - 0s 2ms/step - loss: 0.0776 - accuracy: 0.9486\n"
          ],
          "name": "stdout"
        },
        {
          "output_type": "stream",
          "text": [
            "评估中: 7it [00:00, 20.82it/s]\n"
          ],
          "name": "stderr"
        },
        {
          "output_type": "stream",
          "text": [
            "{'main': 0.45264799077036627, 'rouge-1': 0.48863767869778624, 'rouge-2': 0.3878117802159703, 'rouge-l': 0.4994893573610521, 'best': 0.4839835200841652}\n",
            "Epoch 11/20\n",
            "88/88 [==============================] - 0s 2ms/step - loss: 0.0763 - accuracy: 0.9487\n"
          ],
          "name": "stdout"
        },
        {
          "output_type": "stream",
          "text": [
            "评估中: 7it [00:00, 34.62it/s]"
          ],
          "name": "stderr"
        },
        {
          "output_type": "stream",
          "text": [
            "{'main': 0.34954627841332814, 'rouge-1': 0.37257269055171527, 'rouge-2': 0.31741716530720554, 'rouge-l': 0.3701621854502571, 'best': 0.4839835200841652}\n",
            "Epoch 12/20\n",
            "\r64/88 [====================>.........] - ETA: 0s - loss: 0.0828 - accuracy: 0.9473"
          ],
          "name": "stdout"
        },
        {
          "output_type": "stream",
          "text": [
            "\n"
          ],
          "name": "stderr"
        },
        {
          "output_type": "stream",
          "text": [
            "\b\b\b\b\b\b\b\b\b\b\b\b\b\b\b\b\b\b\b\b\b\b\b\b\b\b\b\b\b\b\b\b\b\b\b\b\b\b\b\b\b\b\b\b\b\b\b\b\b\b\b\b\b\b\b\b\b\b\b\b\b\b\b\b\b\b\b\b\b\b\b\b\b\b\b\b\b\b\b\b\b\b\r88/88 [==============================] - 0s 2ms/step - loss: 0.0828 - accuracy: 0.9479\n"
          ],
          "name": "stdout"
        },
        {
          "output_type": "stream",
          "text": [
            "评估中: 7it [00:00, 18.31it/s]"
          ],
          "name": "stderr"
        },
        {
          "output_type": "stream",
          "text": [
            "{'main': 0.4554978320343387, 'rouge-1': 0.4979044415126127, 'rouge-2': 0.3842749415211448, 'rouge-l': 0.5055174178083955, 'best': 0.4839835200841652}\n",
            "Epoch 13/20\n",
            "88/88 [==============================] - 0s 2ms/step - loss: 0.0796 - accuracy: 0.9465\n"
          ],
          "name": "stdout"
        },
        {
          "output_type": "stream",
          "text": [
            "\n",
            "评估中: 7it [00:00, 33.78it/s]"
          ],
          "name": "stderr"
        },
        {
          "output_type": "stream",
          "text": [
            "{'main': 0.40983889205998, 'rouge-1': 0.43224899701861036, 'rouge-2': 0.3706388339572343, 'rouge-l': 0.4378338976834103, 'best': 0.4839835200841652}\n",
            "Epoch 14/20\n",
            "\r64/88 [====================>.........] - ETA: 0s - loss: 0.0756 - accuracy: 0.9530"
          ],
          "name": "stdout"
        },
        {
          "output_type": "stream",
          "text": [
            "\n"
          ],
          "name": "stderr"
        },
        {
          "output_type": "stream",
          "text": [
            "\b\b\b\b\b\b\b\b\b\b\b\b\b\b\b\b\b\b\b\b\b\b\b\b\b\b\b\b\b\b\b\b\b\b\b\b\b\b\b\b\b\b\b\b\b\b\b\b\b\b\b\b\b\b\b\b\b\b\b\b\b\b\b\b\b\b\b\b\b\b\b\b\b\b\b\b\b\b\b\b\b\b\r88/88 [==============================] - 0s 2ms/step - loss: 0.0835 - accuracy: 0.9485\n"
          ],
          "name": "stdout"
        },
        {
          "output_type": "stream",
          "text": [
            "评估中: 7it [00:00, 22.89it/s]\n"
          ],
          "name": "stderr"
        },
        {
          "output_type": "stream",
          "text": [
            "{'main': 0.46640289566805493, 'rouge-1': 0.4966427124135941, 'rouge-2': 0.40175717228888386, 'rouge-l': 0.5159287106744562, 'best': 0.4839835200841652}\n",
            "Epoch 15/20\n",
            "88/88 [==============================] - 0s 2ms/step - loss: 0.0783 - accuracy: 0.9487\n"
          ],
          "name": "stdout"
        },
        {
          "output_type": "stream",
          "text": [
            "评估中: 7it [00:00, 21.41it/s]\n"
          ],
          "name": "stderr"
        },
        {
          "output_type": "stream",
          "text": [
            "{'main': 0.4540521285180797, 'rouge-1': 0.48879089404645787, 'rouge-2': 0.3884624437141843, 'rouge-l': 0.5022724305577859, 'best': 0.4839835200841652}\n",
            "Epoch 16/20\n",
            "88/88 [==============================] - 0s 2ms/step - loss: 0.0778 - accuracy: 0.9473\n"
          ],
          "name": "stdout"
        },
        {
          "output_type": "stream",
          "text": [
            "评估中: 7it [00:00, 30.85it/s]\n"
          ],
          "name": "stderr"
        },
        {
          "output_type": "stream",
          "text": [
            "{'main': 0.3989935774723063, 'rouge-1': 0.4187760079441488, 'rouge-2': 0.35875627216003053, 'rouge-l': 0.42933966754866065, 'best': 0.4839835200841652}\n",
            "Epoch 17/20\n",
            "88/88 [==============================] - 0s 2ms/step - loss: 0.0779 - accuracy: 0.9495\n"
          ],
          "name": "stdout"
        },
        {
          "output_type": "stream",
          "text": [
            "评估中: 7it [00:00, 18.15it/s]\n"
          ],
          "name": "stderr"
        },
        {
          "output_type": "stream",
          "text": [
            "{'main': 0.4559406489453199, 'rouge-1': 0.48770855670941865, 'rouge-2': 0.3881410763562027, 'rouge-l': 0.5078562676523878, 'best': 0.4839835200841652}\n",
            "Epoch 18/20\n",
            "88/88 [==============================] - 0s 2ms/step - loss: 0.0775 - accuracy: 0.9477\n"
          ],
          "name": "stdout"
        },
        {
          "output_type": "stream",
          "text": [
            "评估中: 7it [00:00, 22.82it/s]\n"
          ],
          "name": "stderr"
        },
        {
          "output_type": "stream",
          "text": [
            "{'main': 0.4267321637175517, 'rouge-1': 0.44621219844197707, 'rouge-2': 0.36844971644601526, 'rouge-l': 0.4752745936268753, 'best': 0.4839835200841652}\n",
            "Epoch 19/20\n",
            "88/88 [==============================] - 0s 2ms/step - loss: 0.0760 - accuracy: 0.9490\n"
          ],
          "name": "stdout"
        },
        {
          "output_type": "stream",
          "text": [
            "评估中: 7it [00:00, 29.58it/s]\n"
          ],
          "name": "stderr"
        },
        {
          "output_type": "stream",
          "text": [
            "{'main': 0.3842622486084292, 'rouge-1': 0.399726421760926, 'rouge-2': 0.34517536537673493, 'rouge-l': 0.41561704526387505, 'best': 0.4839835200841652}\n",
            "Epoch 20/20\n",
            "88/88 [==============================] - 0s 2ms/step - loss: 0.0770 - accuracy: 0.9484\n"
          ],
          "name": "stdout"
        },
        {
          "output_type": "stream",
          "text": [
            "评估中: 7it [00:00, 20.19it/s]"
          ],
          "name": "stderr"
        },
        {
          "output_type": "stream",
          "text": [
            "{'main': 0.4485815049852329, 'rouge-1': 0.4844285177298776, 'rouge-2': 0.38028249681220533, 'rouge-l': 0.49895700678593796, 'best': 0.4839835200841652}\n",
            "Epoch 1/20\n",
            "\r64/89 [====================>.........] - ETA: 0s - loss: 0.0834 - accuracy: 0.9425"
          ],
          "name": "stdout"
        },
        {
          "output_type": "stream",
          "text": [
            "\n"
          ],
          "name": "stderr"
        },
        {
          "output_type": "stream",
          "text": [
            "\b\b\b\b\b\b\b\b\b\b\b\b\b\b\b\b\b\b\b\b\b\b\b\b\b\b\b\b\b\b\b\b\b\b\b\b\b\b\b\b\b\b\b\b\b\b\b\b\b\b\b\b\b\b\b\b\b\b\b\b\b\b\b\b\b\b\b\b\b\b\b\b\b\b\b\b\b\b\b\b\b\b\r89/89 [==============================] - 0s 3ms/step - loss: 0.0849 - accuracy: 0.9440\n"
          ],
          "name": "stdout"
        },
        {
          "output_type": "stream",
          "text": [
            "评估中: 6it [00:00, 45.79it/s]\n"
          ],
          "name": "stderr"
        },
        {
          "output_type": "stream",
          "text": [
            "{'main': 0.4071396004737407, 'rouge-1': 0.41236387045215, 'rouge-2': 0.38309595883644776, 'rouge-l': 0.42857110712182894, 'best': 0.4071396004737407}\n",
            "Epoch 2/20\n",
            "89/89 [==============================] - 0s 2ms/step - loss: 0.0794 - accuracy: 0.9473\n"
          ],
          "name": "stdout"
        },
        {
          "output_type": "stream",
          "text": [
            "评估中: 6it [00:00, 53.35it/s]"
          ],
          "name": "stderr"
        },
        {
          "output_type": "stream",
          "text": [
            "{'main': 0.40211368710744155, 'rouge-1': 0.4109188548622396, 'rouge-2': 0.3807834414496707, 'rouge-l': 0.41904134888781347, 'best': 0.4071396004737407}\n",
            "Epoch 3/20\n"
          ],
          "name": "stdout"
        },
        {
          "output_type": "stream",
          "text": [
            "\n"
          ],
          "name": "stderr"
        },
        {
          "output_type": "stream",
          "text": [
            "89/89 [==============================] - 0s 2ms/step - loss: 0.0807 - accuracy: 0.9457\n"
          ],
          "name": "stdout"
        },
        {
          "output_type": "stream",
          "text": [
            "评估中: 6it [00:00, 36.81it/s]"
          ],
          "name": "stderr"
        },
        {
          "output_type": "stream",
          "text": [
            "{'main': 0.3876482889804176, 'rouge-1': 0.3966354319629173, 'rouge-2': 0.36176280095166885, 'rouge-l': 0.40904020551791653, 'best': 0.4071396004737407}\n",
            "Epoch 4/20\n"
          ],
          "name": "stdout"
        },
        {
          "output_type": "stream",
          "text": [
            "\n"
          ],
          "name": "stderr"
        },
        {
          "output_type": "stream",
          "text": [
            "89/89 [==============================] - 0s 2ms/step - loss: 0.0779 - accuracy: 0.9469\n"
          ],
          "name": "stdout"
        },
        {
          "output_type": "stream",
          "text": [
            "评估中: 6it [00:00, 39.59it/s]"
          ],
          "name": "stderr"
        },
        {
          "output_type": "stream",
          "text": [
            "{'main': 0.38828345810239134, 'rouge-1': 0.39773570840678385, 'rouge-2': 0.36280058553466993, 'rouge-l': 0.40904020551791653, 'best': 0.4071396004737407}\n",
            "Epoch 5/20\n"
          ],
          "name": "stdout"
        },
        {
          "output_type": "stream",
          "text": [
            "\n"
          ],
          "name": "stderr"
        },
        {
          "output_type": "stream",
          "text": [
            "89/89 [==============================] - 0s 2ms/step - loss: 0.0770 - accuracy: 0.9485\n"
          ],
          "name": "stdout"
        },
        {
          "output_type": "stream",
          "text": [
            "评估中: 6it [00:00, 44.98it/s]"
          ],
          "name": "stderr"
        },
        {
          "output_type": "stream",
          "text": [
            "{'main': 0.3884294233329861, 'rouge-1': 0.3949260094845591, 'rouge-2': 0.3645837874932328, 'rouge-l': 0.4090267660969529, 'best': 0.4071396004737407}\n",
            "Epoch 6/20\n"
          ],
          "name": "stdout"
        },
        {
          "output_type": "stream",
          "text": [
            "\n"
          ],
          "name": "stderr"
        },
        {
          "output_type": "stream",
          "text": [
            "89/89 [==============================] - 0s 2ms/step - loss: 0.0765 - accuracy: 0.9475\n"
          ],
          "name": "stdout"
        },
        {
          "output_type": "stream",
          "text": [
            "评估中: 6it [00:00, 38.49it/s]"
          ],
          "name": "stderr"
        },
        {
          "output_type": "stream",
          "text": [
            "{'main': 0.3809350483507435, 'rouge-1': 0.3892504335880236, 'rouge-2': 0.3557317262210913, 'rouge-l': 0.40198067786175556, 'best': 0.4071396004737407}\n",
            "Epoch 7/20\n"
          ],
          "name": "stdout"
        },
        {
          "output_type": "stream",
          "text": [
            "\n"
          ],
          "name": "stderr"
        },
        {
          "output_type": "stream",
          "text": [
            "89/89 [==============================] - 0s 2ms/step - loss: 0.0758 - accuracy: 0.9478\n"
          ],
          "name": "stdout"
        },
        {
          "output_type": "stream",
          "text": [
            "评估中: 6it [00:00, 39.26it/s]"
          ],
          "name": "stderr"
        },
        {
          "output_type": "stream",
          "text": [
            "{'main': 0.3799120468770362, 'rouge-1': 0.38523703978294216, 'rouge-2': 0.3558219450367588, 'rouge-l': 0.4013396522643606, 'best': 0.4071396004737407}\n",
            "Epoch 8/20\n"
          ],
          "name": "stdout"
        },
        {
          "output_type": "stream",
          "text": [
            "\n"
          ],
          "name": "stderr"
        },
        {
          "output_type": "stream",
          "text": [
            "89/89 [==============================] - 0s 2ms/step - loss: 0.0746 - accuracy: 0.9491\n"
          ],
          "name": "stdout"
        },
        {
          "output_type": "stream",
          "text": [
            "评估中: 6it [00:00, 41.49it/s]"
          ],
          "name": "stderr"
        },
        {
          "output_type": "stream",
          "text": [
            "{'main': 0.3628869218800841, 'rouge-1': 0.3802556040437377, 'rouge-2': 0.33848723484340315, 'rouge-l': 0.3786022678349381, 'best': 0.4071396004737407}\n",
            "Epoch 9/20\n"
          ],
          "name": "stdout"
        },
        {
          "output_type": "stream",
          "text": [
            "\n"
          ],
          "name": "stderr"
        },
        {
          "output_type": "stream",
          "text": [
            "89/89 [==============================] - 0s 2ms/step - loss: 0.0752 - accuracy: 0.9500\n"
          ],
          "name": "stdout"
        },
        {
          "output_type": "stream",
          "text": [
            "评估中: 6it [00:00, 36.27it/s]"
          ],
          "name": "stderr"
        },
        {
          "output_type": "stream",
          "text": [
            "{'main': 0.3664407762511785, 'rouge-1': 0.3756949863569547, 'rouge-2': 0.33892038173067335, 'rouge-l': 0.38933406571879553, 'best': 0.4071396004737407}\n",
            "Epoch 10/20\n"
          ],
          "name": "stdout"
        },
        {
          "output_type": "stream",
          "text": [
            "\n"
          ],
          "name": "stderr"
        },
        {
          "output_type": "stream",
          "text": [
            "89/89 [==============================] - 0s 2ms/step - loss: 0.0729 - accuracy: 0.9504\n"
          ],
          "name": "stdout"
        },
        {
          "output_type": "stream",
          "text": [
            "评估中: 6it [00:00, 36.61it/s]"
          ],
          "name": "stderr"
        },
        {
          "output_type": "stream",
          "text": [
            "{'main': 0.37036284079528703, 'rouge-1': 0.3807196222247331, 'rouge-2': 0.34367393948091846, 'rouge-l': 0.39187335139493257, 'best': 0.4071396004737407}\n",
            "Epoch 11/20\n"
          ],
          "name": "stdout"
        },
        {
          "output_type": "stream",
          "text": [
            "\n"
          ],
          "name": "stderr"
        },
        {
          "output_type": "stream",
          "text": [
            "89/89 [==============================] - 0s 2ms/step - loss: 0.0737 - accuracy: 0.9483\n"
          ],
          "name": "stdout"
        },
        {
          "output_type": "stream",
          "text": [
            "评估中: 6it [00:00, 37.30it/s]"
          ],
          "name": "stderr"
        },
        {
          "output_type": "stream",
          "text": [
            "{'main': 0.37036284079528703, 'rouge-1': 0.3807196222247331, 'rouge-2': 0.34367393948091846, 'rouge-l': 0.39187335139493257, 'best': 0.4071396004737407}\n",
            "Epoch 12/20\n"
          ],
          "name": "stdout"
        },
        {
          "output_type": "stream",
          "text": [
            "\n"
          ],
          "name": "stderr"
        },
        {
          "output_type": "stream",
          "text": [
            "89/89 [==============================] - 0s 2ms/step - loss: 0.0712 - accuracy: 0.9485\n"
          ],
          "name": "stdout"
        },
        {
          "output_type": "stream",
          "text": [
            "评估中: 6it [00:00, 33.92it/s]"
          ],
          "name": "stderr"
        },
        {
          "output_type": "stream",
          "text": [
            "{'main': 0.36406885031335373, 'rouge-1': 0.37244768948439816, 'rouge-2': 0.33584880667089906, 'rouge-l': 0.38809947437028597, 'best': 0.4071396004737407}\n",
            "Epoch 13/20\n"
          ],
          "name": "stdout"
        },
        {
          "output_type": "stream",
          "text": [
            "\n"
          ],
          "name": "stderr"
        },
        {
          "output_type": "stream",
          "text": [
            "89/89 [==============================] - 0s 2ms/step - loss: 0.0717 - accuracy: 0.9490\n"
          ],
          "name": "stdout"
        },
        {
          "output_type": "stream",
          "text": [
            "评估中: 6it [00:00, 40.55it/s]"
          ],
          "name": "stderr"
        },
        {
          "output_type": "stream",
          "text": [
            "{'main': 0.32303055621610444, 'rouge-1': 0.35805157517855163, 'rouge-2': 0.2939992903087511, 'rouge-l': 0.33455131264223414, 'best': 0.4071396004737407}\n",
            "Epoch 14/20\n"
          ],
          "name": "stdout"
        },
        {
          "output_type": "stream",
          "text": [
            "\n"
          ],
          "name": "stderr"
        },
        {
          "output_type": "stream",
          "text": [
            "89/89 [==============================] - 0s 2ms/step - loss: 0.0726 - accuracy: 0.9499\n"
          ],
          "name": "stdout"
        },
        {
          "output_type": "stream",
          "text": [
            "评估中: 6it [00:00, 34.38it/s]"
          ],
          "name": "stderr"
        },
        {
          "output_type": "stream",
          "text": [
            "{'main': 0.32887744442314626, 'rouge-1': 0.353086973489156, 'rouge-2': 0.30314042582737205, 'rouge-l': 0.3425096984859155, 'best': 0.4071396004737407}\n",
            "Epoch 15/20\n"
          ],
          "name": "stdout"
        },
        {
          "output_type": "stream",
          "text": [
            "\n"
          ],
          "name": "stderr"
        },
        {
          "output_type": "stream",
          "text": [
            "89/89 [==============================] - 0s 2ms/step - loss: 0.0717 - accuracy: 0.9501\n"
          ],
          "name": "stdout"
        },
        {
          "output_type": "stream",
          "text": [
            "评估中: 6it [00:00, 39.60it/s]"
          ],
          "name": "stderr"
        },
        {
          "output_type": "stream",
          "text": [
            "{'main': 0.31556414915626285, 'rouge-1': 0.34291965187530504, 'rouge-2': 0.28445510137293617, 'rouge-l': 0.3329954455800683, 'best': 0.4071396004737407}\n",
            "Epoch 16/20\n"
          ],
          "name": "stdout"
        },
        {
          "output_type": "stream",
          "text": [
            "\n"
          ],
          "name": "stderr"
        },
        {
          "output_type": "stream",
          "text": [
            "89/89 [==============================] - 0s 2ms/step - loss: 0.0709 - accuracy: 0.9515\n"
          ],
          "name": "stdout"
        },
        {
          "output_type": "stream",
          "text": [
            "评估中: 6it [00:00, 38.97it/s]"
          ],
          "name": "stderr"
        },
        {
          "output_type": "stream",
          "text": [
            "{'main': 0.3087154092687832, 'rouge-1': 0.33963026151639425, 'rouge-2': 0.27583482667650855, 'rouge-l': 0.32613856573725214, 'best': 0.4071396004737407}\n",
            "Epoch 17/20\n"
          ],
          "name": "stdout"
        },
        {
          "output_type": "stream",
          "text": [
            "\n"
          ],
          "name": "stderr"
        },
        {
          "output_type": "stream",
          "text": [
            "89/89 [==============================] - 0s 2ms/step - loss: 0.0688 - accuracy: 0.9516\n"
          ],
          "name": "stdout"
        },
        {
          "output_type": "stream",
          "text": [
            "评估中: 6it [00:00, 32.26it/s]"
          ],
          "name": "stderr"
        },
        {
          "output_type": "stream",
          "text": [
            "{'main': 0.32965293810260526, 'rouge-1': 0.3586256725880919, 'rouge-2': 0.2990168916720351, 'rouge-l': 0.3458026172904322, 'best': 0.4071396004737407}\n"
          ],
          "name": "stdout"
        },
        {
          "output_type": "stream",
          "text": [
            "\n"
          ],
          "name": "stderr"
        },
        {
          "output_type": "stream",
          "text": [
            "Epoch 18/20\n",
            "89/89 [==============================] - 0s 2ms/step - loss: 0.0692 - accuracy: 0.9511\n"
          ],
          "name": "stdout"
        },
        {
          "output_type": "stream",
          "text": [
            "评估中: 6it [00:00, 38.91it/s]"
          ],
          "name": "stderr"
        },
        {
          "output_type": "stream",
          "text": [
            "{'main': 0.29953901514073006, 'rouge-1': 0.34723937562770163, 'rouge-2': 0.2665545783656332, 'rouge-l': 0.30867327167234127, 'best': 0.4071396004737407}\n",
            "Epoch 19/20\n"
          ],
          "name": "stdout"
        },
        {
          "output_type": "stream",
          "text": [
            "\n"
          ],
          "name": "stderr"
        },
        {
          "output_type": "stream",
          "text": [
            "89/89 [==============================] - 0s 2ms/step - loss: 0.0671 - accuracy: 0.9531\n"
          ],
          "name": "stdout"
        },
        {
          "output_type": "stream",
          "text": [
            "评估中: 6it [00:00, 35.51it/s]"
          ],
          "name": "stderr"
        },
        {
          "output_type": "stream",
          "text": [
            "{'main': 0.31176945159190644, 'rouge-1': 0.3525326157515394, 'rouge-2': 0.2771229383145431, 'rouge-l': 0.3260343827894532, 'best': 0.4071396004737407}\n",
            "Epoch 20/20\n"
          ],
          "name": "stdout"
        },
        {
          "output_type": "stream",
          "text": [
            "\n"
          ],
          "name": "stderr"
        },
        {
          "output_type": "stream",
          "text": [
            "89/89 [==============================] - 0s 2ms/step - loss: 0.0682 - accuracy: 0.9514\n"
          ],
          "name": "stdout"
        },
        {
          "output_type": "stream",
          "text": [
            "评估中: 6it [00:00, 35.92it/s]"
          ],
          "name": "stderr"
        },
        {
          "output_type": "stream",
          "text": [
            "{'main': 0.3045645517089413, 'rouge-1': 0.3491630030616013, 'rouge-2': 0.267739939398542, 'rouge-l': 0.3190899383430105, 'best': 0.4071396004737407}\n"
          ],
          "name": "stdout"
        },
        {
          "output_type": "stream",
          "text": [
            "\n"
          ],
          "name": "stderr"
        },
        {
          "output_type": "stream",
          "text": [
            "Epoch 1/20\n",
            "89/89 [==============================] - 0s 2ms/step - loss: 0.0679 - accuracy: 0.9507\n"
          ],
          "name": "stdout"
        },
        {
          "output_type": "stream",
          "text": [
            "评估中: 6it [00:00, 42.37it/s]"
          ],
          "name": "stderr"
        },
        {
          "output_type": "stream",
          "text": [
            "{'main': 0.396851435502863, 'rouge-1': 0.4790791087339121, 'rouge-2': 0.31775910012399383, 'rouge-l': 0.43482993426620764, 'best': 0.396851435502863}\n",
            "Epoch 2/20\n"
          ],
          "name": "stdout"
        },
        {
          "output_type": "stream",
          "text": [
            "\n"
          ],
          "name": "stderr"
        },
        {
          "output_type": "stream",
          "text": [
            "89/89 [==============================] - 0s 2ms/step - loss: 0.0685 - accuracy: 0.9491\n"
          ],
          "name": "stdout"
        },
        {
          "output_type": "stream",
          "text": [
            "评估中: 6it [00:00, 43.99it/s]"
          ],
          "name": "stderr"
        },
        {
          "output_type": "stream",
          "text": [
            "{'main': 0.39871926697654153, 'rouge-1': 0.4850471905909571, 'rouge-2': 0.32040243608296887, 'rouge-l': 0.4338721360629063, 'best': 0.39871926697654153}\n",
            "Epoch 3/20\n"
          ],
          "name": "stdout"
        },
        {
          "output_type": "stream",
          "text": [
            "\n"
          ],
          "name": "stderr"
        },
        {
          "output_type": "stream",
          "text": [
            "89/89 [==============================] - 0s 2ms/step - loss: 0.0666 - accuracy: 0.9501\n"
          ],
          "name": "stdout"
        },
        {
          "output_type": "stream",
          "text": [
            "评估中: 6it [00:00, 63.96it/s]"
          ],
          "name": "stderr"
        },
        {
          "output_type": "stream",
          "text": [
            "{'main': 0.33767165484514927, 'rouge-1': 0.39323739300014565, 'rouge-2': 0.25109153674859525, 'rouge-l': 0.39646890386420514, 'best': 0.39871926697654153}\n",
            "Epoch 4/20\n"
          ],
          "name": "stdout"
        },
        {
          "output_type": "stream",
          "text": [
            "\n"
          ],
          "name": "stderr"
        },
        {
          "output_type": "stream",
          "text": [
            "89/89 [==============================] - 0s 2ms/step - loss: 0.0668 - accuracy: 0.9493\n"
          ],
          "name": "stdout"
        },
        {
          "output_type": "stream",
          "text": [
            "评估中: 6it [00:00, 50.24it/s]"
          ],
          "name": "stderr"
        },
        {
          "output_type": "stream",
          "text": [
            "{'main': 0.34842047274679105, 'rouge-1': 0.4188182991679605, 'rouge-2': 0.261816639940232, 'rouge-l': 0.39982539234276526, 'best': 0.39871926697654153}\n",
            "Epoch 5/20\n"
          ],
          "name": "stdout"
        },
        {
          "output_type": "stream",
          "text": [
            "\n"
          ],
          "name": "stderr"
        },
        {
          "output_type": "stream",
          "text": [
            "89/89 [==============================] - 0s 2ms/step - loss: 0.0648 - accuracy: 0.9527\n"
          ],
          "name": "stdout"
        },
        {
          "output_type": "stream",
          "text": [
            "评估中: 6it [00:00, 37.69it/s]"
          ],
          "name": "stderr"
        },
        {
          "output_type": "stream",
          "text": [
            "{'main': 0.38546017095924073, 'rouge-1': 0.4798579215453924, 'rouge-2': 0.3014674229686707, 'rouge-l': 0.42225404365673497, 'best': 0.39871926697654153}\n",
            "Epoch 6/20\n"
          ],
          "name": "stdout"
        },
        {
          "output_type": "stream",
          "text": [
            "\n"
          ],
          "name": "stderr"
        },
        {
          "output_type": "stream",
          "text": [
            "89/89 [==============================] - 0s 2ms/step - loss: 0.0642 - accuracy: 0.9510\n"
          ],
          "name": "stdout"
        },
        {
          "output_type": "stream",
          "text": [
            "评估中: 6it [00:00, 60.57it/s]"
          ],
          "name": "stderr"
        },
        {
          "output_type": "stream",
          "text": [
            "{'main': 0.2703821909194311, 'rouge-1': 0.33497965012713454, 'rouge-2': 0.2111313221732796, 'rouge-l': 0.2973343300617308, 'best': 0.39871926697654153}\n",
            "Epoch 7/20\n"
          ],
          "name": "stdout"
        },
        {
          "output_type": "stream",
          "text": [
            "\n"
          ],
          "name": "stderr"
        },
        {
          "output_type": "stream",
          "text": [
            "89/89 [==============================] - 0s 2ms/step - loss: 0.0653 - accuracy: 0.9536\n"
          ],
          "name": "stdout"
        },
        {
          "output_type": "stream",
          "text": [
            "评估中: 6it [00:00, 48.70it/s]"
          ],
          "name": "stderr"
        },
        {
          "output_type": "stream",
          "text": [
            "{'main': 0.27636896326267524, 'rouge-1': 0.35326277187019123, 'rouge-2': 0.21386846195306583, 'rouge-l': 0.30042256026852665, 'best': 0.39871926697654153}\n",
            "Epoch 8/20\n"
          ],
          "name": "stdout"
        },
        {
          "output_type": "stream",
          "text": [
            "\n"
          ],
          "name": "stderr"
        },
        {
          "output_type": "stream",
          "text": [
            "89/89 [==============================] - 0s 2ms/step - loss: 0.0656 - accuracy: 0.9529\n"
          ],
          "name": "stdout"
        },
        {
          "output_type": "stream",
          "text": [
            "评估中: 6it [00:00, 58.73it/s]"
          ],
          "name": "stderr"
        },
        {
          "output_type": "stream",
          "text": [
            "{'main': 0.2704738508153392, 'rouge-1': 0.33305516758971687, 'rouge-2': 0.21062715279110936, 'rouge-l': 0.2990298904523802, 'best': 0.39871926697654153}\n",
            "Epoch 9/20\n"
          ],
          "name": "stdout"
        },
        {
          "output_type": "stream",
          "text": [
            "\n"
          ],
          "name": "stderr"
        },
        {
          "output_type": "stream",
          "text": [
            "89/89 [==============================] - 0s 2ms/step - loss: 0.0674 - accuracy: 0.9494\n"
          ],
          "name": "stdout"
        },
        {
          "output_type": "stream",
          "text": [
            "评估中: 6it [00:00, 52.55it/s]"
          ],
          "name": "stderr"
        },
        {
          "output_type": "stream",
          "text": [
            "{'main': 0.27093330032569996, 'rouge-1': 0.34617989524004433, 'rouge-2': 0.20906217327755058, 'rouge-l': 0.29518112991667705, 'best': 0.39871926697654153}\n",
            "Epoch 10/20\n"
          ],
          "name": "stdout"
        },
        {
          "output_type": "stream",
          "text": [
            "\n"
          ],
          "name": "stderr"
        },
        {
          "output_type": "stream",
          "text": [
            "89/89 [==============================] - 0s 2ms/step - loss: 0.0651 - accuracy: 0.9536\n"
          ],
          "name": "stdout"
        },
        {
          "output_type": "stream",
          "text": [
            "评估中: 6it [00:00, 39.41it/s]"
          ],
          "name": "stderr"
        },
        {
          "output_type": "stream",
          "text": [
            "{'main': 0.31496336525065055, 'rouge-1': 0.4003158173569592, 'rouge-2': 0.23661769529605436, 'rouge-l': 0.35063280915209233, 'best': 0.39871926697654153}\n",
            "Epoch 11/20\n"
          ],
          "name": "stdout"
        },
        {
          "output_type": "stream",
          "text": [
            "\n"
          ],
          "name": "stderr"
        },
        {
          "output_type": "stream",
          "text": [
            "89/89 [==============================] - 0s 2ms/step - loss: 0.0649 - accuracy: 0.9551\n"
          ],
          "name": "stdout"
        },
        {
          "output_type": "stream",
          "text": [
            "评估中: 6it [00:00, 89.17it/s]"
          ],
          "name": "stderr"
        },
        {
          "output_type": "stream",
          "text": [
            "{'main': 0.215335823927599, 'rouge-1': 0.26436488173870754, 'rouge-2': 0.1563147947852425, 'rouge-l': 0.2498423241644013, 'best': 0.39871926697654153}\n",
            "Epoch 12/20\n",
            "64/89 [====================>.........] - ETA: 0s - loss: 0.0733 - accuracy: 0.9469"
          ],
          "name": "stdout"
        },
        {
          "output_type": "stream",
          "text": [
            "\n"
          ],
          "name": "stderr"
        },
        {
          "output_type": "stream",
          "text": [
            "\b\b\b\b\b\b\b\b\b\b\b\b\b\b\b\b\b\b\b\b\b\b\b\b\b\b\b\b\b\b\b\b\b\b\b\b\b\b\b\b\b\b\b\b\b\b\b\b\b\b\b\b\b\b\b\b\b\b\b\b\b\b\b\b\b\b\b\b\b\b\b\b\b\b\b\b\b\b\b\b\b\b\r89/89 [==============================] - 0s 2ms/step - loss: 0.0668 - accuracy: 0.9524\n"
          ],
          "name": "stdout"
        },
        {
          "output_type": "stream",
          "text": [
            "评估中: 6it [00:00, 43.11it/s]"
          ],
          "name": "stderr"
        },
        {
          "output_type": "stream",
          "text": [
            "{'main': 0.3038290944817028, 'rouge-1': 0.39678688467476797, 'rouge-2': 0.2221450430954289, 'rouge-l': 0.33903425077144406, 'best': 0.39871926697654153}\n",
            "Epoch 13/20\n"
          ],
          "name": "stdout"
        },
        {
          "output_type": "stream",
          "text": [
            "\n"
          ],
          "name": "stderr"
        },
        {
          "output_type": "stream",
          "text": [
            "89/89 [==============================] - 0s 2ms/step - loss: 0.0632 - accuracy: 0.9509\n"
          ],
          "name": "stdout"
        },
        {
          "output_type": "stream",
          "text": [
            "评估中: 6it [00:00, 52.02it/s]"
          ],
          "name": "stderr"
        },
        {
          "output_type": "stream",
          "text": [
            "{'main': 0.28074474173067326, 'rouge-1': 0.34844588255414327, 'rouge-2': 0.21725098371809168, 'rouge-l': 0.31038792933151976, 'best': 0.39871926697654153}\n",
            "Epoch 14/20\n"
          ],
          "name": "stdout"
        },
        {
          "output_type": "stream",
          "text": [
            "\n"
          ],
          "name": "stderr"
        },
        {
          "output_type": "stream",
          "text": [
            "89/89 [==============================] - 0s 2ms/step - loss: 0.0637 - accuracy: 0.9517\n"
          ],
          "name": "stdout"
        },
        {
          "output_type": "stream",
          "text": [
            "评估中: 6it [00:00, 60.38it/s]"
          ],
          "name": "stderr"
        },
        {
          "output_type": "stream",
          "text": [
            "{'main': 0.24765414266054264, 'rouge-1': 0.3180205728097118, 'rouge-2': 0.18476383227885254, 'rouge-l': 0.27536123796764816, 'best': 0.39871926697654153}\n",
            "Epoch 15/20\n"
          ],
          "name": "stdout"
        },
        {
          "output_type": "stream",
          "text": [
            "\n"
          ],
          "name": "stderr"
        },
        {
          "output_type": "stream",
          "text": [
            "89/89 [==============================] - 0s 2ms/step - loss: 0.0612 - accuracy: 0.9554\n"
          ],
          "name": "stdout"
        },
        {
          "output_type": "stream",
          "text": [
            "评估中: 6it [00:00, 46.05it/s]"
          ],
          "name": "stderr"
        },
        {
          "output_type": "stream",
          "text": [
            "{'main': 0.2536753552822693, 'rouge-1': 0.33890258384560706, 'rouge-2': 0.1889544193572218, 'rouge-l': 0.275782676925648, 'best': 0.39871926697654153}\n",
            "Epoch 16/20\n"
          ],
          "name": "stdout"
        },
        {
          "output_type": "stream",
          "text": [
            "\n"
          ],
          "name": "stderr"
        },
        {
          "output_type": "stream",
          "text": [
            "89/89 [==============================] - 0s 2ms/step - loss: 0.0610 - accuracy: 0.9543\n"
          ],
          "name": "stdout"
        },
        {
          "output_type": "stream",
          "text": [
            "评估中: 6it [00:00, 37.81it/s]"
          ],
          "name": "stderr"
        },
        {
          "output_type": "stream",
          "text": [
            "{'main': 0.2480259660208531, 'rouge-1': 0.33788390117151873, 'rouge-2': 0.18446010164106275, 'rouge-l': 0.26666286282531065, 'best': 0.39871926697654153}\n",
            "Epoch 17/20\n"
          ],
          "name": "stdout"
        },
        {
          "output_type": "stream",
          "text": [
            "\n"
          ],
          "name": "stderr"
        },
        {
          "output_type": "stream",
          "text": [
            "89/89 [==============================] - 0s 2ms/step - loss: 0.0618 - accuracy: 0.9527\n"
          ],
          "name": "stdout"
        },
        {
          "output_type": "stream",
          "text": [
            "评估中: 6it [00:00, 47.32it/s]"
          ],
          "name": "stderr"
        },
        {
          "output_type": "stream",
          "text": [
            "{'main': 0.247123622538461, 'rouge-1': 0.33131303675368634, 'rouge-2': 0.18514383155725625, 'rouge-l': 0.26700870641205304, 'best': 0.39871926697654153}\n",
            "Epoch 18/20\n"
          ],
          "name": "stdout"
        },
        {
          "output_type": "stream",
          "text": [
            "\n"
          ],
          "name": "stderr"
        },
        {
          "output_type": "stream",
          "text": [
            "89/89 [==============================] - 0s 2ms/step - loss: 0.0604 - accuracy: 0.9550\n"
          ],
          "name": "stdout"
        },
        {
          "output_type": "stream",
          "text": [
            "评估中: 6it [00:00, 47.07it/s]"
          ],
          "name": "stderr"
        },
        {
          "output_type": "stream",
          "text": [
            "{'main': 0.24524681342122237, 'rouge-1': 0.3287965806745976, 'rouge-2': 0.1829263140278711, 'rouge-l': 0.26579242918788604, 'best': 0.39871926697654153}\n",
            "Epoch 19/20\n"
          ],
          "name": "stdout"
        },
        {
          "output_type": "stream",
          "text": [
            "\n"
          ],
          "name": "stderr"
        },
        {
          "output_type": "stream",
          "text": [
            "89/89 [==============================] - 0s 2ms/step - loss: 0.0596 - accuracy: 0.9528\n"
          ],
          "name": "stdout"
        },
        {
          "output_type": "stream",
          "text": [
            "评估中: 6it [00:00, 37.25it/s]"
          ],
          "name": "stderr"
        },
        {
          "output_type": "stream",
          "text": [
            "{'main': 0.25278275054489946, 'rouge-1': 0.3445114695113087, 'rouge-2': 0.18918809593931604, 'rouge-l': 0.27051304566727824, 'best': 0.39871926697654153}\n",
            "Epoch 20/20\n"
          ],
          "name": "stdout"
        },
        {
          "output_type": "stream",
          "text": [
            "\n"
          ],
          "name": "stderr"
        },
        {
          "output_type": "stream",
          "text": [
            "89/89 [==============================] - 0s 2ms/step - loss: 0.0608 - accuracy: 0.9537\n"
          ],
          "name": "stdout"
        },
        {
          "output_type": "stream",
          "text": [
            "评估中: 6it [00:00, 41.93it/s]"
          ],
          "name": "stderr"
        },
        {
          "output_type": "stream",
          "text": [
            "{'main': 0.2449923229660278, 'rouge-1': 0.33087034442415647, 'rouge-2': 0.1859845745525047, 'rouge-l': 0.26106106065048656, 'best': 0.39871926697654153}\n",
            "Epoch 1/20\n"
          ],
          "name": "stdout"
        },
        {
          "output_type": "stream",
          "text": [
            "\n"
          ],
          "name": "stderr"
        },
        {
          "output_type": "stream",
          "text": [
            "89/89 [==============================] - 0s 2ms/step - loss: 0.0652 - accuracy: 0.9540\n"
          ],
          "name": "stdout"
        },
        {
          "output_type": "stream",
          "text": [
            "评估中: 6it [00:00, 20.37it/s]\n"
          ],
          "name": "stderr"
        },
        {
          "output_type": "stream",
          "text": [
            "{'main': 0.43846303716254814, 'rouge-1': 0.4810370628323291, 'rouge-2': 0.3898159911199561, 'rouge-l': 0.46582307037024956, 'best': 0.43846303716254814}\n",
            "Epoch 2/20\n",
            "89/89 [==============================] - 0s 2ms/step - loss: 0.0636 - accuracy: 0.9558\n"
          ],
          "name": "stdout"
        },
        {
          "output_type": "stream",
          "text": [
            "评估中: 6it [00:00, 21.38it/s]\n"
          ],
          "name": "stderr"
        },
        {
          "output_type": "stream",
          "text": [
            "{'main': 0.410474955990533, 'rouge-1': 0.45222789589819773, 'rouge-2': 0.36352140971764485, 'rouge-l': 0.4365520323095888, 'best': 0.43846303716254814}\n",
            "Epoch 3/20\n",
            "89/89 [==============================] - 0s 2ms/step - loss: 0.0644 - accuracy: 0.9565\n"
          ],
          "name": "stdout"
        },
        {
          "output_type": "stream",
          "text": [
            "评估中: 6it [00:00, 25.53it/s]\n"
          ],
          "name": "stderr"
        },
        {
          "output_type": "stream",
          "text": [
            "{'main': 0.3635225521609243, 'rouge-1': 0.4368714594834175, 'rouge-2': 0.3204314923883978, 'rouge-l': 0.36993915827220397, 'best': 0.43846303716254814}\n",
            "Epoch 4/20\n",
            "89/89 [==============================] - 0s 2ms/step - loss: 0.0629 - accuracy: 0.9551\n"
          ],
          "name": "stdout"
        },
        {
          "output_type": "stream",
          "text": [
            "评估中: 6it [00:00, 26.80it/s]\n"
          ],
          "name": "stderr"
        },
        {
          "output_type": "stream",
          "text": [
            "{'main': 0.35657113176421285, 'rouge-1': 0.4274014459989386, 'rouge-2': 0.3089510658439082, 'rouge-l': 0.3687760405671545, 'best': 0.43846303716254814}\n",
            "Epoch 5/20\n",
            "89/89 [==============================] - 0s 2ms/step - loss: 0.0611 - accuracy: 0.9564\n"
          ],
          "name": "stdout"
        },
        {
          "output_type": "stream",
          "text": [
            "评估中: 6it [00:00, 25.31it/s]\n"
          ],
          "name": "stderr"
        },
        {
          "output_type": "stream",
          "text": [
            "{'main': 0.36278026951561965, 'rouge-1': 0.4433480598848662, 'rouge-2': 0.31425062297160083, 'rouge-l': 0.3710260208750151, 'best': 0.43846303716254814}\n",
            "Epoch 6/20\n",
            "89/89 [==============================] - 0s 2ms/step - loss: 0.0601 - accuracy: 0.9554\n"
          ],
          "name": "stdout"
        },
        {
          "output_type": "stream",
          "text": [
            "评估中: 6it [00:00, 25.05it/s]\n"
          ],
          "name": "stderr"
        },
        {
          "output_type": "stream",
          "text": [
            "{'main': 0.36505808876839674, 'rouge-1': 0.4450045801858355, 'rouge-2': 0.3189601371259589, 'rouge-l': 0.37118279470211507, 'best': 0.43846303716254814}\n",
            "Epoch 7/20\n",
            "89/89 [==============================] - 0s 2ms/step - loss: 0.0609 - accuracy: 0.9575\n"
          ],
          "name": "stdout"
        },
        {
          "output_type": "stream",
          "text": [
            "评估中: 6it [00:00, 25.35it/s]\n"
          ],
          "name": "stderr"
        },
        {
          "output_type": "stream",
          "text": [
            "{'main': 0.3580880445053667, 'rouge-1': 0.4382645199810542, 'rouge-2': 0.3064040084740665, 'rouge-l': 0.3696838427988229, 'best': 0.43846303716254814}\n",
            "Epoch 8/20\n",
            "89/89 [==============================] - 0s 2ms/step - loss: 0.0592 - accuracy: 0.9585\n"
          ],
          "name": "stdout"
        },
        {
          "output_type": "stream",
          "text": [
            "评估中: 6it [00:00, 25.85it/s]\n"
          ],
          "name": "stderr"
        },
        {
          "output_type": "stream",
          "text": [
            "{'main': 0.36435902721508145, 'rouge-1': 0.450636257228497, 'rouge-2': 0.31502018603570253, 'rouge-l': 0.3705592533877525, 'best': 0.43846303716254814}\n",
            "Epoch 9/20\n",
            "89/89 [==============================] - 0s 2ms/step - loss: 0.0599 - accuracy: 0.9580\n"
          ],
          "name": "stdout"
        },
        {
          "output_type": "stream",
          "text": [
            "评估中: 6it [00:00, 33.04it/s]"
          ],
          "name": "stderr"
        },
        {
          "output_type": "stream",
          "text": [
            "{'main': 0.3018840841235014, 'rouge-1': 0.38655403556707135, 'rouge-2': 0.2528088171249976, 'rouge-l': 0.30862437540022014, 'best': 0.43846303716254814}\n",
            "Epoch 10/20\n"
          ],
          "name": "stdout"
        },
        {
          "output_type": "stream",
          "text": [
            "\n"
          ],
          "name": "stderr"
        },
        {
          "output_type": "stream",
          "text": [
            "89/89 [==============================] - 0s 2ms/step - loss: 0.0594 - accuracy: 0.9589\n"
          ],
          "name": "stdout"
        },
        {
          "output_type": "stream",
          "text": [
            "评估中: 6it [00:00, 30.90it/s]\n"
          ],
          "name": "stderr"
        },
        {
          "output_type": "stream",
          "text": [
            "{'main': 0.33917748041775964, 'rouge-1': 0.41004260348986743, 'rouge-2': 0.2901913321368668, 'rouge-l': 0.3527310671625985, 'best': 0.43846303716254814}\n",
            "Epoch 11/20\n",
            "89/89 [==============================] - 0s 2ms/step - loss: 0.0595 - accuracy: 0.9582\n"
          ],
          "name": "stdout"
        },
        {
          "output_type": "stream",
          "text": [
            "评估中: 6it [00:00, 32.08it/s]\n"
          ],
          "name": "stderr"
        },
        {
          "output_type": "stream",
          "text": [
            "{'main': 0.3400501493302494, 'rouge-1': 0.4062494668482724, 'rouge-2': 0.28964982032130676, 'rouge-l': 0.3573508195801803, 'best': 0.43846303716254814}\n",
            "Epoch 12/20\n",
            "89/89 [==============================] - 0s 2ms/step - loss: 0.0584 - accuracy: 0.9579\n"
          ],
          "name": "stdout"
        },
        {
          "output_type": "stream",
          "text": [
            "评估中: 6it [00:00, 32.66it/s]"
          ],
          "name": "stderr"
        },
        {
          "output_type": "stream",
          "text": [
            "{'main': 0.3081087495466977, 'rouge-1': 0.3817262669946064, 'rouge-2': 0.2639099059631464, 'rouge-l': 0.31549883440629467, 'best': 0.43846303716254814}\n",
            "Epoch 13/20\n"
          ],
          "name": "stdout"
        },
        {
          "output_type": "stream",
          "text": [
            "\n"
          ],
          "name": "stderr"
        },
        {
          "output_type": "stream",
          "text": [
            "89/89 [==============================] - 0s 2ms/step - loss: 0.0579 - accuracy: 0.9601\n"
          ],
          "name": "stdout"
        },
        {
          "output_type": "stream",
          "text": [
            "评估中: 6it [00:00, 30.63it/s]\n"
          ],
          "name": "stderr"
        },
        {
          "output_type": "stream",
          "text": [
            "{'main': 0.3465039564626096, 'rouge-1': 0.4209580269070717, 'rouge-2': 0.2985025038541136, 'rouge-l': 0.35727837384887456, 'best': 0.43846303716254814}\n",
            "Epoch 14/20\n",
            "89/89 [==============================] - 0s 2ms/step - loss: 0.0585 - accuracy: 0.9582\n"
          ],
          "name": "stdout"
        },
        {
          "output_type": "stream",
          "text": [
            "评估中: 6it [00:00, 33.77it/s]"
          ],
          "name": "stderr"
        },
        {
          "output_type": "stream",
          "text": [
            "{'main': 0.3224482509593615, 'rouge-1': 0.39268305712900414, 'rouge-2': 0.2782519530244096, 'rouge-l': 0.3315271458094922, 'best': 0.43846303716254814}\n",
            "Epoch 15/20\n"
          ],
          "name": "stdout"
        },
        {
          "output_type": "stream",
          "text": [
            "\n"
          ],
          "name": "stderr"
        },
        {
          "output_type": "stream",
          "text": [
            "89/89 [==============================] - 0s 2ms/step - loss: 0.0569 - accuracy: 0.9590\n"
          ],
          "name": "stdout"
        },
        {
          "output_type": "stream",
          "text": [
            "评估中: 6it [00:00, 34.52it/s]"
          ],
          "name": "stderr"
        },
        {
          "output_type": "stream",
          "text": [
            "{'main': 0.2891868075060779, 'rouge-1': 0.3647092499713657, 'rouge-2': 0.24074352698753657, 'rouge-l': 0.2998688667919753, 'best': 0.43846303716254814}\n",
            "Epoch 16/20\n"
          ],
          "name": "stdout"
        },
        {
          "output_type": "stream",
          "text": [
            "\n"
          ],
          "name": "stderr"
        },
        {
          "output_type": "stream",
          "text": [
            "89/89 [==============================] - 0s 2ms/step - loss: 0.0580 - accuracy: 0.9597\n"
          ],
          "name": "stdout"
        },
        {
          "output_type": "stream",
          "text": [
            "评估中: 6it [00:00, 33.61it/s]"
          ],
          "name": "stderr"
        },
        {
          "output_type": "stream",
          "text": [
            "{'main': 0.3288651910510235, 'rouge-1': 0.39827332632293233, 'rouge-2': 0.2865865870271829, 'rouge-l': 0.33643972743890965, 'best': 0.43846303716254814}\n",
            "Epoch 17/20\n"
          ],
          "name": "stdout"
        },
        {
          "output_type": "stream",
          "text": [
            "\n"
          ],
          "name": "stderr"
        },
        {
          "output_type": "stream",
          "text": [
            "89/89 [==============================] - 0s 2ms/step - loss: 0.0554 - accuracy: 0.9598\n"
          ],
          "name": "stdout"
        },
        {
          "output_type": "stream",
          "text": [
            "评估中: 6it [00:00, 34.59it/s]"
          ],
          "name": "stderr"
        },
        {
          "output_type": "stream",
          "text": [
            "{'main': 0.2781492195643856, 'rouge-1': 0.3549135387686915, 'rouge-2': 0.22900408863456412, 'rouge-l': 0.288912190892054, 'best': 0.43846303716254814}\n",
            "Epoch 18/20\n"
          ],
          "name": "stdout"
        },
        {
          "output_type": "stream",
          "text": [
            "\n"
          ],
          "name": "stderr"
        },
        {
          "output_type": "stream",
          "text": [
            "89/89 [==============================] - 0s 2ms/step - loss: 0.0576 - accuracy: 0.9598\n"
          ],
          "name": "stdout"
        },
        {
          "output_type": "stream",
          "text": [
            "评估中: 6it [00:00, 35.14it/s]"
          ],
          "name": "stderr"
        },
        {
          "output_type": "stream",
          "text": [
            "{'main': 0.2781492195643856, 'rouge-1': 0.3549135387686915, 'rouge-2': 0.22900408863456412, 'rouge-l': 0.288912190892054, 'best': 0.43846303716254814}\n",
            "Epoch 19/20\n"
          ],
          "name": "stdout"
        },
        {
          "output_type": "stream",
          "text": [
            "\n"
          ],
          "name": "stderr"
        },
        {
          "output_type": "stream",
          "text": [
            "89/89 [==============================] - 0s 2ms/step - loss: 0.0567 - accuracy: 0.9595\n"
          ],
          "name": "stdout"
        },
        {
          "output_type": "stream",
          "text": [
            "评估中: 6it [00:00, 35.10it/s]"
          ],
          "name": "stderr"
        },
        {
          "output_type": "stream",
          "text": [
            "{'main': 0.26469897369290624, 'rouge-1': 0.3455711821011899, 'rouge-2': 0.21852855018308495, 'rouge-l': 0.2704332929985856, 'best': 0.43846303716254814}\n",
            "Epoch 20/20\n"
          ],
          "name": "stdout"
        },
        {
          "output_type": "stream",
          "text": [
            "\n"
          ],
          "name": "stderr"
        },
        {
          "output_type": "stream",
          "text": [
            "89/89 [==============================] - 0s 2ms/step - loss: 0.0562 - accuracy: 0.9601\n"
          ],
          "name": "stdout"
        },
        {
          "output_type": "stream",
          "text": [
            "评估中: 6it [00:00, 34.67it/s]"
          ],
          "name": "stderr"
        },
        {
          "output_type": "stream",
          "text": [
            "{'main': 0.2619015992988468, 'rouge-1': 0.340663619674823, 'rouge-2': 0.21313172194364274, 'rouge-l': 0.2712904664660627, 'best': 0.43846303716254814}\n"
          ],
          "name": "stdout"
        },
        {
          "output_type": "stream",
          "text": [
            "\n"
          ],
          "name": "stderr"
        },
        {
          "output_type": "stream",
          "text": [
            "Epoch 1/20\n",
            "89/89 [==============================] - 0s 2ms/step - loss: 0.0621 - accuracy: 0.9565\n"
          ],
          "name": "stdout"
        },
        {
          "output_type": "stream",
          "text": [
            "评估中: 6it [00:00, 27.09it/s]\n"
          ],
          "name": "stderr"
        },
        {
          "output_type": "stream",
          "text": [
            "{'main': 0.4775861578166594, 'rouge-1': 0.5326255985998846, 'rouge-2': 0.4250033085220278, 'rouge-l': 0.5026492867196785, 'best': 0.4775861578166594}\n",
            "Epoch 2/20\n",
            "89/89 [==============================] - 0s 2ms/step - loss: 0.0624 - accuracy: 0.9529\n"
          ],
          "name": "stdout"
        },
        {
          "output_type": "stream",
          "text": [
            "评估中: 6it [00:00, 31.64it/s]"
          ],
          "name": "stderr"
        },
        {
          "output_type": "stream",
          "text": [
            "{'main': 0.45409831207299467, 'rouge-1': 0.5084110635551035, 'rouge-2': 0.40259678968817675, 'rouge-l': 0.47844345871675803, 'best': 0.4775861578166594}\n",
            "Epoch 3/20\n"
          ],
          "name": "stdout"
        },
        {
          "output_type": "stream",
          "text": [
            "\n"
          ],
          "name": "stderr"
        },
        {
          "output_type": "stream",
          "text": [
            "89/89 [==============================] - 0s 2ms/step - loss: 0.0618 - accuracy: 0.9560\n"
          ],
          "name": "stdout"
        },
        {
          "output_type": "stream",
          "text": [
            "评估中: 6it [00:00, 32.11it/s]"
          ],
          "name": "stderr"
        },
        {
          "output_type": "stream",
          "text": [
            "{'main': 0.4425045812560415, 'rouge-1': 0.49144329164047496, 'rouge-2': 0.39567482009893507, 'rouge-l': 0.4648649872209311, 'best': 0.4775861578166594}\n"
          ],
          "name": "stdout"
        },
        {
          "output_type": "stream",
          "text": [
            "\n"
          ],
          "name": "stderr"
        },
        {
          "output_type": "stream",
          "text": [
            "Epoch 4/20\n",
            "89/89 [==============================] - 0s 2ms/step - loss: 0.0600 - accuracy: 0.9564\n"
          ],
          "name": "stdout"
        },
        {
          "output_type": "stream",
          "text": [
            "评估中: 6it [00:00, 27.59it/s]"
          ],
          "name": "stderr"
        },
        {
          "output_type": "stream",
          "text": [
            "{'main': 0.47201844996021375, 'rouge-1': 0.5325799151929073, 'rouge-2': 0.4144084058142254, 'rouge-l': 0.4993477614898553, 'best': 0.4775861578166594}\n",
            "Epoch 5/20\n",
            "\r64/89 [====================>.........] - ETA: 0s - loss: 0.0602 - accuracy: 0.9562"
          ],
          "name": "stdout"
        },
        {
          "output_type": "stream",
          "text": [
            "\n"
          ],
          "name": "stderr"
        },
        {
          "output_type": "stream",
          "text": [
            "\b\b\b\b\b\b\b\b\b\b\b\b\b\b\b\b\b\b\b\b\b\b\b\b\b\b\b\b\b\b\b\b\b\b\b\b\b\b\b\b\b\b\b\b\b\b\b\b\b\b\b\b\b\b\b\b\b\b\b\b\b\b\b\b\b\b\b\b\b\b\b\b\b\b\b\b\b\b\b\b\b\b\r89/89 [==============================] - 0s 2ms/step - loss: 0.0617 - accuracy: 0.9518\n"
          ],
          "name": "stdout"
        },
        {
          "output_type": "stream",
          "text": [
            "评估中: 6it [00:00, 33.12it/s]"
          ],
          "name": "stderr"
        },
        {
          "output_type": "stream",
          "text": [
            "{'main': 0.4420580273845585, 'rouge-1': 0.4874075689802761, 'rouge-2': 0.39588743337637, 'rouge-l': 0.46555385059488813, 'best': 0.4775861578166594}\n",
            "Epoch 6/20\n"
          ],
          "name": "stdout"
        },
        {
          "output_type": "stream",
          "text": [
            "\n"
          ],
          "name": "stderr"
        },
        {
          "output_type": "stream",
          "text": [
            "89/89 [==============================] - 0s 2ms/step - loss: 0.0603 - accuracy: 0.9560\n"
          ],
          "name": "stdout"
        },
        {
          "output_type": "stream",
          "text": [
            "评估中: 6it [00:00, 31.26it/s]\n"
          ],
          "name": "stderr"
        },
        {
          "output_type": "stream",
          "text": [
            "{'main': 0.45048029966913566, 'rouge-1': 0.5018989546692859, 'rouge-2': 0.39785683154829865, 'rouge-l': 0.4773944402898973, 'best': 0.4775861578166594}\n",
            "Epoch 7/20\n",
            "89/89 [==============================] - 0s 2ms/step - loss: 0.0584 - accuracy: 0.9557\n"
          ],
          "name": "stdout"
        },
        {
          "output_type": "stream",
          "text": [
            "评估中: 6it [00:00, 28.32it/s]"
          ],
          "name": "stderr"
        },
        {
          "output_type": "stream",
          "text": [
            "{'main': 0.47104672513492063, 'rouge-1': 0.5312206106027083, 'rouge-2': 0.4089104150918481, 'rouge-l': 0.5030960924440991, 'best': 0.4775861578166594}\n",
            "Epoch 8/20\n",
            "\r64/89 [====================>.........] - ETA: 0s - loss: 0.0590 - accuracy: 0.9560"
          ],
          "name": "stdout"
        },
        {
          "output_type": "stream",
          "text": [
            "\n"
          ],
          "name": "stderr"
        },
        {
          "output_type": "stream",
          "text": [
            "\b\b\b\b\b\b\b\b\b\b\b\b\b\b\b\b\b\b\b\b\b\b\b\b\b\b\b\b\b\b\b\b\b\b\b\b\b\b\b\b\b\b\b\b\b\b\b\b\b\b\b\b\b\b\b\b\b\b\b\b\b\b\b\b\b\b\b\b\b\b\b\b\b\b\b\b\b\b\b\b\b\b\r89/89 [==============================] - 0s 2ms/step - loss: 0.0586 - accuracy: 0.9566\n"
          ],
          "name": "stdout"
        },
        {
          "output_type": "stream",
          "text": [
            "评估中: 6it [00:00, 31.10it/s]\n"
          ],
          "name": "stderr"
        },
        {
          "output_type": "stream",
          "text": [
            "{'main': 0.4649134663001808, 'rouge-1': 0.5232632645739913, 'rouge-2': 0.405080758690815, 'rouge-l': 0.49557127477264146, 'best': 0.4775861578166594}\n",
            "Epoch 9/20\n",
            "89/89 [==============================] - 0s 2ms/step - loss: 0.0589 - accuracy: 0.9567\n"
          ],
          "name": "stdout"
        },
        {
          "output_type": "stream",
          "text": [
            "评估中: 6it [00:00, 29.85it/s]"
          ],
          "name": "stderr"
        },
        {
          "output_type": "stream",
          "text": [
            "{'main': 0.46587738744395485, 'rouge-1': 0.5234530012330618, 'rouge-2': 0.4043523920565743, 'rouge-l': 0.4986145759367817, 'best': 0.4775861578166594}\n",
            "Epoch 10/20\n",
            "\r64/89 [====================>.........] - ETA: 0s - loss: 0.0654 - accuracy: 0.9507"
          ],
          "name": "stdout"
        },
        {
          "output_type": "stream",
          "text": [
            "\n"
          ],
          "name": "stderr"
        },
        {
          "output_type": "stream",
          "text": [
            "\b\b\b\b\b\b\b\b\b\b\b\b\b\b\b\b\b\b\b\b\b\b\b\b\b\b\b\b\b\b\b\b\b\b\b\b\b\b\b\b\b\b\b\b\b\b\b\b\b\b\b\b\b\b\b\b\b\b\b\b\b\b\b\b\b\b\b\b\b\b\b\b\b\b\b\b\b\b\b\b\b\b\r89/89 [==============================] - 0s 2ms/step - loss: 0.0579 - accuracy: 0.9562\n"
          ],
          "name": "stdout"
        },
        {
          "output_type": "stream",
          "text": [
            "评估中: 6it [00:00, 30.08it/s]"
          ],
          "name": "stderr"
        },
        {
          "output_type": "stream",
          "text": [
            "{'main': 0.46236889258650865, 'rouge-1': 0.5173111634335246, 'rouge-2': 0.40401601821969524, 'rouge-l': 0.49325063152981397, 'best': 0.4775861578166594}\n",
            "Epoch 11/20\n",
            "\r64/89 [====================>.........] - ETA: 0s - loss: 0.0619 - accuracy: 0.9462"
          ],
          "name": "stdout"
        },
        {
          "output_type": "stream",
          "text": [
            "\n"
          ],
          "name": "stderr"
        },
        {
          "output_type": "stream",
          "text": [
            "\b\b\b\b\b\b\b\b\b\b\b\b\b\b\b\b\b\b\b\b\b\b\b\b\b\b\b\b\b\b\b\b\b\b\b\b\b\b\b\b\b\b\b\b\b\b\b\b\b\b\b\b\b\b\b\b\b\b\b\b\b\b\b\b\b\b\b\b\b\b\b\b\b\b\b\b\b\b\b\b\b\b\r89/89 [==============================] - 0s 2ms/step - loss: 0.0576 - accuracy: 0.9530\n"
          ],
          "name": "stdout"
        },
        {
          "output_type": "stream",
          "text": [
            "评估中: 6it [00:00, 32.53it/s]"
          ],
          "name": "stderr"
        },
        {
          "output_type": "stream",
          "text": [
            "{'main': 0.4418562225540749, 'rouge-1': 0.49705059691168524, 'rouge-2': 0.3912095761819457, 'rouge-l': 0.4649056817473987, 'best': 0.4775861578166594}\n",
            "Epoch 12/20\n"
          ],
          "name": "stdout"
        },
        {
          "output_type": "stream",
          "text": [
            "\n"
          ],
          "name": "stderr"
        },
        {
          "output_type": "stream",
          "text": [
            "89/89 [==============================] - 0s 2ms/step - loss: 0.0584 - accuracy: 0.9560\n"
          ],
          "name": "stdout"
        },
        {
          "output_type": "stream",
          "text": [
            "评估中: 6it [00:00, 31.45it/s]\n"
          ],
          "name": "stderr"
        },
        {
          "output_type": "stream",
          "text": [
            "{'main': 0.4469472688054526, 'rouge-1': 0.5039032815080111, 'rouge-2': 0.3913680165517648, 'rouge-l': 0.47404851470786125, 'best': 0.4775861578166594}\n",
            "Epoch 13/20\n",
            "89/89 [==============================] - 0s 2ms/step - loss: 0.0569 - accuracy: 0.9565\n"
          ],
          "name": "stdout"
        },
        {
          "output_type": "stream",
          "text": [
            "评估中: 6it [00:00, 32.05it/s]"
          ],
          "name": "stderr"
        },
        {
          "output_type": "stream",
          "text": [
            "{'main': 0.447372956541781, 'rouge-1': 0.5045995192853862, 'rouge-2': 0.39152904714066145, 'rouge-l': 0.4746035845710978, 'best': 0.4775861578166594}\n"
          ],
          "name": "stdout"
        },
        {
          "output_type": "stream",
          "text": [
            "\n"
          ],
          "name": "stderr"
        },
        {
          "output_type": "stream",
          "text": [
            "Epoch 14/20\n",
            "89/89 [==============================] - 0s 2ms/step - loss: 0.0587 - accuracy: 0.9575\n"
          ],
          "name": "stdout"
        },
        {
          "output_type": "stream",
          "text": [
            "评估中: 6it [00:00, 31.29it/s]\n"
          ],
          "name": "stderr"
        },
        {
          "output_type": "stream",
          "text": [
            "{'main': 0.4478197654835278, 'rouge-1': 0.50532711912528, 'rouge-2': 0.3916973973022615, 'rouge-l': 0.475188456843918, 'best': 0.4775861578166594}\n",
            "Epoch 15/20\n",
            "89/89 [==============================] - 0s 2ms/step - loss: 0.0567 - accuracy: 0.9566\n"
          ],
          "name": "stdout"
        },
        {
          "output_type": "stream",
          "text": [
            "评估中: 6it [00:00, 30.42it/s]\n"
          ],
          "name": "stderr"
        },
        {
          "output_type": "stream",
          "text": [
            "{'main': 0.45286705473189603, 'rouge-1': 0.512845933787106, 'rouge-2': 0.391857461030513, 'rouge-l': 0.483887208905674, 'best': 0.4775861578166594}\n",
            "Epoch 16/20\n",
            "89/89 [==============================] - 0s 2ms/step - loss: 0.0570 - accuracy: 0.9560\n"
          ],
          "name": "stdout"
        },
        {
          "output_type": "stream",
          "text": [
            "评估中: 6it [00:00, 32.05it/s]"
          ],
          "name": "stderr"
        },
        {
          "output_type": "stream",
          "text": [
            "{'main': 0.44613379522449687, 'rouge-1': 0.5020813201524196, 'rouge-2': 0.3912747155669875, 'rouge-l': 0.47301911241804495, 'best': 0.4775861578166594}\n"
          ],
          "name": "stdout"
        },
        {
          "output_type": "stream",
          "text": [
            "\n"
          ],
          "name": "stderr"
        },
        {
          "output_type": "stream",
          "text": [
            "Epoch 17/20\n",
            "89/89 [==============================] - 0s 2ms/step - loss: 0.0561 - accuracy: 0.9577\n"
          ],
          "name": "stdout"
        },
        {
          "output_type": "stream",
          "text": [
            "评估中: 6it [00:00, 30.08it/s]"
          ],
          "name": "stderr"
        },
        {
          "output_type": "stream",
          "text": [
            "{'main': 0.4498371505869314, 'rouge-1': 0.5091916093046442, 'rouge-2': 0.3921762675225802, 'rouge-l': 0.47782080429242596, 'best': 0.4775861578166594}\n",
            "Epoch 18/20\n",
            "\r64/89 [====================>.........] - ETA: 0s - loss: 0.0533 - accuracy: 0.9570"
          ],
          "name": "stdout"
        },
        {
          "output_type": "stream",
          "text": [
            "\n"
          ],
          "name": "stderr"
        },
        {
          "output_type": "stream",
          "text": [
            "\b\b\b\b\b\b\b\b\b\b\b\b\b\b\b\b\b\b\b\b\b\b\b\b\b\b\b\b\b\b\b\b\b\b\b\b\b\b\b\b\b\b\b\b\b\b\b\b\b\b\b\b\b\b\b\b\b\b\b\b\b\b\b\b\b\b\b\b\b\b\b\b\b\b\b\b\b\b\b\b\b\b\r89/89 [==============================] - 0s 2ms/step - loss: 0.0552 - accuracy: 0.9575\n"
          ],
          "name": "stdout"
        },
        {
          "output_type": "stream",
          "text": [
            "评估中: 6it [00:00, 30.26it/s]\n"
          ],
          "name": "stderr"
        },
        {
          "output_type": "stream",
          "text": [
            "{'main': 0.4485861668959108, 'rouge-1': 0.5042751886136768, 'rouge-2': 0.39067050958920535, 'rouge-l': 0.4786573133437331, 'best': 0.4775861578166594}\n",
            "Epoch 19/20\n",
            "89/89 [==============================] - 0s 2ms/step - loss: 0.0564 - accuracy: 0.9544\n"
          ],
          "name": "stdout"
        },
        {
          "output_type": "stream",
          "text": [
            "评估中: 6it [00:00, 33.58it/s]"
          ],
          "name": "stderr"
        },
        {
          "output_type": "stream",
          "text": [
            "{'main': 0.42612004095261286, 'rouge-1': 0.47074886339114536, 'rouge-2': 0.3846440476420338, 'rouge-l': 0.4452816230439256, 'best': 0.4775861578166594}\n",
            "Epoch 20/20\n"
          ],
          "name": "stdout"
        },
        {
          "output_type": "stream",
          "text": [
            "\n"
          ],
          "name": "stderr"
        },
        {
          "output_type": "stream",
          "text": [
            "89/89 [==============================] - 0s 2ms/step - loss: 0.0571 - accuracy: 0.9571\n"
          ],
          "name": "stdout"
        },
        {
          "output_type": "stream",
          "text": [
            "评估中: 6it [00:00, 34.31it/s]"
          ],
          "name": "stderr"
        },
        {
          "output_type": "stream",
          "text": [
            "{'main': 0.4144865203735046, 'rouge-1': 0.4615911971500937, 'rouge-2': 0.38236039440091885, 'rouge-l': 0.4230603079577957, 'best': 0.4775861578166594}\n"
          ],
          "name": "stdout"
        },
        {
          "output_type": "stream",
          "text": [
            "\n"
          ],
          "name": "stderr"
        },
        {
          "output_type": "stream",
          "text": [
            "Epoch 1/20\n",
            "89/89 [==============================] - 0s 2ms/step - loss: 0.0608 - accuracy: 0.9550\n"
          ],
          "name": "stdout"
        },
        {
          "output_type": "stream",
          "text": [
            "评估中: 6it [00:00, 22.84it/s]\n"
          ],
          "name": "stderr"
        },
        {
          "output_type": "stream",
          "text": [
            "{'main': 0.3078853404847654, 'rouge-1': 0.37565846736176467, 'rouge-2': 0.22604386697727755, 'rouge-l': 0.3558402505537536, 'best': 0.3078853404847654}\n",
            "Epoch 2/20\n",
            "89/89 [==============================] - 0s 2ms/step - loss: 0.0579 - accuracy: 0.9558\n"
          ],
          "name": "stdout"
        },
        {
          "output_type": "stream",
          "text": [
            "评估中: 6it [00:00, 24.62it/s]"
          ],
          "name": "stderr"
        },
        {
          "output_type": "stream",
          "text": [
            "{'main': 0.30729275641255976, 'rouge-1': 0.37240039116741624, 'rouge-2': 0.22480464772695688, 'rouge-l': 0.35722704772073444, 'best': 0.3078853404847654}\n",
            "Epoch 3/20\n",
            "\r64/89 [====================>.........] - ETA: 0s - loss: 0.0564 - accuracy: 0.9565"
          ],
          "name": "stdout"
        },
        {
          "output_type": "stream",
          "text": [
            "\n"
          ],
          "name": "stderr"
        },
        {
          "output_type": "stream",
          "text": [
            "\b\b\b\b\b\b\b\b\b\b\b\b\b\b\b\b\b\b\b\b\b\b\b\b\b\b\b\b\b\b\b\b\b\b\b\b\b\b\b\b\b\b\b\b\b\b\b\b\b\b\b\b\b\b\b\b\b\b\b\b\b\b\b\b\b\b\b\b\b\b\b\b\b\b\b\b\b\b\b\b\b\b\r89/89 [==============================] - 0s 2ms/step - loss: 0.0598 - accuracy: 0.9553\n"
          ],
          "name": "stdout"
        },
        {
          "output_type": "stream",
          "text": [
            "评估中: 6it [00:00, 25.55it/s]"
          ],
          "name": "stderr"
        },
        {
          "output_type": "stream",
          "text": [
            "{'main': 0.2992184897669687, 'rouge-1': 0.35604724557381057, 'rouge-2': 0.22102507207825453, 'rouge-l': 0.348997529552262, 'best': 0.3078853404847654}\n",
            "Epoch 4/20\n",
            "\r64/89 [====================>.........] - ETA: 0s - loss: 0.0492 - accuracy: 0.9614"
          ],
          "name": "stdout"
        },
        {
          "output_type": "stream",
          "text": [
            "\n"
          ],
          "name": "stderr"
        },
        {
          "output_type": "stream",
          "text": [
            "\b\b\b\b\b\b\b\b\b\b\b\b\b\b\b\b\b\b\b\b\b\b\b\b\b\b\b\b\b\b\b\b\b\b\b\b\b\b\b\b\b\b\b\b\b\b\b\b\b\b\b\b\b\b\b\b\b\b\b\b\b\b\b\b\b\b\b\b\b\b\b\b\b\b\b\b\b\b\b\b\b\b\r89/89 [==============================] - 0s 2ms/step - loss: 0.0570 - accuracy: 0.9563\n"
          ],
          "name": "stdout"
        },
        {
          "output_type": "stream",
          "text": [
            "评估中: 6it [00:00, 22.14it/s]\n"
          ],
          "name": "stderr"
        },
        {
          "output_type": "stream",
          "text": [
            "{'main': 0.3338387173336384, 'rouge-1': 0.4133290523647217, 'rouge-2': 0.2392923883393566, 'rouge-l': 0.38863987881237844, 'best': 0.3338387173336384}\n",
            "Epoch 5/20\n",
            "89/89 [==============================] - 0s 2ms/step - loss: 0.0559 - accuracy: 0.9572\n"
          ],
          "name": "stdout"
        },
        {
          "output_type": "stream",
          "text": [
            "评估中: 6it [00:00, 20.87it/s]\n"
          ],
          "name": "stderr"
        },
        {
          "output_type": "stream",
          "text": [
            "{'main': 0.33411473646384887, 'rouge-1': 0.4146561778526526, 'rouge-2': 0.2408786169926261, 'rouge-l': 0.38708013524066964, 'best': 0.33411473646384887}\n",
            "Epoch 6/20\n",
            "89/89 [==============================] - 0s 2ms/step - loss: 0.0567 - accuracy: 0.9563\n"
          ],
          "name": "stdout"
        },
        {
          "output_type": "stream",
          "text": [
            "评估中: 6it [00:00, 22.76it/s]\n"
          ],
          "name": "stderr"
        },
        {
          "output_type": "stream",
          "text": [
            "{'main': 0.3272945548430532, 'rouge-1': 0.4012932632049527, 'rouge-2': 0.2309733937135401, 'rouge-l': 0.38661636179161646, 'best': 0.33411473646384887}\n",
            "Epoch 7/20\n",
            "89/89 [==============================] - 0s 2ms/step - loss: 0.0573 - accuracy: 0.9537\n"
          ],
          "name": "stdout"
        },
        {
          "output_type": "stream",
          "text": [
            "评估中: 6it [00:00, 23.84it/s]\n"
          ],
          "name": "stderr"
        },
        {
          "output_type": "stream",
          "text": [
            "{'main': 0.3187908704647296, 'rouge-1': 0.3848133130196607, 'rouge-2': 0.22830583581981687, 'rouge-l': 0.37626468383217687, 'best': 0.33411473646384887}\n",
            "Epoch 8/20\n",
            "89/89 [==============================] - 0s 2ms/step - loss: 0.0562 - accuracy: 0.9557\n"
          ],
          "name": "stdout"
        },
        {
          "output_type": "stream",
          "text": [
            "评估中: 6it [00:00, 22.98it/s]\n"
          ],
          "name": "stderr"
        },
        {
          "output_type": "stream",
          "text": [
            "{'main': 0.320954158638825, 'rouge-1': 0.391476599784768, 'rouge-2': 0.23355991216066488, 'rouge-l': 0.37308718454401363, 'best': 0.33411473646384887}\n",
            "Epoch 9/20\n",
            "89/89 [==============================] - 0s 2ms/step - loss: 0.0569 - accuracy: 0.9550\n"
          ],
          "name": "stdout"
        },
        {
          "output_type": "stream",
          "text": [
            "评估中: 6it [00:00, 22.93it/s]\n"
          ],
          "name": "stderr"
        },
        {
          "output_type": "stream",
          "text": [
            "{'main': 0.31606445957568746, 'rouge-1': 0.3828716159417381, 'rouge-2': 0.23093869336500591, 'rouge-l': 0.3677866476033436, 'best': 0.33411473646384887}\n",
            "Epoch 10/20\n",
            "89/89 [==============================] - 0s 2ms/step - loss: 0.0555 - accuracy: 0.9560\n"
          ],
          "name": "stdout"
        },
        {
          "output_type": "stream",
          "text": [
            "评估中: 6it [00:00, 26.28it/s]"
          ],
          "name": "stderr"
        },
        {
          "output_type": "stream",
          "text": [
            "{'main': 0.29663728444732035, 'rouge-1': 0.3483551347044525, 'rouge-2': 0.21959298754033277, 'rouge-l': 0.34782265622574177, 'best': 0.33411473646384887}\n",
            "Epoch 11/20\n",
            "\r64/89 [====================>.........] - ETA: 0s - loss: 0.0607 - accuracy: 0.9497"
          ],
          "name": "stdout"
        },
        {
          "output_type": "stream",
          "text": [
            "\n"
          ],
          "name": "stderr"
        },
        {
          "output_type": "stream",
          "text": [
            "\b\b\b\b\b\b\b\b\b\b\b\b\b\b\b\b\b\b\b\b\b\b\b\b\b\b\b\b\b\b\b\b\b\b\b\b\b\b\b\b\b\b\b\b\b\b\b\b\b\b\b\b\b\b\b\b\b\b\b\b\b\b\b\b\b\b\b\b\b\b\b\b\b\b\b\b\b\b\b\b\b\b\r89/89 [==============================] - 0s 2ms/step - loss: 0.0562 - accuracy: 0.9545\n"
          ],
          "name": "stdout"
        },
        {
          "output_type": "stream",
          "text": [
            "评估中: 6it [00:00, 26.83it/s]"
          ],
          "name": "stderr"
        },
        {
          "output_type": "stream",
          "text": [
            "{'main': 0.2468638330059789, 'rouge-1': 0.29249159155624577, 'rouge-2': 0.18733891386738324, 'rouge-l': 0.283574872869441, 'best': 0.33411473646384887}\n",
            "Epoch 12/20\n",
            "\r64/89 [====================>.........] - ETA: 0s - loss: 0.0562 - accuracy: 0.9554"
          ],
          "name": "stdout"
        },
        {
          "output_type": "stream",
          "text": [
            "\n"
          ],
          "name": "stderr"
        },
        {
          "output_type": "stream",
          "text": [
            "\b\b\b\b\b\b\b\b\b\b\b\b\b\b\b\b\b\b\b\b\b\b\b\b\b\b\b\b\b\b\b\b\b\b\b\b\b\b\b\b\b\b\b\b\b\b\b\b\b\b\b\b\b\b\b\b\b\b\b\b\b\b\b\b\b\b\b\b\b\b\b\b\b\b\b\b\b\b\b\b\b\b\r89/89 [==============================] - 0s 2ms/step - loss: 0.0545 - accuracy: 0.9563\n"
          ],
          "name": "stdout"
        },
        {
          "output_type": "stream",
          "text": [
            "评估中: 6it [00:00, 32.60it/s]"
          ],
          "name": "stderr"
        },
        {
          "output_type": "stream",
          "text": [
            "{'main': 0.22137755608825063, 'rouge-1': 0.2658362545972341, 'rouge-2': 0.15766037898184668, 'rouge-l': 0.2628653839401629, 'best': 0.33411473646384887}\n",
            "Epoch 13/20\n"
          ],
          "name": "stdout"
        },
        {
          "output_type": "stream",
          "text": [
            "\n"
          ],
          "name": "stderr"
        },
        {
          "output_type": "stream",
          "text": [
            "89/89 [==============================] - 0s 2ms/step - loss: 0.0550 - accuracy: 0.9551\n"
          ],
          "name": "stdout"
        },
        {
          "output_type": "stream",
          "text": [
            "评估中: 6it [00:00, 31.17it/s]\n"
          ],
          "name": "stderr"
        },
        {
          "output_type": "stream",
          "text": [
            "{'main': 0.2571625264106472, 'rouge-1': 0.31257186458053016, 'rouge-2': 0.1734452548466844, 'rouge-l': 0.3131751288896684, 'best': 0.33411473646384887}\n",
            "Epoch 14/20\n",
            "89/89 [==============================] - 0s 2ms/step - loss: 0.0558 - accuracy: 0.9555\n"
          ],
          "name": "stdout"
        },
        {
          "output_type": "stream",
          "text": [
            "评估中: 6it [00:00, 30.20it/s]"
          ],
          "name": "stderr"
        },
        {
          "output_type": "stream",
          "text": [
            "{'main': 0.27076427819864257, 'rouge-1': 0.3325568444307018, 'rouge-2': 0.1830458657311255, 'rouge-l': 0.32758640755013013, 'best': 0.33411473646384887}\n",
            "Epoch 15/20\n",
            "\r64/89 [====================>.........] - ETA: 0s - loss: 0.0544 - accuracy: 0.9596"
          ],
          "name": "stdout"
        },
        {
          "output_type": "stream",
          "text": [
            "\n"
          ],
          "name": "stderr"
        },
        {
          "output_type": "stream",
          "text": [
            "\b\b\b\b\b\b\b\b\b\b\b\b\b\b\b\b\b\b\b\b\b\b\b\b\b\b\b\b\b\b\b\b\b\b\b\b\b\b\b\b\b\b\b\b\b\b\b\b\b\b\b\b\b\b\b\b\b\b\b\b\b\b\b\b\b\b\b\b\b\b\b\b\b\b\b\b\b\b\b\b\b\b\r89/89 [==============================] - 0s 2ms/step - loss: 0.0549 - accuracy: 0.9558\n"
          ],
          "name": "stdout"
        },
        {
          "output_type": "stream",
          "text": [
            "评估中: 6it [00:00, 30.69it/s]\n"
          ],
          "name": "stderr"
        },
        {
          "output_type": "stream",
          "text": [
            "{'main': 0.2572498019936973, 'rouge-1': 0.31879125820983717, 'rouge-2': 0.16909400979038666, 'rouge-l': 0.314634866088938, 'best': 0.33411473646384887}\n",
            "Epoch 16/20\n",
            "89/89 [==============================] - 0s 2ms/step - loss: 0.0547 - accuracy: 0.9568\n"
          ],
          "name": "stdout"
        },
        {
          "output_type": "stream",
          "text": [
            "评估中: 6it [00:00, 32.38it/s]"
          ],
          "name": "stderr"
        },
        {
          "output_type": "stream",
          "text": [
            "{'main': 0.25014673365860746, 'rouge-1': 0.31732224714146745, 'rouge-2': 0.15956689799268717, 'rouge-l': 0.3071388125830978, 'best': 0.33411473646384887}\n",
            "Epoch 17/20\n"
          ],
          "name": "stdout"
        },
        {
          "output_type": "stream",
          "text": [
            "\n"
          ],
          "name": "stderr"
        },
        {
          "output_type": "stream",
          "text": [
            "89/89 [==============================] - 0s 2ms/step - loss: 0.0539 - accuracy: 0.9569\n"
          ],
          "name": "stdout"
        },
        {
          "output_type": "stream",
          "text": [
            "评估中: 6it [00:00, 33.68it/s]"
          ],
          "name": "stderr"
        },
        {
          "output_type": "stream",
          "text": [
            "{'main': 0.24497469076097722, 'rouge-1': 0.3110529241319741, 'rouge-2': 0.15376887479521587, 'rouge-l': 0.3031413900412401, 'best': 0.33411473646384887}\n",
            "Epoch 18/20\n"
          ],
          "name": "stdout"
        },
        {
          "output_type": "stream",
          "text": [
            "\n"
          ],
          "name": "stderr"
        },
        {
          "output_type": "stream",
          "text": [
            "89/89 [==============================] - 0s 2ms/step - loss: 0.0548 - accuracy: 0.9542\n"
          ],
          "name": "stdout"
        },
        {
          "output_type": "stream",
          "text": [
            "评估中: 6it [00:00, 38.24it/s]"
          ],
          "name": "stderr"
        },
        {
          "output_type": "stream",
          "text": [
            "{'main': 0.21546774626670648, 'rouge-1': 0.2684907886016373, 'rouge-2': 0.13064184504440857, 'rouge-l': 0.2737821263215389, 'best': 0.33411473646384887}\n",
            "Epoch 19/20\n"
          ],
          "name": "stdout"
        },
        {
          "output_type": "stream",
          "text": [
            "\n"
          ],
          "name": "stderr"
        },
        {
          "output_type": "stream",
          "text": [
            "89/89 [==============================] - 0s 2ms/step - loss: 0.0555 - accuracy: 0.9564\n"
          ],
          "name": "stdout"
        },
        {
          "output_type": "stream",
          "text": [
            "评估中: 6it [00:00, 36.48it/s]"
          ],
          "name": "stderr"
        },
        {
          "output_type": "stream",
          "text": [
            "{'main': 0.21533937774223044, 'rouge-1': 0.2708545638511923, 'rouge-2': 0.13008370548673767, 'rouge-l': 0.27283745694324224, 'best': 0.33411473646384887}\n",
            "Epoch 20/20\n"
          ],
          "name": "stdout"
        },
        {
          "output_type": "stream",
          "text": [
            "\n"
          ],
          "name": "stderr"
        },
        {
          "output_type": "stream",
          "text": [
            "89/89 [==============================] - 0s 2ms/step - loss: 0.0543 - accuracy: 0.9570\n"
          ],
          "name": "stdout"
        },
        {
          "output_type": "stream",
          "text": [
            "评估中: 6it [00:00, 35.52it/s]"
          ],
          "name": "stderr"
        },
        {
          "output_type": "stream",
          "text": [
            "{'main': 0.21893450543383097, 'rouge-1': 0.2785797709775523, 'rouge-2': 0.13684850306941262, 'rouge-l': 0.27119787502638865, 'best': 0.33411473646384887}\n"
          ],
          "name": "stdout"
        },
        {
          "output_type": "stream",
          "text": [
            "\n"
          ],
          "name": "stderr"
        },
        {
          "output_type": "stream",
          "text": [
            "Epoch 1/20\n",
            "89/89 [==============================] - 0s 2ms/step - loss: 0.0616 - accuracy: 0.9538\n"
          ],
          "name": "stdout"
        },
        {
          "output_type": "stream",
          "text": [
            "评估中: 6it [00:00, 65.61it/s]"
          ],
          "name": "stderr"
        },
        {
          "output_type": "stream",
          "text": [
            "{'main': 0.42678146091457053, 'rouge-1': 0.4855791121077789, 'rouge-2': 0.37633670150078463, 'rouge-l': 0.44782739473175215, 'best': 0.42678146091457053}\n",
            "Epoch 2/20\n"
          ],
          "name": "stdout"
        },
        {
          "output_type": "stream",
          "text": [
            "\n"
          ],
          "name": "stderr"
        },
        {
          "output_type": "stream",
          "text": [
            "89/89 [==============================] - 0s 2ms/step - loss: 0.0603 - accuracy: 0.9537\n"
          ],
          "name": "stdout"
        },
        {
          "output_type": "stream",
          "text": [
            "评估中: 6it [00:00, 69.12it/s]"
          ],
          "name": "stderr"
        },
        {
          "output_type": "stream",
          "text": [
            "{'main': 0.4274665837764348, 'rouge-1': 0.4824070366079829, 'rouge-2': 0.37589623006538525, 'rouge-l': 0.45156671107171026, 'best': 0.4274665837764348}\n",
            "Epoch 3/20\n"
          ],
          "name": "stdout"
        },
        {
          "output_type": "stream",
          "text": [
            "\n"
          ],
          "name": "stderr"
        },
        {
          "output_type": "stream",
          "text": [
            "89/89 [==============================] - 0s 2ms/step - loss: 0.0602 - accuracy: 0.9541\n"
          ],
          "name": "stdout"
        },
        {
          "output_type": "stream",
          "text": [
            "评估中: 6it [00:00, 81.16it/s]"
          ],
          "name": "stderr"
        },
        {
          "output_type": "stream",
          "text": [
            "{'main': 0.3900785502880759, 'rouge-1': 0.43527073112408554, 'rouge-2': 0.35280859534395614, 'rouge-l': 0.404752414814191, 'best': 0.4274665837764348}\n",
            "Epoch 4/20\n",
            "64/89 [====================>.........] - ETA: 0s - loss: 0.0504 - accuracy: 0.9588"
          ],
          "name": "stdout"
        },
        {
          "output_type": "stream",
          "text": [
            "\n"
          ],
          "name": "stderr"
        },
        {
          "output_type": "stream",
          "text": [
            "\b\b\b\b\b\b\b\b\b\b\b\b\b\b\b\b\b\b\b\b\b\b\b\b\b\b\b\b\b\b\b\b\b\b\b\b\b\b\b\b\b\b\b\b\b\b\b\b\b\b\b\b\b\b\b\b\b\b\b\b\b\b\b\b\b\b\b\b\b\b\b\b\b\b\b\b\b\b\b\b\b\b\r89/89 [==============================] - 0s 2ms/step - loss: 0.0603 - accuracy: 0.9532\n"
          ],
          "name": "stdout"
        },
        {
          "output_type": "stream",
          "text": [
            "评估中: 6it [00:00, 71.62it/s]"
          ],
          "name": "stderr"
        },
        {
          "output_type": "stream",
          "text": [
            "{'main': 0.38889946688070026, 'rouge-1': 0.4408223770284936, 'rouge-2': 0.3517859185569177, 'rouge-l': 0.4000515601305861, 'best': 0.4274665837764348}\n",
            "Epoch 5/20\n",
            "64/89 [====================>.........] - ETA: 0s - loss: 0.0629 - accuracy: 0.9565"
          ],
          "name": "stdout"
        },
        {
          "output_type": "stream",
          "text": [
            "\n"
          ],
          "name": "stderr"
        },
        {
          "output_type": "stream",
          "text": [
            "\b\b\b\b\b\b\b\b\b\b\b\b\b\b\b\b\b\b\b\b\b\b\b\b\b\b\b\b\b\b\b\b\b\b\b\b\b\b\b\b\b\b\b\b\b\b\b\b\b\b\b\b\b\b\b\b\b\b\b\b\b\b\b\b\b\b\b\b\b\b\b\b\b\b\b\b\b\b\b\b\b\b\r89/89 [==============================] - 0s 2ms/step - loss: 0.0606 - accuracy: 0.9534\n"
          ],
          "name": "stdout"
        },
        {
          "output_type": "stream",
          "text": [
            "评估中: 6it [00:00, 52.40it/s]"
          ],
          "name": "stderr"
        },
        {
          "output_type": "stream",
          "text": [
            "{'main': 0.3975362810130812, 'rouge-1': 0.4764666590253648, 'rouge-2': 0.3541297639323782, 'rouge-l': 0.40147760908764235, 'best': 0.4274665837764348}\n",
            "Epoch 6/20\n"
          ],
          "name": "stdout"
        },
        {
          "output_type": "stream",
          "text": [
            "\n"
          ],
          "name": "stderr"
        },
        {
          "output_type": "stream",
          "text": [
            "89/89 [==============================] - 0s 2ms/step - loss: 0.0591 - accuracy: 0.9527\n"
          ],
          "name": "stdout"
        },
        {
          "output_type": "stream",
          "text": [
            "评估中: 6it [00:00, 66.18it/s]"
          ],
          "name": "stderr"
        },
        {
          "output_type": "stream",
          "text": [
            "{'main': 0.371740151501382, 'rouge-1': 0.4276541637703046, 'rouge-2': 0.3369533332856581, 'rouge-l': 0.37856996358264444, 'best': 0.4274665837764348}\n",
            "Epoch 7/20\n",
            "64/89 [====================>.........] - ETA: 0s - loss: 0.0551 - accuracy: 0.9600"
          ],
          "name": "stdout"
        },
        {
          "output_type": "stream",
          "text": [
            "\n"
          ],
          "name": "stderr"
        },
        {
          "output_type": "stream",
          "text": [
            "\b\b\b\b\b\b\b\b\b\b\b\b\b\b\b\b\b\b\b\b\b\b\b\b\b\b\b\b\b\b\b\b\b\b\b\b\b\b\b\b\b\b\b\b\b\b\b\b\b\b\b\b\b\b\b\b\b\b\b\b\b\b\b\b\b\b\b\b\b\b\b\b\b\b\b\b\b\b\b\b\b\b\r89/89 [==============================] - 0s 2ms/step - loss: 0.0597 - accuracy: 0.9540\n"
          ],
          "name": "stdout"
        },
        {
          "output_type": "stream",
          "text": [
            "评估中: 6it [00:00, 70.82it/s]"
          ],
          "name": "stderr"
        },
        {
          "output_type": "stream",
          "text": [
            "{'main': 0.3745641094083379, 'rouge-1': 0.4292775537547293, 'rouge-2': 0.338165439420629, 'rouge-l': 0.38360605722285107, 'best': 0.4274665837764348}\n",
            "Epoch 8/20\n",
            "64/89 [====================>.........] - ETA: 0s - loss: 0.0585 - accuracy: 0.9547"
          ],
          "name": "stdout"
        },
        {
          "output_type": "stream",
          "text": [
            "\n"
          ],
          "name": "stderr"
        },
        {
          "output_type": "stream",
          "text": [
            "\b\b\b\b\b\b\b\b\b\b\b\b\b\b\b\b\b\b\b\b\b\b\b\b\b\b\b\b\b\b\b\b\b\b\b\b\b\b\b\b\b\b\b\b\b\b\b\b\b\b\b\b\b\b\b\b\b\b\b\b\b\b\b\b\b\b\b\b\b\b\b\b\b\b\b\b\b\b\b\b\b\b\r89/89 [==============================] - 0s 2ms/step - loss: 0.0582 - accuracy: 0.9540\n"
          ],
          "name": "stdout"
        },
        {
          "output_type": "stream",
          "text": [
            "评估中: 6it [00:00, 44.36it/s]"
          ],
          "name": "stderr"
        },
        {
          "output_type": "stream",
          "text": [
            "{'main': 0.3660643374567701, 'rouge-1': 0.44371230084262653, 'rouge-2': 0.31755448088967514, 'rouge-l': 0.3757502123309369, 'best': 0.4274665837764348}\n",
            "Epoch 9/20\n"
          ],
          "name": "stdout"
        },
        {
          "output_type": "stream",
          "text": [
            "\n"
          ],
          "name": "stderr"
        },
        {
          "output_type": "stream",
          "text": [
            "89/89 [==============================] - 0s 2ms/step - loss: 0.0599 - accuracy: 0.9522\n"
          ],
          "name": "stdout"
        },
        {
          "output_type": "stream",
          "text": [
            "评估中: 6it [00:00, 52.12it/s]"
          ],
          "name": "stderr"
        },
        {
          "output_type": "stream",
          "text": [
            "{'main': 0.33927155021747296, 'rouge-1': 0.3935904881398036, 'rouge-2': 0.2963398585964643, 'rouge-l': 0.3550437728773163, 'best': 0.4274665837764348}\n",
            "Epoch 10/20\n"
          ],
          "name": "stdout"
        },
        {
          "output_type": "stream",
          "text": [
            "\n"
          ],
          "name": "stderr"
        },
        {
          "output_type": "stream",
          "text": [
            "89/89 [==============================] - 0s 2ms/step - loss: 0.0575 - accuracy: 0.9553\n"
          ],
          "name": "stdout"
        },
        {
          "output_type": "stream",
          "text": [
            "评估中: 6it [00:00, 61.84it/s]"
          ],
          "name": "stderr"
        },
        {
          "output_type": "stream",
          "text": [
            "{'main': 0.34642713184645196, 'rouge-1': 0.39905712276928007, 'rouge-2': 0.30968027577409923, 'rouge-l': 0.3568589924573906, 'best': 0.4274665837764348}\n",
            "Epoch 11/20\n"
          ],
          "name": "stdout"
        },
        {
          "output_type": "stream",
          "text": [
            "\n"
          ],
          "name": "stderr"
        },
        {
          "output_type": "stream",
          "text": [
            "89/89 [==============================] - 0s 2ms/step - loss: 0.0610 - accuracy: 0.9546\n"
          ],
          "name": "stdout"
        },
        {
          "output_type": "stream",
          "text": [
            "评估中: 6it [00:00, 47.52it/s]"
          ],
          "name": "stderr"
        },
        {
          "output_type": "stream",
          "text": [
            "{'main': 0.33260604214129214, 'rouge-1': 0.3835245356108028, 'rouge-2': 0.2947323828616735, 'rouge-l': 0.34502045468615544, 'best': 0.4274665837764348}\n",
            "Epoch 12/20\n"
          ],
          "name": "stdout"
        },
        {
          "output_type": "stream",
          "text": [
            "\n"
          ],
          "name": "stderr"
        },
        {
          "output_type": "stream",
          "text": [
            "89/89 [==============================] - 0s 2ms/step - loss: 0.0582 - accuracy: 0.9538\n"
          ],
          "name": "stdout"
        },
        {
          "output_type": "stream",
          "text": [
            "评估中: 6it [00:00, 38.61it/s]"
          ],
          "name": "stderr"
        },
        {
          "output_type": "stream",
          "text": [
            "{'main': 0.3736171853089132, 'rouge-1': 0.43600205401518116, 'rouge-2': 0.32505000718765525, 'rouge-l': 0.39099192907703695, 'best': 0.4274665837764348}\n",
            "Epoch 13/20\n"
          ],
          "name": "stdout"
        },
        {
          "output_type": "stream",
          "text": [
            "\n"
          ],
          "name": "stderr"
        },
        {
          "output_type": "stream",
          "text": [
            "89/89 [==============================] - 0s 2ms/step - loss: 0.0586 - accuracy: 0.9529\n"
          ],
          "name": "stdout"
        },
        {
          "output_type": "stream",
          "text": [
            "评估中: 6it [00:00, 47.83it/s]"
          ],
          "name": "stderr"
        },
        {
          "output_type": "stream",
          "text": [
            "{'main': 0.3336684110841895, 'rouge-1': 0.3831609254692201, 'rouge-2': 0.2951657332265642, 'rouge-l': 0.34742483174929933, 'best': 0.4274665837764348}\n",
            "Epoch 14/20\n"
          ],
          "name": "stdout"
        },
        {
          "output_type": "stream",
          "text": [
            "\n"
          ],
          "name": "stderr"
        },
        {
          "output_type": "stream",
          "text": [
            "89/89 [==============================] - 0s 2ms/step - loss: 0.0574 - accuracy: 0.9563\n"
          ],
          "name": "stdout"
        },
        {
          "output_type": "stream",
          "text": [
            "评估中: 6it [00:00, 46.23it/s]"
          ],
          "name": "stderr"
        },
        {
          "output_type": "stream",
          "text": [
            "{'main': 0.37177838373453914, 'rouge-1': 0.4351840462851511, 'rouge-2': 0.31855754552687315, 'rouge-l': 0.39329639066689887, 'best': 0.4274665837764348}\n",
            "Epoch 15/20\n"
          ],
          "name": "stdout"
        },
        {
          "output_type": "stream",
          "text": [
            "\n"
          ],
          "name": "stderr"
        },
        {
          "output_type": "stream",
          "text": [
            "89/89 [==============================] - 0s 2ms/step - loss: 0.0570 - accuracy: 0.9565\n"
          ],
          "name": "stdout"
        },
        {
          "output_type": "stream",
          "text": [
            "评估中: 6it [00:00, 42.53it/s]"
          ],
          "name": "stderr"
        },
        {
          "output_type": "stream",
          "text": [
            "{'main': 0.3737272994329324, 'rouge-1': 0.4503488892743963, 'rouge-2': 0.32514185343541196, 'rouge-l': 0.38400195050972113, 'best': 0.4274665837764348}\n",
            "Epoch 16/20\n"
          ],
          "name": "stdout"
        },
        {
          "output_type": "stream",
          "text": [
            "\n"
          ],
          "name": "stderr"
        },
        {
          "output_type": "stream",
          "text": [
            "89/89 [==============================] - 0s 2ms/step - loss: 0.0565 - accuracy: 0.9543\n"
          ],
          "name": "stdout"
        },
        {
          "output_type": "stream",
          "text": [
            "评估中: 6it [00:00, 47.06it/s]"
          ],
          "name": "stderr"
        },
        {
          "output_type": "stream",
          "text": [
            "{'main': 0.3775619373460945, 'rouge-1': 0.44845700338368477, 'rouge-2': 0.32691358827836914, 'rouge-l': 0.3927627533950246, 'best': 0.4274665837764348}\n",
            "Epoch 17/20\n"
          ],
          "name": "stdout"
        },
        {
          "output_type": "stream",
          "text": [
            "\n"
          ],
          "name": "stderr"
        },
        {
          "output_type": "stream",
          "text": [
            "89/89 [==============================] - 0s 2ms/step - loss: 0.0593 - accuracy: 0.9541\n"
          ],
          "name": "stdout"
        },
        {
          "output_type": "stream",
          "text": [
            "评估中: 6it [00:00, 46.04it/s]"
          ],
          "name": "stderr"
        },
        {
          "output_type": "stream",
          "text": [
            "{'main': 0.3376067422035784, 'rouge-1': 0.3860684122524924, 'rouge-2': 0.29988656191693736, 'rouge-l': 0.35109608746576226, 'best': 0.4274665837764348}\n",
            "Epoch 18/20\n"
          ],
          "name": "stdout"
        },
        {
          "output_type": "stream",
          "text": [
            "\n"
          ],
          "name": "stderr"
        },
        {
          "output_type": "stream",
          "text": [
            "89/89 [==============================] - 0s 2ms/step - loss: 0.0586 - accuracy: 0.9557\n"
          ],
          "name": "stdout"
        },
        {
          "output_type": "stream",
          "text": [
            "评估中: 6it [00:00, 42.10it/s]"
          ],
          "name": "stderr"
        },
        {
          "output_type": "stream",
          "text": [
            "{'main': 0.37302785788330994, 'rouge-1': 0.44315238216251984, 'rouge-2': 0.32570874694617197, 'rouge-l': 0.38528470668084286, 'best': 0.4274665837764348}\n",
            "Epoch 19/20\n"
          ],
          "name": "stdout"
        },
        {
          "output_type": "stream",
          "text": [
            "\n"
          ],
          "name": "stderr"
        },
        {
          "output_type": "stream",
          "text": [
            "89/89 [==============================] - 0s 2ms/step - loss: 0.0575 - accuracy: 0.9550\n"
          ],
          "name": "stdout"
        },
        {
          "output_type": "stream",
          "text": [
            "评估中: 6it [00:00, 43.06it/s]"
          ],
          "name": "stderr"
        },
        {
          "output_type": "stream",
          "text": [
            "{'main': 0.3732629082412056, 'rouge-1': 0.44267673858910034, 'rouge-2': 0.32618399736208176, 'rouge-l': 0.38563490394638195, 'best': 0.4274665837764348}\n",
            "Epoch 20/20\n"
          ],
          "name": "stdout"
        },
        {
          "output_type": "stream",
          "text": [
            "\n"
          ],
          "name": "stderr"
        },
        {
          "output_type": "stream",
          "text": [
            "89/89 [==============================] - 0s 2ms/step - loss: 0.0575 - accuracy: 0.9554\n"
          ],
          "name": "stdout"
        },
        {
          "output_type": "stream",
          "text": [
            "评估中: 6it [00:00, 48.47it/s]"
          ],
          "name": "stderr"
        },
        {
          "output_type": "stream",
          "text": [
            "{'main': 0.37409763676335644, 'rouge-1': 0.4412304109207113, 'rouge-2': 0.32434154686125594, 'rouge-l': 0.39028733958677925, 'best': 0.4274665837764348}\n",
            "Epoch 1/20\n"
          ],
          "name": "stdout"
        },
        {
          "output_type": "stream",
          "text": [
            "\n"
          ],
          "name": "stderr"
        },
        {
          "output_type": "stream",
          "text": [
            "89/89 [==============================] - 0s 2ms/step - loss: 0.0577 - accuracy: 0.9539\n"
          ],
          "name": "stdout"
        },
        {
          "output_type": "stream",
          "text": [
            "评估中: 6it [00:00, 52.30it/s]"
          ],
          "name": "stderr"
        },
        {
          "output_type": "stream",
          "text": [
            "{'main': 0.2106619029560766, 'rouge-1': 0.33457635387321977, 'rouge-2': 0.12714960946313317, 'rouge-l': 0.2322169709904485, 'best': 0.2106619029560766}\n",
            "Epoch 2/20\n"
          ],
          "name": "stdout"
        },
        {
          "output_type": "stream",
          "text": [
            "\n"
          ],
          "name": "stderr"
        },
        {
          "output_type": "stream",
          "text": [
            "89/89 [==============================] - 0s 2ms/step - loss: 0.0585 - accuracy: 0.9515\n"
          ],
          "name": "stdout"
        },
        {
          "output_type": "stream",
          "text": [
            "评估中: 6it [00:00, 55.52it/s]"
          ],
          "name": "stderr"
        },
        {
          "output_type": "stream",
          "text": [
            "{'main': 0.21090898024670582, 'rouge-1': 0.33573137599766123, 'rouge-2': 0.12685287352458274, 'rouge-l': 0.2325538890933512, 'best': 0.21090898024670582}\n",
            "Epoch 3/20\n"
          ],
          "name": "stdout"
        },
        {
          "output_type": "stream",
          "text": [
            "\n"
          ],
          "name": "stderr"
        },
        {
          "output_type": "stream",
          "text": [
            "89/89 [==============================] - 0s 2ms/step - loss: 0.0585 - accuracy: 0.9524\n"
          ],
          "name": "stdout"
        },
        {
          "output_type": "stream",
          "text": [
            "评估中: 6it [00:00, 57.01it/s]\n"
          ],
          "name": "stderr"
        },
        {
          "output_type": "stream",
          "text": [
            "{'main': 0.21406062104649096, 'rouge-1': 0.3383320557716918, 'rouge-2': 0.1301357017996903, 'rouge-l': 0.2358498229306912, 'best': 0.21406062104649096}\n",
            "Epoch 4/20\n",
            "89/89 [==============================] - 0s 2ms/step - loss: 0.0582 - accuracy: 0.9516\n"
          ],
          "name": "stdout"
        },
        {
          "output_type": "stream",
          "text": [
            "评估中: 6it [00:00, 53.80it/s]"
          ],
          "name": "stderr"
        },
        {
          "output_type": "stream",
          "text": [
            "{'main': 0.25843624984286206, 'rouge-1': 0.3747160089531842, 'rouge-2': 0.16205059478294068, 'rouge-l': 0.29668202534762245, 'best': 0.25843624984286206}\n",
            "Epoch 5/20\n"
          ],
          "name": "stdout"
        },
        {
          "output_type": "stream",
          "text": [
            "\n"
          ],
          "name": "stderr"
        },
        {
          "output_type": "stream",
          "text": [
            "89/89 [==============================] - 0s 2ms/step - loss: 0.0573 - accuracy: 0.9534\n"
          ],
          "name": "stdout"
        },
        {
          "output_type": "stream",
          "text": [
            "评估中: 6it [00:00, 53.06it/s]"
          ],
          "name": "stderr"
        },
        {
          "output_type": "stream",
          "text": [
            "{'main': 0.21106764283757826, 'rouge-1': 0.33525342494474236, 'rouge-2': 0.1272013055788865, 'rouge-l': 0.23284108904268794, 'best': 0.25843624984286206}\n",
            "Epoch 6/20\n"
          ],
          "name": "stdout"
        },
        {
          "output_type": "stream",
          "text": [
            "\n"
          ],
          "name": "stderr"
        },
        {
          "output_type": "stream",
          "text": [
            "89/89 [==============================] - 0s 2ms/step - loss: 0.0573 - accuracy: 0.9520\n"
          ],
          "name": "stdout"
        },
        {
          "output_type": "stream",
          "text": [
            "评估中: 6it [00:00, 55.47it/s]"
          ],
          "name": "stderr"
        },
        {
          "output_type": "stream",
          "text": [
            "{'main': 0.21106764283757826, 'rouge-1': 0.33525342494474236, 'rouge-2': 0.1272013055788865, 'rouge-l': 0.23284108904268794, 'best': 0.25843624984286206}\n",
            "Epoch 7/20\n"
          ],
          "name": "stdout"
        },
        {
          "output_type": "stream",
          "text": [
            "\n"
          ],
          "name": "stderr"
        },
        {
          "output_type": "stream",
          "text": [
            "89/89 [==============================] - 0s 2ms/step - loss: 0.0571 - accuracy: 0.9532\n"
          ],
          "name": "stdout"
        },
        {
          "output_type": "stream",
          "text": [
            "评估中: 6it [00:00, 56.48it/s]"
          ],
          "name": "stderr"
        },
        {
          "output_type": "stream",
          "text": [
            "{'main': 0.21106764283757826, 'rouge-1': 0.33525342494474236, 'rouge-2': 0.1272013055788865, 'rouge-l': 0.23284108904268794, 'best': 0.25843624984286206}\n",
            "Epoch 8/20\n"
          ],
          "name": "stdout"
        },
        {
          "output_type": "stream",
          "text": [
            "\n"
          ],
          "name": "stderr"
        },
        {
          "output_type": "stream",
          "text": [
            "89/89 [==============================] - 0s 2ms/step - loss: 0.0566 - accuracy: 0.9534\n"
          ],
          "name": "stdout"
        },
        {
          "output_type": "stream",
          "text": [
            "评估中: 6it [00:00, 56.41it/s]"
          ],
          "name": "stderr"
        },
        {
          "output_type": "stream",
          "text": [
            "{'main': 0.21106764283757826, 'rouge-1': 0.33525342494474236, 'rouge-2': 0.1272013055788865, 'rouge-l': 0.23284108904268794, 'best': 0.25843624984286206}\n",
            "Epoch 9/20\n"
          ],
          "name": "stdout"
        },
        {
          "output_type": "stream",
          "text": [
            "\n"
          ],
          "name": "stderr"
        },
        {
          "output_type": "stream",
          "text": [
            "89/89 [==============================] - 0s 2ms/step - loss: 0.0560 - accuracy: 0.9546\n"
          ],
          "name": "stdout"
        },
        {
          "output_type": "stream",
          "text": [
            "评估中: 6it [00:00, 57.35it/s]"
          ],
          "name": "stderr"
        },
        {
          "output_type": "stream",
          "text": [
            "{'main': 0.21247337579212724, 'rouge-1': 0.33574349391490627, 'rouge-2': 0.12813749147556783, 'rouge-l': 0.23517420104729714, 'best': 0.25843624984286206}\n",
            "Epoch 10/20\n"
          ],
          "name": "stdout"
        },
        {
          "output_type": "stream",
          "text": [
            "\n"
          ],
          "name": "stderr"
        },
        {
          "output_type": "stream",
          "text": [
            "89/89 [==============================] - 0s 2ms/step - loss: 0.0570 - accuracy: 0.9533\n"
          ],
          "name": "stdout"
        },
        {
          "output_type": "stream",
          "text": [
            "评估中: 6it [00:00, 61.83it/s]"
          ],
          "name": "stderr"
        },
        {
          "output_type": "stream",
          "text": [
            "{'main': 0.21058512688459727, 'rouge-1': 0.3307859371565739, 'rouge-2': 0.12467613539078082, 'rouge-l': 0.23639371324242534, 'best': 0.25843624984286206}\n",
            "Epoch 11/20\n"
          ],
          "name": "stdout"
        },
        {
          "output_type": "stream",
          "text": [
            "\n"
          ],
          "name": "stderr"
        },
        {
          "output_type": "stream",
          "text": [
            "89/89 [==============================] - 0s 2ms/step - loss: 0.0569 - accuracy: 0.9535\n"
          ],
          "name": "stdout"
        },
        {
          "output_type": "stream",
          "text": [
            "评估中: 6it [00:00, 54.31it/s]"
          ],
          "name": "stderr"
        },
        {
          "output_type": "stream",
          "text": [
            "{'main': 0.21090898024670582, 'rouge-1': 0.33573137599766123, 'rouge-2': 0.12685287352458274, 'rouge-l': 0.2325538890933512, 'best': 0.25843624984286206}\n",
            "Epoch 12/20\n"
          ],
          "name": "stdout"
        },
        {
          "output_type": "stream",
          "text": [
            "\n"
          ],
          "name": "stderr"
        },
        {
          "output_type": "stream",
          "text": [
            "89/89 [==============================] - 0s 2ms/step - loss: 0.0571 - accuracy: 0.9548\n"
          ],
          "name": "stdout"
        },
        {
          "output_type": "stream",
          "text": [
            "评估中: 6it [00:00, 57.00it/s]"
          ],
          "name": "stderr"
        },
        {
          "output_type": "stream",
          "text": [
            "{'main': 0.23034405720498574, 'rouge-1': 0.35538225446770016, 'rouge-2': 0.13218572525933925, 'rouge-l': 0.2659832905192751, 'best': 0.25843624984286206}\n",
            "Epoch 13/20\n"
          ],
          "name": "stdout"
        },
        {
          "output_type": "stream",
          "text": [
            "\n"
          ],
          "name": "stderr"
        },
        {
          "output_type": "stream",
          "text": [
            "89/89 [==============================] - 0s 2ms/step - loss: 0.0562 - accuracy: 0.9541\n"
          ],
          "name": "stdout"
        },
        {
          "output_type": "stream",
          "text": [
            "评估中: 6it [00:00, 61.17it/s]"
          ],
          "name": "stderr"
        },
        {
          "output_type": "stream",
          "text": [
            "{'main': 0.21058512688459727, 'rouge-1': 0.3307859371565739, 'rouge-2': 0.12467613539078082, 'rouge-l': 0.23639371324242534, 'best': 0.25843624984286206}\n",
            "Epoch 14/20\n"
          ],
          "name": "stdout"
        },
        {
          "output_type": "stream",
          "text": [
            "\n"
          ],
          "name": "stderr"
        },
        {
          "output_type": "stream",
          "text": [
            "89/89 [==============================] - 0s 2ms/step - loss: 0.0577 - accuracy: 0.9526\n"
          ],
          "name": "stdout"
        },
        {
          "output_type": "stream",
          "text": [
            "评估中: 6it [00:00, 55.55it/s]"
          ],
          "name": "stderr"
        },
        {
          "output_type": "stream",
          "text": [
            "{'main': 0.23967678831540506, 'rouge-1': 0.36865790355862965, 'rouge-2': 0.1405491506236504, 'rouge-l': 0.27431386838554744, 'best': 0.25843624984286206}\n",
            "Epoch 15/20\n"
          ],
          "name": "stdout"
        },
        {
          "output_type": "stream",
          "text": [
            "\n"
          ],
          "name": "stderr"
        },
        {
          "output_type": "stream",
          "text": [
            "89/89 [==============================] - 0s 2ms/step - loss: 0.0566 - accuracy: 0.9545\n"
          ],
          "name": "stdout"
        },
        {
          "output_type": "stream",
          "text": [
            "评估中: 6it [00:00, 56.18it/s]"
          ],
          "name": "stderr"
        },
        {
          "output_type": "stream",
          "text": [
            "{'main': 0.23647363924772447, 'rouge-1': 0.3660748081482033, 'rouge-2': 0.13719387898200675, 'rouge-l': 0.27095281506320273, 'best': 0.25843624984286206}\n",
            "Epoch 16/20\n"
          ],
          "name": "stdout"
        },
        {
          "output_type": "stream",
          "text": [
            "\n"
          ],
          "name": "stderr"
        },
        {
          "output_type": "stream",
          "text": [
            "89/89 [==============================] - 0s 2ms/step - loss: 0.0563 - accuracy: 0.9541\n"
          ],
          "name": "stdout"
        },
        {
          "output_type": "stream",
          "text": [
            "评估中: 6it [00:00, 55.46it/s]"
          ],
          "name": "stderr"
        },
        {
          "output_type": "stream",
          "text": [
            "{'main': 0.23389212004486523, 'rouge-1': 0.3631031660946595, 'rouge-2': 0.1370146675033156, 'rouge-l': 0.2661640495615177, 'best': 0.25843624984286206}\n",
            "Epoch 17/20\n"
          ],
          "name": "stdout"
        },
        {
          "output_type": "stream",
          "text": [
            "\n"
          ],
          "name": "stderr"
        },
        {
          "output_type": "stream",
          "text": [
            "89/89 [==============================] - 0s 2ms/step - loss: 0.0569 - accuracy: 0.9542\n"
          ],
          "name": "stdout"
        },
        {
          "output_type": "stream",
          "text": [
            "评估中: 6it [00:00, 58.98it/s]"
          ],
          "name": "stderr"
        },
        {
          "output_type": "stream",
          "text": [
            "{'main': 0.23516399242524622, 'rouge-1': 0.3585395765173373, 'rouge-2': 0.13512945830683315, 'rouge-l': 0.2735107344976137, 'best': 0.25843624984286206}\n",
            "Epoch 18/20\n"
          ],
          "name": "stdout"
        },
        {
          "output_type": "stream",
          "text": [
            "\n"
          ],
          "name": "stderr"
        },
        {
          "output_type": "stream",
          "text": [
            "89/89 [==============================] - 0s 2ms/step - loss: 0.0567 - accuracy: 0.9527\n"
          ],
          "name": "stdout"
        },
        {
          "output_type": "stream",
          "text": [
            "评估中: 6it [00:00, 58.46it/s]"
          ],
          "name": "stderr"
        },
        {
          "output_type": "stream",
          "text": [
            "{'main': 0.23316011222772134, 'rouge-1': 0.3560124036812804, 'rouge-2': 0.1316290066693786, 'rouge-l': 0.2732650720592845, 'best': 0.25843624984286206}\n",
            "Epoch 19/20\n"
          ],
          "name": "stdout"
        },
        {
          "output_type": "stream",
          "text": [
            "\n"
          ],
          "name": "stderr"
        },
        {
          "output_type": "stream",
          "text": [
            "89/89 [==============================] - 0s 2ms/step - loss: 0.0562 - accuracy: 0.9524\n"
          ],
          "name": "stdout"
        },
        {
          "output_type": "stream",
          "text": [
            "评估中: 6it [00:00, 55.88it/s]"
          ],
          "name": "stderr"
        },
        {
          "output_type": "stream",
          "text": [
            "{'main': 0.23403434274348156, 'rouge-1': 0.3559300177790539, 'rouge-2': 0.13241861887526915, 'rouge-l': 0.2747022290939078, 'best': 0.25843624984286206}\n",
            "Epoch 20/20\n"
          ],
          "name": "stdout"
        },
        {
          "output_type": "stream",
          "text": [
            "\n"
          ],
          "name": "stderr"
        },
        {
          "output_type": "stream",
          "text": [
            "89/89 [==============================] - 0s 2ms/step - loss: 0.0567 - accuracy: 0.9524\n"
          ],
          "name": "stdout"
        },
        {
          "output_type": "stream",
          "text": [
            "评估中: 6it [00:00, 56.34it/s]"
          ],
          "name": "stderr"
        },
        {
          "output_type": "stream",
          "text": [
            "{'main': 0.19901904771403608, 'rouge-1': 0.3133582659362628, 'rouge-2': 0.11258552510258957, 'rouge-l': 0.2282829612143692, 'best': 0.25843624984286206}\n",
            "Epoch 1/20\n"
          ],
          "name": "stdout"
        },
        {
          "output_type": "stream",
          "text": [
            "\n"
          ],
          "name": "stderr"
        },
        {
          "output_type": "stream",
          "text": [
            "89/89 [==============================] - 0s 2ms/step - loss: 0.0552 - accuracy: 0.9557\n"
          ],
          "name": "stdout"
        },
        {
          "output_type": "stream",
          "text": [
            "评估中: 6it [00:00, 19.34it/s]\n"
          ],
          "name": "stderr"
        },
        {
          "output_type": "stream",
          "text": [
            "{'main': 0.4576020650277092, 'rouge-1': 0.49685419269873154, 'rouge-2': 0.38436983453816254, 'rouge-l': 0.5112082316817447, 'best': 0.4576020650277092}\n",
            "Epoch 2/20\n",
            "89/89 [==============================] - 0s 2ms/step - loss: 0.0547 - accuracy: 0.9571\n"
          ],
          "name": "stdout"
        },
        {
          "output_type": "stream",
          "text": [
            "评估中: 6it [00:00, 17.81it/s]\n"
          ],
          "name": "stderr"
        },
        {
          "output_type": "stream",
          "text": [
            "{'main': 0.45199992721268006, 'rouge-1': 0.49366808354712427, 'rouge-2': 0.3814933012771428, 'rouge-l': 0.5016724749809952, 'best': 0.4576020650277092}\n",
            "Epoch 3/20\n",
            "89/89 [==============================] - 0s 2ms/step - loss: 0.0554 - accuracy: 0.9542\n"
          ],
          "name": "stdout"
        },
        {
          "output_type": "stream",
          "text": [
            "评估中: 6it [00:00, 20.15it/s]\n"
          ],
          "name": "stderr"
        },
        {
          "output_type": "stream",
          "text": [
            "{'main': 0.4619913339461667, 'rouge-1': 0.5079171585298893, 'rouge-2': 0.37839692249019996, 'rouge-l': 0.5226228331102719, 'best': 0.4619913339461667}\n",
            "Epoch 4/20\n",
            "89/89 [==============================] - 0s 2ms/step - loss: 0.0535 - accuracy: 0.9565\n"
          ],
          "name": "stdout"
        },
        {
          "output_type": "stream",
          "text": [
            "评估中: 6it [00:00, 21.05it/s]"
          ],
          "name": "stderr"
        },
        {
          "output_type": "stream",
          "text": [
            "{'main': 0.4429513002702405, 'rouge-1': 0.4819362330402221, 'rouge-2': 0.36648083824049515, 'rouge-l': 0.49992929591499485, 'best': 0.4619913339461667}\n",
            "Epoch 5/20\n",
            "\r64/89 [====================>.........] - ETA: 0s - loss: 0.0508 - accuracy: 0.9608"
          ],
          "name": "stdout"
        },
        {
          "output_type": "stream",
          "text": [
            "\n"
          ],
          "name": "stderr"
        },
        {
          "output_type": "stream",
          "text": [
            "\b\b\b\b\b\b\b\b\b\b\b\b\b\b\b\b\b\b\b\b\b\b\b\b\b\b\b\b\b\b\b\b\b\b\b\b\b\b\b\b\b\b\b\b\b\b\b\b\b\b\b\b\b\b\b\b\b\b\b\b\b\b\b\b\b\b\b\b\b\b\b\b\b\b\b\b\b\b\b\b\b\b\r89/89 [==============================] - 0s 2ms/step - loss: 0.0548 - accuracy: 0.9566\n"
          ],
          "name": "stdout"
        },
        {
          "output_type": "stream",
          "text": [
            "评估中: 6it [00:00, 21.95it/s]"
          ],
          "name": "stderr"
        },
        {
          "output_type": "stream",
          "text": [
            "{'main': 0.433660980312994, 'rouge-1': 0.47927739878142006, 'rouge-2': 0.35544458508323246, 'rouge-l': 0.4890691663085425, 'best': 0.4619913339461667}\n",
            "Epoch 6/20\n",
            "\r64/89 [====================>.........] - ETA: 0s - loss: 0.0511 - accuracy: 0.9593"
          ],
          "name": "stdout"
        },
        {
          "output_type": "stream",
          "text": [
            "\n"
          ],
          "name": "stderr"
        },
        {
          "output_type": "stream",
          "text": [
            "\b\b\b\b\b\b\b\b\b\b\b\b\b\b\b\b\b\b\b\b\b\b\b\b\b\b\b\b\b\b\b\b\b\b\b\b\b\b\b\b\b\b\b\b\b\b\b\b\b\b\b\b\b\b\b\b\b\b\b\b\b\b\b\b\b\b\b\b\b\b\b\b\b\b\b\b\b\b\b\b\b\b\r89/89 [==============================] - 0s 2ms/step - loss: 0.0542 - accuracy: 0.9558\n"
          ],
          "name": "stdout"
        },
        {
          "output_type": "stream",
          "text": [
            "评估中: 6it [00:00, 22.09it/s]"
          ],
          "name": "stderr"
        },
        {
          "output_type": "stream",
          "text": [
            "{'main': 0.433660980312994, 'rouge-1': 0.47927739878142006, 'rouge-2': 0.35544458508323246, 'rouge-l': 0.4890691663085425, 'best': 0.4619913339461667}\n",
            "Epoch 7/20\n",
            "\r64/89 [====================>.........] - ETA: 0s - loss: 0.0561 - accuracy: 0.9565"
          ],
          "name": "stdout"
        },
        {
          "output_type": "stream",
          "text": [
            "\n"
          ],
          "name": "stderr"
        },
        {
          "output_type": "stream",
          "text": [
            "\b\b\b\b\b\b\b\b\b\b\b\b\b\b\b\b\b\b\b\b\b\b\b\b\b\b\b\b\b\b\b\b\b\b\b\b\b\b\b\b\b\b\b\b\b\b\b\b\b\b\b\b\b\b\b\b\b\b\b\b\b\b\b\b\b\b\b\b\b\b\b\b\b\b\b\b\b\b\b\b\b\b\r89/89 [==============================] - 0s 2ms/step - loss: 0.0539 - accuracy: 0.9562\n"
          ],
          "name": "stdout"
        },
        {
          "output_type": "stream",
          "text": [
            "评估中: 6it [00:00, 20.46it/s]\n"
          ],
          "name": "stderr"
        },
        {
          "output_type": "stream",
          "text": [
            "{'main': 0.44166401844383313, 'rouge-1': 0.4893905403714695, 'rouge-2': 0.35853942538815337, 'rouge-l': 0.5009253505356946, 'best': 0.4619913339461667}\n",
            "Epoch 8/20\n",
            "89/89 [==============================] - 0s 2ms/step - loss: 0.0547 - accuracy: 0.9568\n"
          ],
          "name": "stdout"
        },
        {
          "output_type": "stream",
          "text": [
            "评估中: 6it [00:00, 18.54it/s]\n"
          ],
          "name": "stderr"
        },
        {
          "output_type": "stream",
          "text": [
            "{'main': 0.4436871894641379, 'rouge-1': 0.49758740271900787, 'rouge-2': 0.3621479693973433, 'rouge-l': 0.4982763029034974, 'best': 0.4619913339461667}\n",
            "Epoch 9/20\n",
            "89/89 [==============================] - 0s 2ms/step - loss: 0.0543 - accuracy: 0.9560\n"
          ],
          "name": "stdout"
        },
        {
          "output_type": "stream",
          "text": [
            "评估中: 6it [00:00, 18.89it/s]\n"
          ],
          "name": "stderr"
        },
        {
          "output_type": "stream",
          "text": [
            "{'main': 0.40974557845090237, 'rouge-1': 0.4879165281324906, 'rouge-2': 0.3268038243808598, 'rouge-l': 0.45360185768015104, 'best': 0.4619913339461667}\n",
            "Epoch 10/20\n",
            "89/89 [==============================] - 0s 2ms/step - loss: 0.0534 - accuracy: 0.9559\n"
          ],
          "name": "stdout"
        },
        {
          "output_type": "stream",
          "text": [
            "评估中: 6it [00:00, 18.55it/s]\n"
          ],
          "name": "stderr"
        },
        {
          "output_type": "stream",
          "text": [
            "{'main': 0.4151111700500291, 'rouge-1': 0.4918922223012944, 'rouge-2': 0.3311074491666328, 'rouge-l': 0.46072436480779283, 'best': 0.4619913339461667}\n",
            "Epoch 11/20\n",
            "89/89 [==============================] - 0s 2ms/step - loss: 0.0541 - accuracy: 0.9567\n"
          ],
          "name": "stdout"
        },
        {
          "output_type": "stream",
          "text": [
            "评估中: 6it [00:00, 19.98it/s]\n"
          ],
          "name": "stderr"
        },
        {
          "output_type": "stream",
          "text": [
            "{'main': 0.3995107594825205, 'rouge-1': 0.4745662728917448, 'rouge-2': 0.3241168165978567, 'rouge-l': 0.43737694566257224, 'best': 0.4619913339461667}\n",
            "Epoch 12/20\n",
            "89/89 [==============================] - 0s 2ms/step - loss: 0.0548 - accuracy: 0.9551\n"
          ],
          "name": "stdout"
        },
        {
          "output_type": "stream",
          "text": [
            "评估中: 6it [00:00, 20.26it/s]\n"
          ],
          "name": "stderr"
        },
        {
          "output_type": "stream",
          "text": [
            "{'main': 0.37642504334564086, 'rouge-1': 0.4643007653171931, 'rouge-2': 0.3013719066070758, 'rouge-l': 0.4075403190984299, 'best': 0.4619913339461667}\n",
            "Epoch 13/20\n",
            "89/89 [==============================] - 0s 2ms/step - loss: 0.0539 - accuracy: 0.9556\n"
          ],
          "name": "stdout"
        },
        {
          "output_type": "stream",
          "text": [
            "评估中: 6it [00:00, 20.34it/s]\n"
          ],
          "name": "stderr"
        },
        {
          "output_type": "stream",
          "text": [
            "{'main': 0.37358046596724964, 'rouge-1': 0.4606975043721559, 'rouge-2': 0.29910954615216406, 'rouge-l': 0.404492866579882, 'best': 0.4619913339461667}\n",
            "Epoch 14/20\n",
            "89/89 [==============================] - 0s 2ms/step - loss: 0.0534 - accuracy: 0.9559\n"
          ],
          "name": "stdout"
        },
        {
          "output_type": "stream",
          "text": [
            "评估中: 6it [00:00, 16.50it/s]\n"
          ],
          "name": "stderr"
        },
        {
          "output_type": "stream",
          "text": [
            "{'main': 0.4158291841346109, 'rouge-1': 0.48105957069515876, 'rouge-2': 0.33158671907183934, 'rouge-l': 0.46745645591710844, 'best': 0.4619913339461667}\n",
            "Epoch 15/20\n",
            "89/89 [==============================] - 0s 2ms/step - loss: 0.0534 - accuracy: 0.9562\n"
          ],
          "name": "stdout"
        },
        {
          "output_type": "stream",
          "text": [
            "评估中: 6it [00:00, 16.74it/s]\n"
          ],
          "name": "stderr"
        },
        {
          "output_type": "stream",
          "text": [
            "{'main': 0.42126182243950633, 'rouge-1': 0.48946749315715476, 'rouge-2': 0.334217379172751, 'rouge-l': 0.4742034303474374, 'best': 0.4619913339461667}\n",
            "Epoch 16/20\n",
            "89/89 [==============================] - 0s 2ms/step - loss: 0.0540 - accuracy: 0.9537\n"
          ],
          "name": "stdout"
        },
        {
          "output_type": "stream",
          "text": [
            "评估中: 6it [00:00, 19.03it/s]\n"
          ],
          "name": "stderr"
        },
        {
          "output_type": "stream",
          "text": [
            "{'main': 0.3927425773495687, 'rouge-1': 0.4778838830549373, 'rouge-2': 0.3066412684323019, 'rouge-l': 0.4362732334141511, 'best': 0.4619913339461667}\n",
            "Epoch 17/20\n",
            "89/89 [==============================] - 0s 2ms/step - loss: 0.0535 - accuracy: 0.9570\n"
          ],
          "name": "stdout"
        },
        {
          "output_type": "stream",
          "text": [
            "评估中: 6it [00:00, 18.01it/s]\n"
          ],
          "name": "stderr"
        },
        {
          "output_type": "stream",
          "text": [
            "{'main': 0.3997345022148529, 'rouge-1': 0.4829551841576, 'rouge-2': 0.3119748762368147, 'rouge-l': 0.4458837872215176, 'best': 0.4619913339461667}\n",
            "Epoch 18/20\n",
            "89/89 [==============================] - 0s 2ms/step - loss: 0.0532 - accuracy: 0.9568\n"
          ],
          "name": "stdout"
        },
        {
          "output_type": "stream",
          "text": [
            "评估中: 6it [00:00, 15.95it/s]\n"
          ],
          "name": "stderr"
        },
        {
          "output_type": "stream",
          "text": [
            "{'main': 0.4161304160885348, 'rouge-1': 0.48740762490773265, 'rouge-2': 0.33122031692066467, 'rouge-l': 0.4654019108468059, 'best': 0.4619913339461667}\n",
            "Epoch 19/20\n",
            "89/89 [==============================] - 0s 2ms/step - loss: 0.0530 - accuracy: 0.9575\n"
          ],
          "name": "stdout"
        },
        {
          "output_type": "stream",
          "text": [
            "评估中: 6it [00:00, 18.39it/s]\n"
          ],
          "name": "stderr"
        },
        {
          "output_type": "stream",
          "text": [
            "{'main': 0.39522975054709675, 'rouge-1': 0.4792988151590178, 'rouge-2': 0.30567560031549706, 'rouge-l': 0.4427493684727359, 'best': 0.4619913339461667}\n",
            "Epoch 20/20\n",
            "89/89 [==============================] - 0s 2ms/step - loss: 0.0531 - accuracy: 0.9572\n"
          ],
          "name": "stdout"
        },
        {
          "output_type": "stream",
          "text": [
            "评估中: 6it [00:00, 19.42it/s]\n"
          ],
          "name": "stderr"
        },
        {
          "output_type": "stream",
          "text": [
            "{'main': 0.3928038006177213, 'rouge-1': 0.4826646140130839, 'rouge-2': 0.3057788171435544, 'rouge-l': 0.434898377394207, 'best': 0.4619913339461667}\n",
            "Epoch 1/20\n",
            "89/89 [==============================] - 0s 2ms/step - loss: 0.0564 - accuracy: 0.9546\n"
          ],
          "name": "stdout"
        },
        {
          "output_type": "stream",
          "text": [
            "评估中: 6it [00:02,  2.61it/s]"
          ],
          "name": "stderr"
        },
        {
          "output_type": "stream",
          "text": [
            "{'main': 0.28664037532922476, 'rouge-1': 0.3704221382427235, 'rouge-2': 0.22710373504948134, 'rouge-l': 0.30428613415221867, 'best': 0.28664037532922476}\n",
            "Epoch 2/20\n",
            "\r64/89 [====================>.........] - ETA: 0s - loss: 0.0576 - accuracy: 0.9474"
          ],
          "name": "stdout"
        },
        {
          "output_type": "stream",
          "text": [
            "\n"
          ],
          "name": "stderr"
        },
        {
          "output_type": "stream",
          "text": [
            "\b\b\b\b\b\b\b\b\b\b\b\b\b\b\b\b\b\b\b\b\b\b\b\b\b\b\b\b\b\b\b\b\b\b\b\b\b\b\b\b\b\b\b\b\b\b\b\b\b\b\b\b\b\b\b\b\b\b\b\b\b\b\b\b\b\b\b\b\b\b\b\b\b\b\b\b\b\b\b\b\b\b\r89/89 [==============================] - 0s 2ms/step - loss: 0.0558 - accuracy: 0.9538\n"
          ],
          "name": "stdout"
        },
        {
          "output_type": "stream",
          "text": [
            "评估中: 6it [00:00, 36.75it/s]\n"
          ],
          "name": "stderr"
        },
        {
          "output_type": "stream",
          "text": [
            "{'main': 0.3042789148928567, 'rouge-1': 0.4026439142980262, 'rouge-2': 0.23067632010057423, 'rouge-l': 0.32869900998255447, 'best': 0.3042789148928567}\n",
            "Epoch 3/20\n",
            "89/89 [==============================] - 0s 2ms/step - loss: 0.0555 - accuracy: 0.9519\n"
          ],
          "name": "stdout"
        },
        {
          "output_type": "stream",
          "text": [
            "评估中: 6it [00:00, 46.38it/s]"
          ],
          "name": "stderr"
        },
        {
          "output_type": "stream",
          "text": [
            "{'main': 0.23445033004219126, 'rouge-1': 0.3156630547738529, 'rouge-2': 0.17471963731322906, 'rouge-l': 0.2535746604053225, 'best': 0.3042789148928567}\n",
            "Epoch 4/20\n"
          ],
          "name": "stdout"
        },
        {
          "output_type": "stream",
          "text": [
            "\n"
          ],
          "name": "stderr"
        },
        {
          "output_type": "stream",
          "text": [
            "89/89 [==============================] - 0s 2ms/step - loss: 0.0563 - accuracy: 0.9532\n"
          ],
          "name": "stdout"
        },
        {
          "output_type": "stream",
          "text": [
            "评估中: 6it [00:00, 48.07it/s]"
          ],
          "name": "stderr"
        },
        {
          "output_type": "stream",
          "text": [
            "{'main': 0.23445033004219126, 'rouge-1': 0.3156630547738529, 'rouge-2': 0.17471963731322906, 'rouge-l': 0.2535746604053225, 'best': 0.3042789148928567}\n",
            "Epoch 5/20\n"
          ],
          "name": "stdout"
        },
        {
          "output_type": "stream",
          "text": [
            "\n"
          ],
          "name": "stderr"
        },
        {
          "output_type": "stream",
          "text": [
            "89/89 [==============================] - 0s 2ms/step - loss: 0.0547 - accuracy: 0.9563\n"
          ],
          "name": "stdout"
        },
        {
          "output_type": "stream",
          "text": [
            "评估中: 6it [00:00, 37.47it/s]\n"
          ],
          "name": "stderr"
        },
        {
          "output_type": "stream",
          "text": [
            "{'main': 0.3109061619165708, 'rouge-1': 0.4100154160022407, 'rouge-2': 0.2361894590813011, 'rouge-l': 0.33606823770900557, 'best': 0.3109061619165708}\n",
            "Epoch 6/20\n",
            "89/89 [==============================] - 0s 2ms/step - loss: 0.0552 - accuracy: 0.9526\n"
          ],
          "name": "stdout"
        },
        {
          "output_type": "stream",
          "text": [
            "评估中: 6it [00:00, 36.53it/s]"
          ],
          "name": "stderr"
        },
        {
          "output_type": "stream",
          "text": [
            "{'main': 0.3049053294289073, 'rouge-1': 0.40513274812002065, 'rouge-2': 0.22953338859733563, 'rouge-l': 0.3301635609149224, 'best': 0.3109061619165708}\n",
            "Epoch 7/20\n"
          ],
          "name": "stdout"
        },
        {
          "output_type": "stream",
          "text": [
            "\n"
          ],
          "name": "stderr"
        },
        {
          "output_type": "stream",
          "text": [
            "89/89 [==============================] - 0s 2ms/step - loss: 0.0550 - accuracy: 0.9542\n"
          ],
          "name": "stdout"
        },
        {
          "output_type": "stream",
          "text": [
            "评估中: 6it [00:00, 39.03it/s]"
          ],
          "name": "stderr"
        },
        {
          "output_type": "stream",
          "text": [
            "{'main': 0.2561035144365869, 'rouge-1': 0.37149512777660004, 'rouge-2': 0.17883427281382036, 'rouge-l': 0.2756769493893469, 'best': 0.3109061619165708}\n",
            "Epoch 8/20\n"
          ],
          "name": "stdout"
        },
        {
          "output_type": "stream",
          "text": [
            "\n"
          ],
          "name": "stderr"
        },
        {
          "output_type": "stream",
          "text": [
            "89/89 [==============================] - 0s 2ms/step - loss: 0.0541 - accuracy: 0.9553\n"
          ],
          "name": "stdout"
        },
        {
          "output_type": "stream",
          "text": [
            "评估中: 6it [00:00, 39.26it/s]"
          ],
          "name": "stderr"
        },
        {
          "output_type": "stream",
          "text": [
            "{'main': 0.21575389678907098, 'rouge-1': 0.3298853160299964, 'rouge-2': 0.13637333288055223, 'rouge-l': 0.238068751077127, 'best': 0.3109061619165708}\n",
            "Epoch 9/20\n"
          ],
          "name": "stdout"
        },
        {
          "output_type": "stream",
          "text": [
            "\n"
          ],
          "name": "stderr"
        },
        {
          "output_type": "stream",
          "text": [
            "89/89 [==============================] - 0s 2ms/step - loss: 0.0553 - accuracy: 0.9557\n"
          ],
          "name": "stdout"
        },
        {
          "output_type": "stream",
          "text": [
            "评估中: 6it [00:00, 37.01it/s]"
          ],
          "name": "stderr"
        },
        {
          "output_type": "stream",
          "text": [
            "{'main': 0.2658095782012215, 'rouge-1': 0.3829025959818455, 'rouge-2': 0.19362731224122517, 'rouge-l': 0.2794453352709056, 'best': 0.3109061619165708}\n",
            "Epoch 10/20\n"
          ],
          "name": "stdout"
        },
        {
          "output_type": "stream",
          "text": [
            "\n"
          ],
          "name": "stderr"
        },
        {
          "output_type": "stream",
          "text": [
            "89/89 [==============================] - 0s 2ms/step - loss: 0.0544 - accuracy: 0.9563\n"
          ],
          "name": "stdout"
        },
        {
          "output_type": "stream",
          "text": [
            "评估中: 6it [00:00, 37.70it/s]"
          ],
          "name": "stderr"
        },
        {
          "output_type": "stream",
          "text": [
            "{'main': 0.2518335895972152, 'rouge-1': 0.34107115433415197, 'rouge-2': 0.17391865354621613, 'rouge-l': 0.2851297432797459, 'best': 0.3109061619165708}\n",
            "Epoch 11/20\n"
          ],
          "name": "stdout"
        },
        {
          "output_type": "stream",
          "text": [
            "\n"
          ],
          "name": "stderr"
        },
        {
          "output_type": "stream",
          "text": [
            "89/89 [==============================] - 0s 2ms/step - loss: 0.0543 - accuracy: 0.9562\n"
          ],
          "name": "stdout"
        },
        {
          "output_type": "stream",
          "text": [
            "评估中: 6it [00:00, 40.24it/s]"
          ],
          "name": "stderr"
        },
        {
          "output_type": "stream",
          "text": [
            "{'main': 0.21437384923984737, 'rouge-1': 0.31757869562747404, 'rouge-2': 0.1394723754437374, 'rouge-l': 0.2376728998421439, 'best': 0.3109061619165708}\n",
            "Epoch 12/20\n"
          ],
          "name": "stdout"
        },
        {
          "output_type": "stream",
          "text": [
            "\n"
          ],
          "name": "stderr"
        },
        {
          "output_type": "stream",
          "text": [
            "89/89 [==============================] - 0s 2ms/step - loss: 0.0545 - accuracy: 0.9565\n"
          ],
          "name": "stdout"
        },
        {
          "output_type": "stream",
          "text": [
            "评估中: 6it [00:00, 35.68it/s]"
          ],
          "name": "stderr"
        },
        {
          "output_type": "stream",
          "text": [
            "{'main': 0.2466829322069989, 'rouge-1': 0.34278163647528664, 'rouge-2': 0.16754561690963077, 'rouge-l': 0.2777708953702232, 'best': 0.3109061619165708}\n",
            "Epoch 13/20\n"
          ],
          "name": "stdout"
        },
        {
          "output_type": "stream",
          "text": [
            "\n"
          ],
          "name": "stderr"
        },
        {
          "output_type": "stream",
          "text": [
            "89/89 [==============================] - 0s 2ms/step - loss: 0.0544 - accuracy: 0.9559\n"
          ],
          "name": "stdout"
        },
        {
          "output_type": "stream",
          "text": [
            "评估中: 6it [00:00, 38.31it/s]"
          ],
          "name": "stderr"
        },
        {
          "output_type": "stream",
          "text": [
            "{'main': 0.256656806932219, 'rouge-1': 0.3498914101721878, 'rouge-2': 0.17970872055004405, 'rouge-l': 0.2869875916944095, 'best': 0.3109061619165708}\n",
            "Epoch 14/20\n"
          ],
          "name": "stdout"
        },
        {
          "output_type": "stream",
          "text": [
            "\n"
          ],
          "name": "stderr"
        },
        {
          "output_type": "stream",
          "text": [
            "89/89 [==============================] - 0s 2ms/step - loss: 0.0544 - accuracy: 0.9553\n"
          ],
          "name": "stdout"
        },
        {
          "output_type": "stream",
          "text": [
            "评估中: 6it [00:00, 41.19it/s]"
          ],
          "name": "stderr"
        },
        {
          "output_type": "stream",
          "text": [
            "{'main': 0.2134615976167553, 'rouge-1': 0.30401178076162666, 'rouge-2': 0.1327144481261443, 'rouge-l': 0.24893365553493055, 'best': 0.3109061619165708}\n",
            "Epoch 15/20\n"
          ],
          "name": "stdout"
        },
        {
          "output_type": "stream",
          "text": [
            "\n"
          ],
          "name": "stderr"
        },
        {
          "output_type": "stream",
          "text": [
            "89/89 [==============================] - 0s 2ms/step - loss: 0.0546 - accuracy: 0.9553\n"
          ],
          "name": "stdout"
        },
        {
          "output_type": "stream",
          "text": [
            "评估中: 6it [00:00, 40.78it/s]"
          ],
          "name": "stderr"
        },
        {
          "output_type": "stream",
          "text": [
            "{'main': 0.23386523504342863, 'rouge-1': 0.3385198264286094, 'rouge-2': 0.15208009914203366, 'rouge-l': 0.26332307525223314, 'best': 0.3109061619165708}\n",
            "Epoch 16/20\n"
          ],
          "name": "stdout"
        },
        {
          "output_type": "stream",
          "text": [
            "\n"
          ],
          "name": "stderr"
        },
        {
          "output_type": "stream",
          "text": [
            "89/89 [==============================] - 0s 2ms/step - loss: 0.0544 - accuracy: 0.9558\n"
          ],
          "name": "stdout"
        },
        {
          "output_type": "stream",
          "text": [
            "评估中: 6it [00:00, 39.36it/s]"
          ],
          "name": "stderr"
        },
        {
          "output_type": "stream",
          "text": [
            "{'main': 0.22201905993205137, 'rouge-1': 0.33286972940204823, 'rouge-2': 0.1437059161383812, 'rouge-l': 0.244906868990723, 'best': 0.3109061619165708}\n",
            "Epoch 17/20\n"
          ],
          "name": "stdout"
        },
        {
          "output_type": "stream",
          "text": [
            "\n"
          ],
          "name": "stderr"
        },
        {
          "output_type": "stream",
          "text": [
            "89/89 [==============================] - 0s 2ms/step - loss: 0.0538 - accuracy: 0.9560\n"
          ],
          "name": "stdout"
        },
        {
          "output_type": "stream",
          "text": [
            "评估中: 6it [00:00, 33.55it/s]"
          ],
          "name": "stderr"
        },
        {
          "output_type": "stream",
          "text": [
            "{'main': 0.22228677753316717, 'rouge-1': 0.3406129120738957, 'rouge-2': 0.1339020057344269, 'rouge-l': 0.25150848206154314, 'best': 0.3109061619165708}\n",
            "Epoch 18/20\n"
          ],
          "name": "stdout"
        },
        {
          "output_type": "stream",
          "text": [
            "\n"
          ],
          "name": "stderr"
        },
        {
          "output_type": "stream",
          "text": [
            "89/89 [==============================] - 0s 2ms/step - loss: 0.0543 - accuracy: 0.9532\n"
          ],
          "name": "stdout"
        },
        {
          "output_type": "stream",
          "text": [
            "评估中: 6it [00:00, 35.98it/s]"
          ],
          "name": "stderr"
        },
        {
          "output_type": "stream",
          "text": [
            "{'main': 0.22053944302081516, 'rouge-1': 0.3325711292494731, 'rouge-2': 0.13253925218362972, 'rouge-l': 0.25252379074367154, 'best': 0.3109061619165708}\n",
            "Epoch 19/20\n"
          ],
          "name": "stdout"
        },
        {
          "output_type": "stream",
          "text": [
            "\n"
          ],
          "name": "stderr"
        },
        {
          "output_type": "stream",
          "text": [
            "89/89 [==============================] - 0s 2ms/step - loss: 0.0532 - accuracy: 0.9562\n"
          ],
          "name": "stdout"
        },
        {
          "output_type": "stream",
          "text": [
            "评估中: 6it [00:00, 36.95it/s]"
          ],
          "name": "stderr"
        },
        {
          "output_type": "stream",
          "text": [
            "{'main': 0.20633408259622998, 'rouge-1': 0.3121055735304829, 'rouge-2': 0.12478731467405695, 'rouge-l': 0.23499510505127652, 'best': 0.3109061619165708}\n",
            "Epoch 20/20\n"
          ],
          "name": "stdout"
        },
        {
          "output_type": "stream",
          "text": [
            "\n"
          ],
          "name": "stderr"
        },
        {
          "output_type": "stream",
          "text": [
            "89/89 [==============================] - 0s 2ms/step - loss: 0.0540 - accuracy: 0.9554\n"
          ],
          "name": "stdout"
        },
        {
          "output_type": "stream",
          "text": [
            "评估中: 6it [00:00, 37.22it/s]"
          ],
          "name": "stderr"
        },
        {
          "output_type": "stream",
          "text": [
            "{'main': 0.19994675738560708, 'rouge-1': 0.30184916352513547, 'rouge-2': 0.12478731467405695, 'rouge-l': 0.22415499702739303, 'best': 0.3109061619165708}\n",
            "Epoch 1/20\n"
          ],
          "name": "stdout"
        },
        {
          "output_type": "stream",
          "text": [
            "\n"
          ],
          "name": "stderr"
        },
        {
          "output_type": "stream",
          "text": [
            "89/89 [==============================] - 0s 2ms/step - loss: 0.0546 - accuracy: 0.9555\n"
          ],
          "name": "stdout"
        },
        {
          "output_type": "stream",
          "text": [
            "评估中: 6it [00:00, 123.80it/s]"
          ],
          "name": "stderr"
        },
        {
          "output_type": "stream",
          "text": [
            "{'main': 0.12531231633560933, 'rouge-1': 0.1981604110990627, 'rouge-2': 0.08013008267976361, 'rouge-l': 0.13407050260972828, 'best': 0.12531231633560933}\n",
            "Epoch 2/20\n"
          ],
          "name": "stdout"
        },
        {
          "output_type": "stream",
          "text": [
            "\n"
          ],
          "name": "stderr"
        },
        {
          "output_type": "stream",
          "text": [
            "89/89 [==============================] - 0s 2ms/step - loss: 0.0544 - accuracy: 0.9574\n"
          ],
          "name": "stdout"
        },
        {
          "output_type": "stream",
          "text": [
            "评估中: 6it [00:00, 122.85it/s]"
          ],
          "name": "stderr"
        },
        {
          "output_type": "stream",
          "text": [
            "{'main': 0.07698484832023245, 'rouge-1': 0.14367877805320264, 'rouge-2': 0.028019336318909963, 'rouge-l': 0.0926033954550698, 'best': 0.12531231633560933}\n",
            "Epoch 3/20\n",
            "64/89 [====================>.........] - ETA: 0s - loss: 0.0538 - accuracy: 0.9573"
          ],
          "name": "stdout"
        },
        {
          "output_type": "stream",
          "text": [
            "\n"
          ],
          "name": "stderr"
        },
        {
          "output_type": "stream",
          "text": [
            "\b\b\b\b\b\b\b\b\b\b\b\b\b\b\b\b\b\b\b\b\b\b\b\b\b\b\b\b\b\b\b\b\b\b\b\b\b\b\b\b\b\b\b\b\b\b\b\b\b\b\b\b\b\b\b\b\b\b\b\b\b\b\b\b\b\b\b\b\b\b\b\b\b\b\b\b\b\b\b\b\b\b\r89/89 [==============================] - 0s 2ms/step - loss: 0.0543 - accuracy: 0.9561\n"
          ],
          "name": "stdout"
        },
        {
          "output_type": "stream",
          "text": [
            "评估中: 6it [00:00, 124.48it/s]"
          ],
          "name": "stderr"
        },
        {
          "output_type": "stream",
          "text": [
            "{'main': 0.07698484832023245, 'rouge-1': 0.14367877805320264, 'rouge-2': 0.028019336318909963, 'rouge-l': 0.0926033954550698, 'best': 0.12531231633560933}\n",
            "Epoch 4/20\n",
            "64/89 [====================>.........] - ETA: 0s - loss: 0.0544 - accuracy: 0.9556"
          ],
          "name": "stdout"
        },
        {
          "output_type": "stream",
          "text": [
            "\n"
          ],
          "name": "stderr"
        },
        {
          "output_type": "stream",
          "text": [
            "\b\b\b\b\b\b\b\b\b\b\b\b\b\b\b\b\b\b\b\b\b\b\b\b\b\b\b\b\b\b\b\b\b\b\b\b\b\b\b\b\b\b\b\b\b\b\b\b\b\b\b\b\b\b\b\b\b\b\b\b\b\b\b\b\b\b\b\b\b\b\b\b\b\b\b\b\b\b\b\b\b\b\r89/89 [==============================] - 0s 2ms/step - loss: 0.0543 - accuracy: 0.9549\n"
          ],
          "name": "stdout"
        },
        {
          "output_type": "stream",
          "text": [
            "评估中: 6it [00:00, 116.71it/s]"
          ],
          "name": "stderr"
        },
        {
          "output_type": "stream",
          "text": [
            "{'main': 0.07649427260250051, 'rouge-1': 0.14048049627321765, 'rouge-2': 0.02809020806033977, 'rouge-l': 0.09290522530930263, 'best': 0.12531231633560933}\n",
            "Epoch 5/20\n",
            "64/89 [====================>.........] - ETA: 0s - loss: 0.0555 - accuracy: 0.9523"
          ],
          "name": "stdout"
        },
        {
          "output_type": "stream",
          "text": [
            "\n"
          ],
          "name": "stderr"
        },
        {
          "output_type": "stream",
          "text": [
            "\b\b\b\b\b\b\b\b\b\b\b\b\b\b\b\b\b\b\b\b\b\b\b\b\b\b\b\b\b\b\b\b\b\b\b\b\b\b\b\b\b\b\b\b\b\b\b\b\b\b\b\b\b\b\b\b\b\b\b\b\b\b\b\b\b\b\b\b\b\b\b\b\b\b\b\b\b\b\b\b\b\b\r89/89 [==============================] - 0s 2ms/step - loss: 0.0534 - accuracy: 0.9564\n"
          ],
          "name": "stdout"
        },
        {
          "output_type": "stream",
          "text": [
            "评估中: 6it [00:00, 124.31it/s]"
          ],
          "name": "stderr"
        },
        {
          "output_type": "stream",
          "text": [
            "{'main': 0.07793890781866279, 'rouge-1': 0.1401927282727452, 'rouge-2': 0.0281645796427243, 'rouge-l': 0.09658632576756006, 'best': 0.12531231633560933}\n",
            "Epoch 6/20\n",
            "64/89 [====================>.........] - ETA: 0s - loss: 0.0507 - accuracy: 0.9588"
          ],
          "name": "stdout"
        },
        {
          "output_type": "stream",
          "text": [
            "\n"
          ],
          "name": "stderr"
        },
        {
          "output_type": "stream",
          "text": [
            "\b\b\b\b\b\b\b\b\b\b\b\b\b\b\b\b\b\b\b\b\b\b\b\b\b\b\b\b\b\b\b\b\b\b\b\b\b\b\b\b\b\b\b\b\b\b\b\b\b\b\b\b\b\b\b\b\b\b\b\b\b\b\b\b\b\b\b\b\b\b\b\b\b\b\b\b\b\b\b\b\b\b\r89/89 [==============================] - 0s 2ms/step - loss: 0.0522 - accuracy: 0.9589\n"
          ],
          "name": "stdout"
        },
        {
          "output_type": "stream",
          "text": [
            "评估中: 6it [00:00, 76.99it/s]"
          ],
          "name": "stderr"
        },
        {
          "output_type": "stream",
          "text": [
            "{'main': 0.1216248150890245, 'rouge-1': 0.21424879869807936, 'rouge-2': 0.03440684472281071, 'rouge-l': 0.16253079365071085, 'best': 0.12531231633560933}\n",
            "Epoch 7/20\n",
            "64/89 [====================>.........] - ETA: 0s - loss: 0.0533 - accuracy: 0.9567"
          ],
          "name": "stdout"
        },
        {
          "output_type": "stream",
          "text": [
            "\n"
          ],
          "name": "stderr"
        },
        {
          "output_type": "stream",
          "text": [
            "\b\b\b\b\b\b\b\b\b\b\b\b\b\b\b\b\b\b\b\b\b\b\b\b\b\b\b\b\b\b\b\b\b\b\b\b\b\b\b\b\b\b\b\b\b\b\b\b\b\b\b\b\b\b\b\b\b\b\b\b\b\b\b\b\b\b\b\b\b\b\b\b\b\b\b\b\b\b\b\b\b\b\r89/89 [==============================] - 0s 2ms/step - loss: 0.0529 - accuracy: 0.9554\n"
          ],
          "name": "stdout"
        },
        {
          "output_type": "stream",
          "text": [
            "评估中: 6it [00:00, 72.33it/s]"
          ],
          "name": "stderr"
        },
        {
          "output_type": "stream",
          "text": [
            "{'main': 0.12140975858931817, 'rouge-1': 0.21459657372398533, 'rouge-2': 0.03409216861805685, 'rouge-l': 0.1621339409932459, 'best': 0.12531231633560933}\n",
            "Epoch 8/20\n",
            "64/89 [====================>.........] - ETA: 0s - loss: 0.0439 - accuracy: 0.9605"
          ],
          "name": "stdout"
        },
        {
          "output_type": "stream",
          "text": [
            "\n"
          ],
          "name": "stderr"
        },
        {
          "output_type": "stream",
          "text": [
            "\b\b\b\b\b\b\b\b\b\b\b\b\b\b\b\b\b\b\b\b\b\b\b\b\b\b\b\b\b\b\b\b\b\b\b\b\b\b\b\b\b\b\b\b\b\b\b\b\b\b\b\b\b\b\b\b\b\b\b\b\b\b\b\b\b\b\b\b\b\b\b\b\b\b\b\b\b\b\b\b\b\b\r89/89 [==============================] - 0s 2ms/step - loss: 0.0531 - accuracy: 0.9557\n"
          ],
          "name": "stdout"
        },
        {
          "output_type": "stream",
          "text": [
            "评估中: 6it [00:00, 87.79it/s]"
          ],
          "name": "stderr"
        },
        {
          "output_type": "stream",
          "text": [
            "{'main': 0.09895680899657873, 'rouge-1': 0.18717834953336795, 'rouge-2': 0.02513730908126664, 'rouge-l': 0.1286655386434962, 'best': 0.12531231633560933}\n",
            "Epoch 9/20\n",
            "64/89 [====================>.........] - ETA: 0s - loss: 0.0520 - accuracy: 0.9562"
          ],
          "name": "stdout"
        },
        {
          "output_type": "stream",
          "text": [
            "\n"
          ],
          "name": "stderr"
        },
        {
          "output_type": "stream",
          "text": [
            "\b\b\b\b\b\b\b\b\b\b\b\b\b\b\b\b\b\b\b\b\b\b\b\b\b\b\b\b\b\b\b\b\b\b\b\b\b\b\b\b\b\b\b\b\b\b\b\b\b\b\b\b\b\b\b\b\b\b\b\b\b\b\b\b\b\b\b\b\b\b\b\b\b\b\b\b\b\b\b\b\b\b\r89/89 [==============================] - 0s 2ms/step - loss: 0.0527 - accuracy: 0.9566\n"
          ],
          "name": "stdout"
        },
        {
          "output_type": "stream",
          "text": [
            "评估中: 6it [00:00, 98.48it/s]"
          ],
          "name": "stderr"
        },
        {
          "output_type": "stream",
          "text": [
            "{'main': 0.07819273265544417, 'rouge-1': 0.15762528873171078, 'rouge-2': 0.023401526060733768, 'rouge-l': 0.09326766121202128, 'best': 0.12531231633560933}\n",
            "Epoch 10/20\n",
            "64/89 [====================>.........] - ETA: 0s - loss: 0.0531 - accuracy: 0.9576"
          ],
          "name": "stdout"
        },
        {
          "output_type": "stream",
          "text": [
            "\n"
          ],
          "name": "stderr"
        },
        {
          "output_type": "stream",
          "text": [
            "\b\b\b\b\b\b\b\b\b\b\b\b\b\b\b\b\b\b\b\b\b\b\b\b\b\b\b\b\b\b\b\b\b\b\b\b\b\b\b\b\b\b\b\b\b\b\b\b\b\b\b\b\b\b\b\b\b\b\b\b\b\b\b\b\b\b\b\b\b\b\b\b\b\b\b\b\b\b\b\b\b\b\r89/89 [==============================] - 0s 2ms/step - loss: 0.0523 - accuracy: 0.9559\n"
          ],
          "name": "stdout"
        },
        {
          "output_type": "stream",
          "text": [
            "评估中: 6it [00:00, 102.67it/s]"
          ],
          "name": "stderr"
        },
        {
          "output_type": "stream",
          "text": [
            "{'main': 0.07832692272254445, 'rouge-1': 0.15749794856701982, 'rouge-2': 0.023423383995740676, 'rouge-l': 0.09364494852711054, 'best': 0.12531231633560933}\n",
            "Epoch 11/20\n",
            "64/89 [====================>.........] - ETA: 0s - loss: 0.0510 - accuracy: 0.9567"
          ],
          "name": "stdout"
        },
        {
          "output_type": "stream",
          "text": [
            "\n"
          ],
          "name": "stderr"
        },
        {
          "output_type": "stream",
          "text": [
            "\b\b\b\b\b\b\b\b\b\b\b\b\b\b\b\b\b\b\b\b\b\b\b\b\b\b\b\b\b\b\b\b\b\b\b\b\b\b\b\b\b\b\b\b\b\b\b\b\b\b\b\b\b\b\b\b\b\b\b\b\b\b\b\b\b\b\b\b\b\b\b\b\b\b\b\b\b\b\b\b\b\b\r89/89 [==============================] - 0s 2ms/step - loss: 0.0523 - accuracy: 0.9567\n"
          ],
          "name": "stdout"
        },
        {
          "output_type": "stream",
          "text": [
            "评估中: 6it [00:00, 91.73it/s]"
          ],
          "name": "stderr"
        },
        {
          "output_type": "stream",
          "text": [
            "{'main': 0.1094299009506749, 'rouge-1': 0.18882194063781924, 'rouge-2': 0.031874186550236355, 'rouge-l': 0.14728959550754125, 'best': 0.12531231633560933}\n",
            "Epoch 12/20\n",
            "64/89 [====================>.........] - ETA: 0s - loss: 0.0491 - accuracy: 0.9609"
          ],
          "name": "stdout"
        },
        {
          "output_type": "stream",
          "text": [
            "\n"
          ],
          "name": "stderr"
        },
        {
          "output_type": "stream",
          "text": [
            "\b\b\b\b\b\b\b\b\b\b\b\b\b\b\b\b\b\b\b\b\b\b\b\b\b\b\b\b\b\b\b\b\b\b\b\b\b\b\b\b\b\b\b\b\b\b\b\b\b\b\b\b\b\b\b\b\b\b\b\b\b\b\b\b\b\b\b\b\b\b\b\b\b\b\b\b\b\b\b\b\b\b\r89/89 [==============================] - 0s 2ms/step - loss: 0.0521 - accuracy: 0.9568\n"
          ],
          "name": "stdout"
        },
        {
          "output_type": "stream",
          "text": [
            "评估中: 6it [00:00, 72.44it/s]"
          ],
          "name": "stderr"
        },
        {
          "output_type": "stream",
          "text": [
            "{'main': 0.14050419071885145, 'rouge-1': 0.2518953154849866, 'rouge-2': 0.05191036814288743, 'rouge-l': 0.17340245091174789, 'best': 0.14050419071885145}\n",
            "Epoch 13/20\n"
          ],
          "name": "stdout"
        },
        {
          "output_type": "stream",
          "text": [
            "\n"
          ],
          "name": "stderr"
        },
        {
          "output_type": "stream",
          "text": [
            "89/89 [==============================] - 0s 2ms/step - loss: 0.0520 - accuracy: 0.9567\n"
          ],
          "name": "stdout"
        },
        {
          "output_type": "stream",
          "text": [
            "评估中: 6it [00:00, 53.37it/s]\n"
          ],
          "name": "stderr"
        },
        {
          "output_type": "stream",
          "text": [
            "{'main': 0.14369802775440113, 'rouge-1': 0.2745706849549802, 'rouge-2': 0.06474055336156555, 'rouge-l': 0.15721917354694706, 'best': 0.14369802775440113}\n",
            "Epoch 14/20\n",
            "89/89 [==============================] - 0s 2ms/step - loss: 0.0514 - accuracy: 0.9577\n"
          ],
          "name": "stdout"
        },
        {
          "output_type": "stream",
          "text": [
            "评估中: 6it [00:00, 74.33it/s]"
          ],
          "name": "stderr"
        },
        {
          "output_type": "stream",
          "text": [
            "{'main': 0.13703929000241513, 'rouge-1': 0.24565537992664102, 'rouge-2': 0.050283043919038595, 'rouge-l': 0.16948749112367867, 'best': 0.14369802775440113}\n",
            "Epoch 15/20\n",
            "64/89 [====================>.........] - ETA: 0s - loss: 0.0504 - accuracy: 0.9581"
          ],
          "name": "stdout"
        },
        {
          "output_type": "stream",
          "text": [
            "\n"
          ],
          "name": "stderr"
        },
        {
          "output_type": "stream",
          "text": [
            "\b\b\b\b\b\b\b\b\b\b\b\b\b\b\b\b\b\b\b\b\b\b\b\b\b\b\b\b\b\b\b\b\b\b\b\b\b\b\b\b\b\b\b\b\b\b\b\b\b\b\b\b\b\b\b\b\b\b\b\b\b\b\b\b\b\b\b\b\b\b\b\b\b\b\b\b\b\b\b\b\b\b\r89/89 [==============================] - 0s 2ms/step - loss: 0.0514 - accuracy: 0.9573\n"
          ],
          "name": "stdout"
        },
        {
          "output_type": "stream",
          "text": [
            "评估中: 6it [00:00, 80.20it/s]"
          ],
          "name": "stderr"
        },
        {
          "output_type": "stream",
          "text": [
            "{'main': 0.1377727365875245, 'rouge-1': 0.24316016538149296, 'rouge-2': 0.05042714954050648, 'rouge-l': 0.17242460923755829, 'best': 0.14369802775440113}\n",
            "Epoch 16/20\n",
            "64/89 [====================>.........] - ETA: 0s - loss: 0.0494 - accuracy: 0.9541"
          ],
          "name": "stdout"
        },
        {
          "output_type": "stream",
          "text": [
            "\n"
          ],
          "name": "stderr"
        },
        {
          "output_type": "stream",
          "text": [
            "\b\b\b\b\b\b\b\b\b\b\b\b\b\b\b\b\b\b\b\b\b\b\b\b\b\b\b\b\b\b\b\b\b\b\b\b\b\b\b\b\b\b\b\b\b\b\b\b\b\b\b\b\b\b\b\b\b\b\b\b\b\b\b\b\b\b\b\b\b\b\b\b\b\b\b\b\b\b\b\b\b\b\r89/89 [==============================] - 0s 2ms/step - loss: 0.0520 - accuracy: 0.9568\n"
          ],
          "name": "stdout"
        },
        {
          "output_type": "stream",
          "text": [
            "评估中: 6it [00:00, 66.81it/s]"
          ],
          "name": "stderr"
        },
        {
          "output_type": "stream",
          "text": [
            "{'main': 0.13714208606796824, 'rouge-1': 0.24897901336969563, 'rouge-2': 0.051131312042286624, 'rouge-l': 0.16723439644278612, 'best': 0.14369802775440113}\n",
            "Epoch 17/20\n",
            "64/89 [====================>.........] - ETA: 0s - loss: 0.0476 - accuracy: 0.9593"
          ],
          "name": "stdout"
        },
        {
          "output_type": "stream",
          "text": [
            "\n"
          ],
          "name": "stderr"
        },
        {
          "output_type": "stream",
          "text": [
            "\b\b\b\b\b\b\b\b\b\b\b\b\b\b\b\b\b\b\b\b\b\b\b\b\b\b\b\b\b\b\b\b\b\b\b\b\b\b\b\b\b\b\b\b\b\b\b\b\b\b\b\b\b\b\b\b\b\b\b\b\b\b\b\b\b\b\b\b\b\b\b\b\b\b\b\b\b\b\b\b\b\b\r89/89 [==============================] - 0s 2ms/step - loss: 0.0518 - accuracy: 0.9564\n"
          ],
          "name": "stdout"
        },
        {
          "output_type": "stream",
          "text": [
            "评估中: 6it [00:00, 56.26it/s]"
          ],
          "name": "stderr"
        },
        {
          "output_type": "stream",
          "text": [
            "{'main': 0.14208803618746504, 'rouge-1': 0.26165811032099373, 'rouge-2': 0.05581429934095283, 'rouge-l': 0.16857673596721298, 'best': 0.14369802775440113}\n",
            "Epoch 18/20\n"
          ],
          "name": "stdout"
        },
        {
          "output_type": "stream",
          "text": [
            "\n"
          ],
          "name": "stderr"
        },
        {
          "output_type": "stream",
          "text": [
            "89/89 [==============================] - 0s 2ms/step - loss: 0.0511 - accuracy: 0.9574\n"
          ],
          "name": "stdout"
        },
        {
          "output_type": "stream",
          "text": [
            "评估中: 6it [00:00, 55.83it/s]"
          ],
          "name": "stderr"
        },
        {
          "output_type": "stream",
          "text": [
            "{'main': 0.14406073853987025, 'rouge-1': 0.2685118224136141, 'rouge-2': 0.06807019798012127, 'rouge-l': 0.15782573716274725, 'best': 0.14406073853987025}\n",
            "Epoch 19/20\n"
          ],
          "name": "stdout"
        },
        {
          "output_type": "stream",
          "text": [
            "\n"
          ],
          "name": "stderr"
        },
        {
          "output_type": "stream",
          "text": [
            "89/89 [==============================] - 0s 2ms/step - loss: 0.0528 - accuracy: 0.9561\n"
          ],
          "name": "stdout"
        },
        {
          "output_type": "stream",
          "text": [
            "评估中: 6it [00:00, 53.66it/s]\n"
          ],
          "name": "stderr"
        },
        {
          "output_type": "stream",
          "text": [
            "{'main': 0.14764503661092002, 'rouge-1': 0.2739852102661659, 'rouge-2': 0.06390995163451389, 'rouge-l': 0.16821003475970317, 'best': 0.14764503661092002}\n",
            "Epoch 20/20\n",
            "89/89 [==============================] - 0s 2ms/step - loss: 0.0521 - accuracy: 0.9562\n"
          ],
          "name": "stdout"
        },
        {
          "output_type": "stream",
          "text": [
            "评估中: 6it [00:00, 54.47it/s]"
          ],
          "name": "stderr"
        },
        {
          "output_type": "stream",
          "text": [
            "{'main': 0.15075702098888147, 'rouge-1': 0.28197007192363194, 'rouge-2': 0.06002727998078461, 'rouge-l': 0.17588023652960308, 'best': 0.15075702098888147}\n"
          ],
          "name": "stdout"
        },
        {
          "output_type": "stream",
          "text": [
            "\n"
          ],
          "name": "stderr"
        }
      ]
    },
    {
      "cell_type": "code",
      "metadata": {
        "id": "TYa0TqxLG0e9",
        "colab": {
          "base_uri": "https://localhost:8080/"
        },
        "outputId": "200fc1b3-5994-422b-f011-5ee5c0885c6f"
      },
      "source": [
        "#! -*- coding: utf-8 -*-\n",
        "# 法研杯2020 司法摘要\n",
        "# 生成式：数据转换\n",
        "# 科学空间：https://kexue.fm\n",
        "\n",
        "from bert4keras.snippets import open\n",
        "\n",
        "\n",
        "def fold_convert(data, data_x, fold):\n",
        "    \"\"\"每一fold用对应的模型做数据转换\n",
        "    \"\"\"\n",
        "    valid_data = data_split(data, fold, num_folds, 'valid')\n",
        "    valid_x = data_split(data_x, fold, num_folds, 'valid')\n",
        "\n",
        "    extract_model.load_weights('weights/extract_model.%s.weights' % fold)\n",
        "    y_pred = extract_model.predict(valid_x)[:, :, 0]\n",
        "\n",
        "    results = []\n",
        "    for d, yp in tqdm(zip(valid_data, y_pred), desc=u'转换中'):\n",
        "        yp = yp[:len(d[0])]\n",
        "        yp = np.where(yp > threshold)[0]\n",
        "        source_1 = ''.join([d[0][i] for i in yp])\n",
        "        source_2 = ''.join([d[0][i] for i in d[1]])\n",
        "        result = {\n",
        "            'source_1': source_1,\n",
        "            'source_2': source_2,\n",
        "            'target': d[2],\n",
        "        }\n",
        "        results.append(result)\n",
        "\n",
        "    return results\n",
        "\n",
        "\n",
        "def convert(filename, data, data_x):\n",
        "    \"\"\"转换为生成式数据\n",
        "    \"\"\"\n",
        "    F = open(filename, 'w', encoding='utf-8')\n",
        "    total_results = []\n",
        "    for fold in range(num_folds):\n",
        "        total_results.append(fold_convert(data, data_x, fold))\n",
        "\n",
        "    # 按照原始顺序写入到文件中\n",
        "    n = 0\n",
        "    while True:\n",
        "        i, j = n % num_folds, n // num_folds\n",
        "        try:\n",
        "            d = total_results[i][j]\n",
        "        except:\n",
        "            break\n",
        "        F.write(json.dumps(d, ensure_ascii=False) + '\\n')\n",
        "        n += 1\n",
        "\n",
        "    F.close()\n",
        "\n",
        "\n",
        "if __name__ == '__main__':\n",
        "\n",
        "    data = load_data(data_extract_json)\n",
        "    data_x = np.load(data_extract_npy)\n",
        "    data_seq2seq_json = data_json[:-5] + '_seq2seq.json'\n",
        "    convert(data_seq2seq_json, data, data_x)\n",
        "    print(u'输出路径：%s' % data_seq2seq_json)"
      ],
      "execution_count": null,
      "outputs": [
        {
          "output_type": "stream",
          "text": [
            "转换中: 7it [00:00, 19065.02it/s]\n",
            "转换中: 7it [00:00, 27620.06it/s]\n",
            "转换中: 7it [00:00, 25530.55it/s]\n",
            "转换中: 7it [00:00, 18001.30it/s]\n",
            "转换中: 7it [00:00, 23246.34it/s]\n",
            "转换中: 6it [00:00, 18423.00it/s]\n",
            "转换中: 6it [00:00, 16732.60it/s]\n",
            "转换中: 6it [00:00, 6917.49it/s]\n",
            "转换中: 6it [00:00, 6153.01it/s]\n",
            "转换中: 6it [00:00, 21583.04it/s]\n",
            "转换中: 6it [00:00, 18423.00it/s]\n",
            "转换中: 6it [00:00, 17785.03it/s]\n",
            "转换中: 6it [00:00, 21112.27it/s]\n",
            "转换中: 6it [00:00, 17822.82it/s]\n",
            "转换中: 6it [00:00, 5500.73it/s]"
          ],
          "name": "stderr"
        },
        {
          "output_type": "stream",
          "text": [
            "输出路径：./SPACES/datasets/train_seq2seq.json\n"
          ],
          "name": "stdout"
        },
        {
          "output_type": "stream",
          "text": [
            "\n"
          ],
          "name": "stderr"
        }
      ]
    },
    {
      "cell_type": "code",
      "metadata": {
        "id": "bRJ9-crMHzoB"
      },
      "source": [
        "#! -*- coding: utf-8 -*-\n",
        "# 法研杯2020 司法摘要\n",
        "# 生成式：正式模型\n",
        "# 科学空间：https://kexue.fm\n",
        "\n",
        "import os, json\n",
        "import numpy as np\n",
        "from tqdm import tqdm\n",
        "import tensorflow as tf\n",
        "from bert4keras.backend import keras, K, batch_gather\n",
        "from bert4keras.layers import Loss\n",
        "from bert4keras.models import build_transformer_model\n",
        "from bert4keras.tokenizers import Tokenizer, load_vocab\n",
        "from bert4keras.optimizers import Adam, extend_with_exponential_moving_average\n",
        "from bert4keras.snippets import sequence_padding, open\n",
        "from bert4keras.snippets import DataGenerator, AutoRegressiveDecoder\n",
        "from bert4keras.snippets import longest_common_subsequence\n",
        "from keras.layers import Input, Dense, Lambda\n",
        "from keras.models import Model\n",
        "#from snippets import *\n",
        "\n",
        "# 基本参数\n",
        "maxlen = 1024\n",
        "batch_size = 5\n",
        "epochs = 850\n",
        "k_sparse = 10\n",
        "data_seq2seq_json = data_json[:-5] + '_seq2seq.json'\n",
        "seq2seq_config_json = data_json[:-10] + 'seq2seq_config.json'\n",
        "\n",
        "if len(sys.argv) == 1:\n",
        "    fold = 0\n",
        "else:\n",
        "    fold = 0 # int(sys.argv[1])\n",
        "\n",
        "\n",
        "def load_data(filename):\n",
        "    \"\"\"加载数据\n",
        "    返回：[{...}]\n",
        "    \"\"\"\n",
        "    D = []\n",
        "    with open(filename) as f:\n",
        "        for l in f:\n",
        "            D.append(json.loads(l))\n",
        "    return D\n",
        "\n",
        "\n",
        "if os.path.exists(seq2seq_config_json):\n",
        "    token_dict, keep_tokens, compound_tokens = json.load(\n",
        "        open(seq2seq_config_json)\n",
        "    )\n",
        "else:\n",
        "    # 加载并精简词表\n",
        "    token_dict, keep_tokens = load_vocab(\n",
        "        dict_path=nezha_dict_path,\n",
        "        simplified=True,\n",
        "        startswith=['[PAD]', '[UNK]', '[CLS]', '[SEP]'],\n",
        "    )\n",
        "    pure_tokenizer = Tokenizer(token_dict.copy(), do_lower_case=True)\n",
        "    user_dict = []\n",
        "    for w in load_user_dict(user_dict_path) + load_user_dict(user_dict_path_2):\n",
        "        if w not in token_dict:\n",
        "            token_dict[w] = len(token_dict)\n",
        "            user_dict.append(w)\n",
        "    compound_tokens = [pure_tokenizer.encode(w)[0][1:-1] for w in user_dict]\n",
        "    json.dump([token_dict, keep_tokens, compound_tokens],\n",
        "              open(seq2seq_config_json, 'w'))\n",
        "\n",
        "tokenizer = Tokenizer(\n",
        "    token_dict,\n",
        "    do_lower_case=True,\n",
        "    pre_tokenize=lambda s: jieba.cut(s, HMM=False)\n",
        ")\n",
        "\n",
        "\n",
        "def generate_copy_labels(source, target):\n",
        "    \"\"\"构建copy机制对应的label\n",
        "    \"\"\"\n",
        "    mapping = longest_common_subsequence(source, target)[1]\n",
        "    source_labels = [0] * len(source)\n",
        "    target_labels = [0] * len(target)\n",
        "    i0, j0 = -2, -2\n",
        "    for i, j in mapping:\n",
        "        if i == i0 + 1 and j == j0 + 1:\n",
        "            source_labels[i] = 2\n",
        "            target_labels[j] = 2\n",
        "        else:\n",
        "            source_labels[i] = 1\n",
        "            target_labels[j] = 1\n",
        "        i0, j0 = i, j\n",
        "    return source_labels, target_labels\n",
        "\n",
        "\n",
        "def random_masking(token_ids):\n",
        "    \"\"\"对输入进行随机mask，增加泛化能力\n",
        "    \"\"\"\n",
        "    rands = np.random.random(len(token_ids))\n",
        "    return [\n",
        "        t if r > 0.15 else np.random.choice(token_ids)\n",
        "        for r, t in zip(rands, token_ids)\n",
        "    ]\n",
        "\n",
        "\n",
        "class data_generator(DataGenerator):\n",
        "    \"\"\"数据生成器\n",
        "    \"\"\"\n",
        "    def __iter__(self, random=False):\n",
        "        batch_token_ids, batch_segment_ids = [], []\n",
        "        batch_output_ids, batch_labels = [], []\n",
        "        for is_end, d in self.sample(random):\n",
        "            i = np.random.choice(2) + 1 if random else 1\n",
        "            source, target = d['source_%s' % i], d['target']\n",
        "            token_ids, segment_ids = tokenizer.encode(\n",
        "                source, target, maxlen=maxlen, pattern='S*ES*E'\n",
        "            )\n",
        "            idx = token_ids.index(tokenizer._token_end_id) + 1\n",
        "            masked_token_ids = random_masking(token_ids)\n",
        "            source_labels, target_labels = generate_copy_labels(\n",
        "                masked_token_ids[:idx], token_ids[idx:]\n",
        "            )\n",
        "            labels = source_labels + target_labels[1:]\n",
        "            batch_token_ids.append(masked_token_ids)\n",
        "            batch_segment_ids.append(segment_ids)\n",
        "            batch_output_ids.append(token_ids)\n",
        "            batch_labels.append(labels)\n",
        "            if len(batch_token_ids) == self.batch_size or is_end:\n",
        "                batch_token_ids = sequence_padding(batch_token_ids)\n",
        "                batch_segment_ids = sequence_padding(batch_segment_ids)\n",
        "                batch_output_ids = sequence_padding(batch_output_ids)\n",
        "                batch_labels = sequence_padding(batch_labels)\n",
        "                yield [\n",
        "                    batch_token_ids, batch_segment_ids, \\\n",
        "                    batch_output_ids, batch_labels\n",
        "                ], None\n",
        "                batch_token_ids, batch_segment_ids = [], []\n",
        "                batch_output_ids, batch_labels = [], []\n",
        "\n",
        "\n",
        "class CrossEntropy(Loss):\n",
        "    \"\"\"交叉熵作为loss，并mask掉输入部分\n",
        "    \"\"\"\n",
        "    def compute_loss(self, inputs, mask=None):\n",
        "        seq2seq_loss = self.compute_seq2seq_loss(inputs, mask)\n",
        "        copy_loss = self.compute_copy_loss(inputs, mask)\n",
        "        self.add_metric(seq2seq_loss, 'seq2seq_loss')\n",
        "        self.add_metric(copy_loss, 'copy_loss')\n",
        "        return seq2seq_loss + 2 * copy_loss\n",
        "\n",
        "    def compute_seq2seq_loss(self, inputs, mask=None):\n",
        "        y_true, y_mask, _, y_pred, _ = inputs\n",
        "        y_true = y_true[:, 1:]  # 目标token_ids\n",
        "        y_mask = y_mask[:, :-1] * y_mask[:, 1:]  # segment_ids，刚好指示了要预测的部分\n",
        "        y_pred = y_pred[:, :-1]  # 预测序列，错开一位\n",
        "        # 正loss\n",
        "        pos_loss = batch_gather(y_pred, y_true[..., None])[..., 0]\n",
        "        # 负loss\n",
        "        y_pred = tf.nn.top_k(y_pred, k=k_sparse)[0]\n",
        "        neg_loss = K.logsumexp(y_pred, axis=-1)\n",
        "        # 总loss\n",
        "        loss = neg_loss - pos_loss\n",
        "        loss = K.sum(loss * y_mask) / K.sum(y_mask)\n",
        "        return loss\n",
        "\n",
        "    def compute_copy_loss(self, inputs, mask=None):\n",
        "        _, y_mask, y_true, _, y_pred = inputs\n",
        "        y_mask = K.cumsum(y_mask[:, ::-1], axis=1)[:, ::-1]\n",
        "        y_mask = K.cast(K.greater(y_mask, 0.5), K.floatx())\n",
        "        y_mask = y_mask[:, 1:]  # mask标记，减少一位\n",
        "        y_pred = y_pred[:, :-1]  # 预测序列，错开一位\n",
        "        loss = K.sparse_categorical_crossentropy(y_true, y_pred)\n",
        "        loss = K.sum(loss * y_mask) / K.sum(y_mask)\n",
        "        return loss\n",
        "\n",
        "\n",
        "model = build_transformer_model(\n",
        "    nezha_config_path,\n",
        "    nezha_checkpoint_path,\n",
        "    model='nezha',\n",
        "    application='unilm',\n",
        "    with_mlm='linear',\n",
        "    keep_tokens=keep_tokens,  # 只保留keep_tokens中的字，精简原字表\n",
        "    compound_tokens=compound_tokens,\n",
        ")\n",
        "\n",
        "output = model.get_layer('MLM-Norm').output\n",
        "output = Dense(3, activation='softmax')(output)\n",
        "outputs = model.outputs + [output]\n",
        "\n",
        "# 预测用模型\n",
        "model = Model(model.inputs, outputs)\n",
        "\n",
        "# 训练用模型\n",
        "y_in = Input(shape=(None,))\n",
        "l_in = Input(shape=(None,))\n",
        "outputs = [y_in, model.inputs[1], l_in] + outputs\n",
        "outputs = CrossEntropy([3, 4])(outputs)\n",
        "\n",
        "train_model = Model(model.inputs + [y_in, l_in], outputs)\n",
        "\n",
        "AdamEMA = extend_with_exponential_moving_average(Adam, name='AdamEMA')\n",
        "optimizer = AdamEMA(learning_rate=2e-5, ema_momentum=0.9999)\n",
        "train_model.compile(optimizer=optimizer)\n",
        "train_model.summary()\n",
        "\n",
        "\n",
        "class AutoSummary(AutoRegressiveDecoder):\n",
        "    \"\"\"seq2seq解码器\n",
        "    \"\"\"\n",
        "    def get_ngram_set(self, x, n):\n",
        "        \"\"\"生成ngram合集，返回结果格式是:\n",
        "        {(n-1)-gram: set([n-gram的第n个字集合])}\n",
        "        \"\"\"\n",
        "        result = {}\n",
        "        for i in range(len(x) - n + 1):\n",
        "            k = tuple(x[i:i + n])\n",
        "            if k[:-1] not in result:\n",
        "                result[k[:-1]] = set()\n",
        "            result[k[:-1]].add(k[-1])\n",
        "        return result\n",
        "\n",
        "    @AutoRegressiveDecoder.wraps(default_rtype='logits', use_states=True)\n",
        "    def predict(self, inputs, output_ids, states):\n",
        "        token_ids, segment_ids = inputs\n",
        "        token_ids = np.concatenate([token_ids, output_ids], 1)\n",
        "        segment_ids = np.concatenate([segment_ids, np.ones_like(output_ids)], 1)\n",
        "        prediction = self.last_token(model).predict([token_ids, segment_ids])\n",
        "        # states用来缓存ngram的n值\n",
        "        if states is None:\n",
        "            states = [0]\n",
        "        elif len(states) == 1 and len(token_ids) > 1:\n",
        "            states = states * len(token_ids)\n",
        "        # 根据copy标签来调整概率分布\n",
        "        probas = np.zeros_like(prediction[0]) - 1000  # 最终要返回的概率分布\n",
        "        for i, token_ids in enumerate(inputs[0]):\n",
        "            if states[i] == 0:\n",
        "                prediction[1][i, 2] *= -1  # 0不能接2\n",
        "            label = prediction[1][i].argmax()  # 当前label\n",
        "            if label < 2:\n",
        "                states[i] = label\n",
        "            else:\n",
        "                states[i] += 1\n",
        "            if states[i] > 0:\n",
        "                ngrams = self.get_ngram_set(token_ids, states[i])\n",
        "                prefix = tuple(output_ids[i, 1 - states[i]:])\n",
        "                if prefix in ngrams:  # 如果确实是适合的ngram\n",
        "                    candidates = ngrams[prefix]\n",
        "                else:  # 没有的话就退回1gram\n",
        "                    ngrams = self.get_ngram_set(token_ids, 1)\n",
        "                    candidates = ngrams[tuple()]\n",
        "                    states[i] = 1\n",
        "                candidates = list(candidates)\n",
        "                probas[i, candidates] = prediction[0][i, candidates]\n",
        "            else:\n",
        "                probas[i] = prediction[0][i]\n",
        "            idxs = probas[i].argpartition(-k_sparse)\n",
        "            probas[i, idxs[:-k_sparse]] = -1000\n",
        "        return probas, states\n",
        "\n",
        "    def generate(self, text, topk=1):\n",
        "        max_c_len = maxlen - self.maxlen\n",
        "        token_ids, segment_ids = tokenizer.encode(text, maxlen=max_c_len)\n",
        "        output_ids = self.beam_search([token_ids, segment_ids],\n",
        "                                      topk)  # 基于beam search\n",
        "        return tokenizer.decode(output_ids)\n",
        "\n",
        "\n",
        "autosummary = AutoSummary(\n",
        "    start_id=tokenizer._token_start_id,\n",
        "    end_id=tokenizer._token_end_id,\n",
        "    maxlen=maxlen // 2\n",
        ")\n",
        "\n",
        "\n",
        "def evaluate(data, topk=1, filename=None):\n",
        "    \"\"\"验证集评估\n",
        "    \"\"\"\n",
        "    if filename is not None:\n",
        "        F = open(filename, 'w', encoding='utf-8')\n",
        "    total_metrics = {k: 0.0 for k in metric_keys}\n",
        "    for d in tqdm(data, desc=u'评估中'):\n",
        "        pred_summary = autosummary.generate(d['source_1'], topk)\n",
        "        metrics = compute_metrics(pred_summary, d['target'])\n",
        "        for k, v in metrics.items():\n",
        "            total_metrics[k] += v\n",
        "        if filename is not None:\n",
        "            F.write(d['target'] + '\\t' + pred_summary + '\\n')\n",
        "            F.flush()\n",
        "    if filename is not None:\n",
        "        F.close()\n",
        "    return {k: v / len(data) for k, v in total_metrics.items()}\n",
        "\n",
        "\n",
        "class Evaluator(keras.callbacks.Callback):\n",
        "    \"\"\"训练回调\n",
        "    \"\"\"\n",
        "    def on_epoch_end(self, epoch, logs=None):\n",
        "        optimizer.apply_ema_weights()\n",
        "        if epoch == epochs - 1:\n",
        "          model.save_weights('weights/seq2seq_model.%s.weights' % epoch)  # 保存模型\n",
        "          model.save_weights('gdrive/MyDrive/seq2seq_model.%s.weights' % epoch)\n",
        "        optimizer.reset_old_weights()\n",
        "\n",
        "\n",
        "if __name__ == '__main__':\n",
        "\n",
        "    # 加载数据\n",
        "    data = load_data(data_seq2seq_json)\n",
        "    train_data = data_split(data, fold, num_folds, 'train')\n",
        "    valid_data = data_split(data, fold, num_folds, 'valid')\n",
        "\n",
        "    # 启动训练\n",
        "    evaluator = Evaluator()\n",
        "    train_generator = data_generator(train_data, batch_size)\n",
        "\n",
        "    train_model.fit_generator(\n",
        "        train_generator.forfit(),\n",
        "        steps_per_epoch=len(train_generator),\n",
        "        epochs=epochs,\n",
        "        callbacks=[evaluator]\n",
        "    )\n",
        "\n",
        "else:\n",
        "\n",
        "    model.load_weights('weights/seq2seq_model.%s.weights' % (epochs - 1))"
      ],
      "execution_count": null,
      "outputs": []
    },
    {
      "cell_type": "code",
      "metadata": {
        "id": "6KKAU2Qvq3y1",
        "colab": {
          "base_uri": "https://localhost:8080/"
        },
        "outputId": "050ff9f2-16f8-4da5-c6f8-0639395a40b2"
      },
      "source": [
        "# https://drive.google.com/file/d/1dLuOdt-ivpaqbkkjvBUAGVTMUoPRWQcx/view?usp=sharing\n",
        "\n",
        "# 下载训练好的模型\n",
        "! gdown --id '1dLuOdt-ivpaqbkkjvBUAGVTMUoPRWQcx'\n"
      ],
      "execution_count": null,
      "outputs": [
        {
          "output_type": "stream",
          "text": [
            "Downloading...\n",
            "From: https://drive.google.com/uc?id=1dLuOdt-ivpaqbkkjvBUAGVTMUoPRWQcx\n",
            "To: /content/seq2seq_model.849.weights\n",
            "426MB [00:01, 281MB/s]\n"
          ],
          "name": "stdout"
        }
      ]
    },
    {
      "cell_type": "code",
      "metadata": {
        "id": "d4cK9o_CyKz8",
        "colab": {
          "base_uri": "https://localhost:8080/"
        },
        "outputId": "dc10bf8e-93ff-4807-a8f5-2e5efe085eef"
      },
      "source": [
        "\n",
        "import numpy as np\n",
        "epochs = 850\n",
        "model.load_weights('./seq2seq_model.%s.weights' % (epochs - 1))\n",
        "\n",
        "def predict(text, topk=3):\n",
        "    # 抽取\n",
        "    texts = text_split(text) # convert.\n",
        "    vecs = vectorize_predict(texts)\n",
        "    preds = extract_model.predict(vecs[None])[0, :, 0]\n",
        "    preds = np.where(preds > threshold)[0]\n",
        "    summary = ''.join([texts[i] for i in preds])\n",
        "    # 生成\n",
        "    summary = autosummary.generate(summary, topk=topk)\n",
        "    # 返回\n",
        "    return summary\n",
        "\n",
        "\n",
        "import json\n",
        "import decimal\n",
        "import datetime\n",
        "import pandas as pd\n",
        "\n",
        "class DecimalEncoder(json.JSONEncoder):\n",
        "    def default(self, o):\n",
        "        if isinstance(o, decimal.Decimal):\n",
        "            return float(o)\n",
        "        elif isinstance(o, datetime.datetime):\n",
        "            return str(o)\n",
        "        super(DecimalEncoder, self).default(o)\n",
        "\n",
        "def save_json(filename, dics):\n",
        "    with open(filename, 'w', encoding='utf-8') as fp:\n",
        "        json.dump(dics, fp, indent=4, cls=DecimalEncoder, ensure_ascii=False)\n",
        "        fp.close()\n",
        "\n",
        "def load_json(filename):\n",
        "    with open(filename, encoding='utf-8') as fp:\n",
        "        js = json.load(fp)\n",
        "        fp.close()\n",
        "        return js\n",
        "\n",
        "# convert string to json \n",
        "def JsonParse(s):\n",
        "    return json.loads(s, strict=False )\n",
        "\n",
        "# convert dict to string\n",
        "def JsonString(d):\n",
        "    return json.dumps(d, cls=DecimalEncoder, ensure_ascii=False)\n",
        "\n",
        "\n",
        "dic_text = {}\n",
        "\n",
        "datas = []\n",
        "\n",
        "with open('./SPACES/datasets/valid.json', 'r', encoding='utf-8') as fp:\n",
        "  text = fp.read()\n",
        "  text = text.strip()\n",
        "  textss = text.split('\\n')\n",
        "\n",
        "  n = 0\n",
        "  for s in textss:\n",
        "    data = json.loads(s, strict=False )\n",
        "    texts = data['text']\n",
        "\n",
        "    tmp = []\n",
        "    for d in texts:\n",
        "      tmp.append( d['sentence'] )\n",
        "\n",
        "    tmptext = \"\\n\".join(tmp)\n",
        "\n",
        "    #if text in dic_text:\n",
        "    #  continue\n",
        "    #else:\n",
        "    #  dic_text[text] = True\n",
        "\n",
        "    #print(text)\n",
        "    machine_summary = predict(tmptext, topk=3)\n",
        "    #print(summary)\n",
        "    #print('#############################################\\n\\n\\n\\n\\n')\n",
        "\n",
        "    data['machine_summary'] = machine_summary\n",
        "    data['booktext'] = tmptext\n",
        "\n",
        "    datas.append(data)\n",
        "    # print(text)\n",
        "    \n",
        "    n += 1\n",
        "    \n",
        "    print( f\"{n}/{len(textss)}\" )\n",
        "    \n",
        "    #if n >= 3:\n",
        "    #  break\n",
        "\n",
        "\n",
        "tmp = []\n",
        "for d in datas:\n",
        "  tmp.append( [ d['full_name_path'], d['booktext'], d['summary'], d['machine_summary'] ] )\n",
        "\n",
        "csv = pd.DataFrame(tmp,columns=['目录','原文', '人工摘要', '机器摘要'])\n",
        "csv.to_csv('/content/summarys.csv', index=False ,encoding=\"utf-8\")\n",
        "csv.to_csv('/content/gdrive/MyDrive/summarys.csv', index=False ,encoding=\"utf-8\")\n",
        "\n",
        "#print(len(datas))\n",
        "#print(datas[1]['text'])\n",
        "#print(datas[1]['machine_summary'])\n",
        "\n",
        "\n",
        "\n",
        "\n",
        "\n",
        "  # print(json.loads(texts[1], strict=False ))\n"
      ],
      "execution_count": null,
      "outputs": [
        {
          "output_type": "stream",
          "text": [
            "1/23\n",
            "2/23\n",
            "3/23\n",
            "4/23\n",
            "5/23\n",
            "6/23\n",
            "7/23\n",
            "8/23\n",
            "9/23\n",
            "10/23\n",
            "11/23\n",
            "12/23\n",
            "13/23\n",
            "14/23\n",
            "15/23\n",
            "16/23\n",
            "17/23\n",
            "18/23\n",
            "19/23\n",
            "20/23\n",
            "21/23\n",
            "22/23\n",
            "23/23\n"
          ],
          "name": "stdout"
        }
      ]
    },
    {
      "cell_type": "code",
      "metadata": {
        "id": "CmC2A_KBprBk",
        "colab": {
          "base_uri": "https://localhost:8080/"
        },
        "outputId": "13e86283-2e73-4486-f208-49c5a3e9e56e"
      },
      "source": [
        "intext = \"\"\"\"\"\"\"\n",
        "\n",
        "sssss = predict(intext, topk=3)\n",
        "\n",
        "print(sssss)\n"
      ],
      "execution_count": null,
      "outputs": [
        {
          "output_type": "stream",
          "text": [
            "茎木类中药（1）药用部位为木本植物的茎藤或仅用其木材部分，少数为草本植物茎藤，这类中药称茎木类中药】。（2）实际上应属于两类，即茎类中药和木类中药。\n"
          ],
          "name": "stdout"
        }
      ]
    },
    {
      "cell_type": "markdown",
      "metadata": {
        "id": "hRH65rs2z5IF"
      },
      "source": [
        ""
      ]
    }
  ]
}